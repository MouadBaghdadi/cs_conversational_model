{
 "cells": [
  {
   "cell_type": "code",
   "execution_count": 1,
   "metadata": {},
   "outputs": [],
   "source": [
    "import tensorflow as tf\n",
    "import tensorlayer as tl\n",
    "from tensorlayer.layers import DenseLayer, EmbeddingInputlayer, retrieve_seq_length_op2\n",
    "from tensorlayer.models.seq2seq import Seq2seq \n",
    "from nltk.tokenize import  word_tokenize\n",
    "from sklearn.utils import shuffle\n",
    "from tqdm import tqdm\n",
    "import numpy as np\n",
    "import pickle \n",
    "# from data.data import load_data"
   ]
  },
  {
   "cell_type": "code",
   "execution_count": 2,
   "metadata": {},
   "outputs": [],
   "source": [
    "path = './data/'"
   ]
  },
  {
   "cell_type": "code",
   "execution_count": 3,
   "metadata": {},
   "outputs": [],
   "source": [
    "def load_data(path):\n",
    "\t# read data control dictionaries\n",
    "\ttry:\n",
    "\t\twith open(path + 'metadata.pkl', 'rb') as f:\n",
    "\t\t\tmetadata = pickle.load(f)\n",
    "\texcept:\n",
    "\t\tmetadata = None\n",
    "\t# read numpy arrays\n",
    "\tidx_q = np.load(path + 'idx_q.npy', encoding = 'latin1')\n",
    "\tidx_a = np.load(path + 'idx_a.npy', encoding = 'latin1')\n",
    "\treturn metadata, idx_q, idx_a"
   ]
  },
  {
   "cell_type": "code",
   "execution_count": 4,
   "metadata": {},
   "outputs": [],
   "source": [
    "with open('./data/metadata.pkl', 'rb') as f:\n",
    "\tmetadata = pickle.load(f)"
   ]
  },
  {
   "cell_type": "code",
   "execution_count": 5,
   "metadata": {},
   "outputs": [
    {
     "name": "stdout",
     "output_type": "stream",
     "text": [
      "{'w2idx': {'_': 0, 'unk': 1, 'the': 2, 'a': 3, 'is': 4, 'of': 5, 'algorithm': 6, 'to': 7, 'in': 8, 'what': 9, 'you': 10, 'do': 11, 'and': 12, 'by': 13, 'that': 14, 'an': 15, 'for': 16, 'are': 17, 'how': 18, 'define': 19, 'mean': 20, 'explain': 21, 'it': 22, 'or': 23, 'process': 24, 'tree': 25, 'search': 26, 'system': 27, 'time': 28, 'sort': 29, 'as': 30, 'which': 31, 'graph': 32, 'data': 33, 'be': 34, 'with': 35, 'this': 36, 'node': 37, 'list': 38, 'memory': 39, 'operating': 40, 'can': 41, 'called': 42, 'used': 43, 'one': 44, 'binary': 45, 'on': 46, 'between': 47, 'algorithms': 48, 'case': 49, 'from': 50, 'not': 51, 'set': 52, 'method': 53, 'when': 54, 'two': 55, 'each': 56, 'at': 57, 'kernel': 58, 'all': 59, 'problem': 60, 'nodes': 61, 'its': 62, 'number': 63, 'path': 64, 'program': 65, 'also': 66, 'order': 67, 'sorting': 68, 'address': 69, 'other': 70, 'bubble': 71, 'processes': 72, 'space': 73, 'any': 74, 'performance': 75, 'where': 76, 'linear': 77, 'if': 78, 'cpu': 79, 'state': 80, 'minimum': 81, 'has': 82, 'spanning': 83, 'thread': 84, 'value': 85, 'such': 86, 'selection': 87, 'queue': 88, 'points': 89, 'finding': 90, 'more': 91, 'user': 92, 'root': 93, 'systems': 94, 'linked': 95, 'they': 96, 'elements': 97, 'scheduling': 98, 'known': 99, 'find': 100, 'first': 101, 'have': 102, 'does': 103, 'structure': 104, 'only': 105, 'into': 106, 'processor': 107, 'access': 108, 'point': 109, 'worst': 110, 'stack': 111, 'computer': 112, 'function': 113, 'connected': 114, 'every': 115, 'may': 116, 'given': 117, 'no': 118, 'complexity': 119, 'edge': 120, 'most': 121, 'best': 122, 'some': 123, 'n': 124, 'same': 125, 'basic': 126, 'sequence': 127, 'file': 128, 'using': 129, 'directed': 130, 'computing': 131, 'applications': 132, 'then': 133, 'array': 134, 'programs': 135, 'execute': 136, 'distance': 137, 'but': 138, 'difference': 139, 'type': 140, 'finds': 141, 'execution': 142, 'size': 143, 'input': 144, 'shortest': 145, 'there': 146, 'without': 147, 'maximum': 148, 'page': 149, 'paging': 150, 'solution': 151, 'than': 152, 'part': 153, 'code': 154, 'conquer': 155, 'virtual': 156, 'semaphore': 157, 'sorted': 158, 'vertex': 159, 'term': 160, 'programming': 161, 'different': 162, 'convex': 163, 'possible': 164, 'items': 165, 'dynamic': 166, 'common': 167, 'main': 168, 'technique': 169, 'key': 170, 'os': 171, 'vertices': 172, 'multiple': 173, 'on2': 174, 'allows': 175, 'element': 176, 'run': 177, 'compute': 178, 'physical': 179, 'particular': 180, 'usually': 181, 'machine': 182, 'multitasking': 183, 'waiting': 184, 'operation': 185, 'provides': 186, 'efficient': 187, 'way': 188, 'average': 189, 'problems': 190, 'disk': 191, 'software': 192, 'efficiency': 193, 'smp': 194, 'their': 195, 'structures': 196, 'swapping': 197, 'management': 198, 'fast': 199, 'real': 200, 'use': 201, 'end': 202, 'threads': 203, 'contains': 204, 'mode': 205, 'purpose': 206, 'lists': 207, 'operations': 208, 'types': 209, 'level': 210, 'short': 211, 'we': 212, 'amount': 213, 'executing': 214, 'them': 215, 'out': 216, 'io': 217, 'simple': 218, 'will': 219, 'hull': 220, 'divide': 221, 'undirected': 222, 'discrete': 223, 'so': 224, 'network': 225, 'strings': 226, 'until': 227, 'allocated': 228, 'based': 229, 'internal': 230, 'required': 231, 'addresses': 232, 'because': 233, 'takes': 234, 'information': 235, 'condition': 236, 'while': 237, 'heuristic': 238, 'device': 239, 'solve': 240, 'complete': 241, 'pages': 242, 'runs': 243, 'useful': 244, 'processors': 245, 'hardware': 246, 'next': 247, 'strongly': 248, 'preemptive': 249, 'pointer': 250, 'polynomial': 251, 'being': 252, 'instructions': 253, 'resource': 254, 'socket': 255, 'traversing': 256, 'scheduler': 257, 'unit': 258, 'needed': 259, 'sequences': 260, 'once': 261, 'these': 262, 'depth': 263, 'new': 264, 'important': 265, 'optimal': 266, 'phonetic': 267, 'design': 268, 'substring': 269, 'commands': 270, 'nt': 271, 'control': 272, 'mathematical': 273, 'longest': 274, 'multiplication': 275, 'windows': 276, 'leaf': 277, 'over': 278, 'variable': 279, 'smallest': 280, 'another': 281, 'field': 282, 'resources': 283, 'thrashing': 284, 'degree': 285, 'fragmentation': 286, 'small': 287, 'deadlock': 288, 'micro': 289, 'item': 290, 'second': 291, 'available': 292, 'numerical': 293, 'associated': 294, 'plane': 295, 'should': 296, 'children': 297, 'string': 298, 'logical': 299, 'give': 300, 'during': 301, 'refers': 302, 'jobs': 303, 'referred': 304, 'solutions': 305, 'result': 306, 'traversal': 307, 'right': 308, 'processing': 309, 'output': 310, 'contain': 311, 'growth': 312, 'functions': 313, 'external': 314, 'components': 315, 'occur': 316, 'register': 317, 'monolithic': 318, 'considered': 319, 'hash': 320, 'table': 321, 'left': 322, 'parallel': 323, 'create': 324, 'finite': 325, 'eg': 326, 'means': 327, 'line': 328, 'example': 329, 'long': 330, 'comparison': 331, 'matching': 332, 'multiprocessing': 333, 'uses': 334, 'euclidean': 335, 'o1': 336, 'certain': 337, 'p': 338, 'edges': 339, 'performed': 340, 'object': 341, 'scheme': 342, 'several': 343, 'total': 344, 'very': 345, 'communicate': 346, 'recursive': 347, 'many': 348, '1': 349, 'merge': 350, 'quadratic': 351, 'trees': 352, 'files': 353, 'subtree': 354, 'stored': 355, 'theory': 356, 'numbers': 357, 'reliability': 358, 'collection': 359, 'utilization': 360, 'server': 361, 'direct': 362, 'height': 363, 'demand': 364, 'expression': 365, 'pair': 366, 'recursion': 367, 'weighted': 368, 'null': 369, 'adjacent': 370, 'within': 371, 'weight': 372, 'services': 373, 'like': 374, 'connects': 375, 'form': 376, 'ram': 377, 'daemon': 378, 'soundex': 379, 'interpolation': 380, 'sweep': 381, 'division': 382, 'status': 383, 'ubuntu': 384, 'assembler': 385, 'spooling': 386, 'clique': 387, 'resident': 388, 'about': 389, 'starvation': 390, 'trap': 391, 'trapdoor': 392, 'insertion': 393, 'storage': 394, 'relationship': 395, 'including': 396, 'single': 397, 'executed': 398, 'proportional': 399, 'language': 400, 'active': 401, 'clustering': 402, 'synchronization': 403, 'realtime': 404, 'back': 405, 'make': 406, 'found': 407, 'interrupt': 408, 'running': 409, 'values': 410, 'sometimes': 411, 'actually': 412, 'always': 413, 'work': 414, 'queues': 415, 'sharing': 416, 'folder': 417, 'large': 418, 'methods': 419, 'b': 420, 'heap': 421, 'allocation': 422, 'well': 423, 'job': 424, 'fit': 425, 'portion': 426, 'approach': 427, 'hashing': 428, 'write': 429, 'threaded': 430, 'switch': 431, 'serial': 432, 'analysis': 433, 'reduces': 434, 'whose': 435, 'specifies': 436, 'pointers': 437, 'devices': 438, 'up': 439, 'integer': 440, 'ready': 441, 'computes': 442, 'goal': 443, 'least': 444, 'n2': 445, 'completed': 446, 'bestfirst': 447, 'subsequence': 448, 'caching': 449, 'cycle': 450, 'rule': 451, 'collision': 452, 'beam': 453, 'box': 454, 'separate': 455, 'those': 456, 'need': 457, 'switching': 458, 'schedulers': 459, 'greedy': 460, 'implementation': 461, 'under': 462, 'speed': 463, 'pairs': 464, 'defined': 465, 'current': 466, 'kth': 467, 'digits': 468, 'v': 469, 'equation': 470, 'class': 471, 'remainder': 472, 'symmetric': 473, 'assigned': 474, 'subset': 475, 'record': 476, 'preceding': 477, 'priority': 478, 'application': 479, 'circular': 480, 'situation': 481, 'determine': 482, 'command': 483, 'minimal': 484, 'various': 485, 'techniques': 486, 'front': 487, 'terminal': 488, 'general': 489, 'stacks': 490, 'parts': 491, 'abstract': 492, 'g': 493, 'store': 494, 'limited': 495, 'computational': 496, 'both': 497, 'units': 498, 'modular': 499, 'square': 500, 'advantage': 501, 'empty': 502, 'id': 503, 'determines': 504, 'working': 505, 'throughput': 506, 'completion': 507, 'property': 508, 'loop': 509, 'designed': 510, 'computers': 511, 'model': 512, 'corresponding': 513, 'ie': 514, 'combination': 515, 'flow': 516, 'environment': 517, 'x': 518, 'integers': 519, 'constraints': 520, 'determining': 521, 'science': 522, 'global': 523, 'singlylinked': 524, 'must': 525, 'delaunay': 526, 'constant': 527, 'exponential': 528, 'parent': 529, 'sequential': 530, 'measure': 531, 'start': 532, 'indexing': 533, 'length': 534, 'prime': 535, 'cache': 536, 'high': 537, 'interface': 538, 'polynomials': 539, 'positive': 540, 'area': 541, 'triangulation': 542, 'traverse': 543, 'get': 544, 'basis': 545, 'acts': 546, 'written': 547, 'blocks': 548, 'read': 549, 'instance': 550, 'counter': 551, 'inserted': 552, 'polygon': 553, 'nearest': 554, 'partition': 555, 'topological': 556, 'euler': 557, 'rr': 558, 'idle': 559, 'incremental': 560, 'asymmetric': 561, 'c': 562, 'precision': 563, 'distributed': 564, 'increasing': 565, 'bounding': 566, 'nos': 567, 'prefix': 568, 'cannibalizing': 569, 'factor': 570, 'multiprocessor': 571, 'permutation': 572, 'logarithm': 573, 'calls': 574, '2': 575, 'viewed': 576, 'users': 577, 'interaction': 578, 'child': 579, 'similarity': 580, 'figure': 581, '7': 582, 'diagram': 583, 'interval': 584, 'makes': 585, 'phenomenon': 586, 'spends': 587, 'rather': 588, 'connection': 589, 'ordering': 590, 'graphs': 591, 'computation': 592, 'equal': 593, 'timesharing': 594, 'around': 595, 'printer': 596, 'core': 597, 'pronounced': 598, 'occurs': 599, 'request': 600, 'identical': 601, 'copy': 602, 'olog': 603, 'similar': 604, 'having': 605, 'efficiently': 606, 'image': 607, 'sum': 608, 'manner': 609, 'solves': 610, 'dealing': 611, 'randomized': 612, 'entry': 613, 'wait': 614, 'export': 615, 'concept': 616, 'index': 617, 'backtracking': 618, 'fault': 619, 'error': 620, 'generated': 621, 'initial': 622, 'service': 623, 'increased': 624, 'support': 625, 'through': 626, 'mutual': 627, 'exclusion': 628, 'especially': 629, 'requires': 630, 'requirements': 631, 'containing': 632, 'return': 633, 'response': 634, 'paradigm': 635, 'quick': 636, 'disadvantages': 637, 'quantum': 638, 'local': 639, 'searching': 640, 'notations': 641, 'arithmetic': 642, 'bankers': 643, 'represent': 644, 'behind': 645, 'generation': 646, 'counting': 647, 'monitor': 648, 'designing': 649, 'related': 650, 'specified': 651, 'critical': 652, 'subtrees': 653, '10': 654, 'would': 655, 'includes': 656, '3': 657, 'text': 658, 'keep': 659, 'info': 660, 'either': 661, 'exist': 662, 'distinct': 663, 'less': 664, 'visiting': 665, 'special': 666, 'considerable': 667, 'instruction': 668, 'actual': 669, 'communication': 670, 'optimization': 671, 'component': 672, 'double': 673, 'primary': 674, 'whether': 675, 'done': 676, 'parameters': 677, 'postfix': 678, 'relative': 679, 'compression': 680, 'sorts': 681, 'approximation': 682, 'logarithmic': 683, 'suitable': 684, 'registers': 685, 'auxiliary': 686, 'words': 687, 'roots': 688, 'lifo': 689, 'procedure': 690, 'submitted': 691, 'strategy': 692, 'include': 693, 'andor': 694, 'patterns': 695, 'build': 696, 'ability': 697, 'solving': 698, 'driver': 699, 'log': 700, 'want': 701, 'copies': 702, 'dividing': 703, 'notation': 704, '0': 705, 'relatively': 706, 'stands': 707, 'been': 708, 'normal': 709, 'insertions': 710, 'wrapping': 711, 'match': 712, 'cubic': 713, 'neighbour': 714, 'fcfs': 715, 'triangularisation': 716, 'nth': 717, 'select': 718, 'maximal': 719, 'cliques': 720, 'tarjans': 721, 'lowest': 722, 'pollards': 723, 'load': 724, 'metaphone': 725, 'turnaround': 726, 'online': 727, 'multiprogramming': 728, 'examples': 729, 'avl': 730, 'macro': 731, 'fuzzy': 732, 'wildcards': 733, 'salesman': 734, 'jump': 735, 'euclids': 736, 'beginning': 737, 'spawning': 738, 'aging': 739, 'scan': 740, 'closure': 741, 'calculus': 742, 'library': 743, 'advantages': 744, 'applied': 745, 'inverse': 746, 'nonpreemptive': 747, 'principle': 748, 'perform': 749, 'smooth': 750, 'gcd': 751, 'oriented': 752, 'bucket': 753, 'works': 754, 'simplest': 755, 'triangles': 756, 'void': 757, 'consists': 758, 'appear': 759, 'bfs': 760, 'convert': 761, 'according': 762, 'down': 763, 'names': 764, 'sound': 765, 'hermite': 766, '100': 767, 'triangulations': 768, 'action': 769, 'due': 770, 'surface': 771, 'differential': 772, 'explicit': 773, 'equations': 774, 'turn': 775, 'group': 776, 'organized': 777, 'minimized': 778, 'puts': 779, 'shows': 780, 'taking': 781, 'generate': 782, 'obtain': 783, 'goes': 784, 'allocating': 785, 'codes': 786, 'extension': 787, 'event': 788, 'period': 789, 'dispatcher': 790, 'drives': 791, 'objects': 792, 'drawing': 793, 'variant': 794, 'cost': 795, 'alignment': 796, 'fixed': 797, 'weights': 798, 'inputs': 799, 'digit': 800, 'avoid': 801, 'realmemory': 802, 'logarithms': 803, 'outside': 804, 'stable': 805, 'taken': 806, 'last': 807, 'caches': 808, 'secret': 809, 'undocumented': 810, 'grant': 811, 'authentication': 812, 'siblings': 813, 'classified': 814, 'forest': 815, 'comparisons': 816, 'static': 817, 'compiler': 818, 'member': 819, 'implement': 820, 'tasks': 821, 'approximate': 822, 'decrease': 823, 'context': 824, 'block': 825, 'achieve': 826, 'onto': 827, 'following': 828, 'criteria': 829, 'insert': 830, 'terms': 831, 'stores': 832, 'repeatedly': 833, 'fifo': 834, 'performs': 835, 'smaller': 836, 'iterations': 837, '4': 838, 'resulting': 839, 'manipulation': 840, 'simultaneously': 841, 'activity': 842, 'independent': 843, 'backing': 844, 'times': 845, 'preemption': 846, 'ordered': 847, 'specific': 848, 'allocate': 849, 'ensures': 850, 'overall': 851, 'position': 852, 'subproblems': 853, 'randomised': 854, 'uniform': 855, 'classify': 856, 'assignment': 857, 'said': 858, 'name': 859, 'replacements': 860, 'geometric': 861, 'lead': 862, 'factors': 863, 'loading': 864, 'representation': 865, 'before': 866, 'mechanisms': 867, 'never': 868, 'idea': 869, 'zombie': 870, 'batch': 871, 'fields': 872, 'raid': 873, 'd': 874, 'transform': 875, 'hierarchical': 876, 'represented': 877, 'unix': 878, 'logic': 879, 'send': 880, 'u': 881, 'purposes': 882, 'seen': 883, 'see': 884, 'directory': 885, 'together': 886, 'entire': 887, 'range': 888, 'necessarily': 889, 'although': 890, 'advance': 891, 'often': 892, 'involves': 893, 'sets': 894, 'replaced': 895, 'records': 896, 'drive': 897, 'creates': 898, 'bash': 899, 'subprocess': 900, 'executes': 901, 'among': 902, 'whereas': 903, 'whenever': 904, 'nonlinear': 905, 'voronoi': 906, 'exhaustive': 907, 'chain': 908, 'steps': 909, 'hybrid': 910, 'shell': 911, 'busy': 912, 'non': 913, 'pool': 914, 'backward': 915, 'conditions': 916, 'meaning': 917, 'brute': 918, 'force': 919, 'executive': 920, 'lock': 921, 'bidirectional': 922, 'place': 923, 'storing': 924, 'leaves': 925, 'your': 926, 'typically': 927, 'explores': 928, 'route': 929, 'organizing': 930, 'track': 931, 'much': 932, 'itself': 933, 'target': 934, 'calculating': 935, 'try': 936, 'above': 937, 'improve': 938, 'message': 939, 'progress': 940, 'searches': 941, 'arbitrary': 942, 'predecessor': 943, 'successor': 944, 'happens': 945, 'transformation': 946, 'concurrent': 947, 'bound': 948, 'characters': 949, 'avoids': 950, 'sized': 951, 'frequently': 952, 'strictly': 953, 'generally': 954, 'currently': 955, 'source': 956, 'intermediate': 957, 'wasted': 958, 'needs': 959, 'compared': 960, 'correct': 961, 'decision': 962, 'keys': 963, 'deletions': 964, 'rating': 965, 'acyclic': 966, 'strong': 967, 'migration': 968, 'circuit': 969, 'ancestors': 970, 'graceful': 971, 'degradation': 972, 'unrestricted': 973, 'introselect': 974, 'ftdisk': 975, 'reversedelete': 976, 'maxcliquedyn': 977, 'meant': 978, 'scsi': 979, 'bronkerbosch': 980, 'link': 981, 'fibonacci': 982, 'h': 983, 'bitonic': 984, 'why': 985, 'boyer': 986, 'moore': 987, 'doublylinked': 988, 'bentleyottmann': 989, 'memorymanagement': 990, 'mmu': 991, 'nonblocking': 992, 'lagrange': 993, 'burst': 994, 'fordfulkerson': 995, 'karatsuba': 996, 'intersection': 997, 'pancake': 998, 'absolute': 999, 'depthfirst': 1000, 'shuffle': 1001, 'transitive': 1002, 'dijkstras': 1003, 'breadthfirst': 1004, 'spectral': 1005, 'layout': 1006, 'drawback': 1007, 'mvt': 1008, 'splaying': 1009, 'christofides': 1010, 'after': 1011, 'gets': 1012, 'cipollas': 1013, 'spigot': 1014, 'unity': 1015, 'continuous': 1016, 'boruvkas': 1017, 'bead': 1018, 'las': 1019, 'vegas': 1020, 'cachecoherency': 1021, 'multiplicative': 1022, 'tracking': 1023, 'tonellishanks': 1024, 'pigeonhole': 1025, 'min': 1026, 'monte': 1027, 'carlo': 1028, 'pcb': 1029, 'booths': 1030, 'mutant': 1031, 'gnome': 1032, 'medium': 1033, 'gift': 1034, 'infix': 1035, 'full': 1036, 'extended': 1037, 'babystep': 1038, 'open': 1039, 'addressing': 1040, 'simplex': 1041, 'selecting': 1042, 'safe': 1043, 'section': 1044, 'states': 1045, 'expanding': 1046, 'promising': 1047, 'chosen': 1048, 'background': 1049, 'vary': 1050, 'developed': 1051, 'cycles': 1052, 'spline': 1053, 'perfect': 1054, 'statistic': 1055, 'calling': 1056, 'modulo': 1057, 'utilizing': 1058, 'region': 1059, 'quality': 1060, 'travelling': 1061, 'requests': 1062, 'transfer': 1063, 'sufficient': 1064, 'schemes': 1065, 'inordinate': 1066, 'faults': 1067, 'elapsed': 1068, 'located': 1069, 'potentially': 1070, 'mounted': 1071, 'boot': 1072, 'widely': 1073, 'opensource': 1074, 'principal': 1075, 'modifiable': 1076, 'modified': 1077, 'algorithmic': 1078, 'essence': 1079, 'quickselect': 1080, 'larger': 1081, 'integration': 1082, 'ordinary': 1083, 'naive': 1084, 'trying': 1085, 'generating': 1086, 'randomly': 1087, 'failure': 1088, 'classic': 1089, 'tolerance': 1090, 'opened': 1091, 'crashes': 1092, 'permutations': 1093, 'runningexample': 1094, 'edgeweighted': 1095, 'implicit': 1096, 'quicksort': 1097, 'roundrobin': 1098, 'primarily': 1099, 'aimed': 1100, 'setup': 1101, 'milliseconds': 1102, 'subgraph': 1103, 'everything': 1104, 'translator': 1105, 'low': 1106, 'assembly': 1107, 'mnemonic': 1108, 'translated': 1109, 'admitted': 1110, 'becomes': 1111, 'however': 1112, 'scene': 1113, 'just': 1114, 'enables': 1115, 'considers': 1116, 'knowledge': 1117, 'normally': 1118, 'printing': 1119, 'print': 1120, 'accordingly': 1121, 'subdivision': 1122, 'repeated': 1123, 'busywaiting': 1124, 'engaged': 1125, 'productive': 1126, 'toward': 1127, 'english': 1128, 'magnitude': 1129, 'operator': 1130, 'final': 1131, 'amortized': 1132, 'sublinear': 1133, 'multipleprocessor': 1134, 'checking': 1135, 'updating': 1136, 'modulus': 1137, 'change': 1138, 'dynamically': 1139, 'fashion': 1140, 'hot': 1141, 'standby': 1142, 'nothing': 1143, 'servers': 1144, 'role': 1145, 'fails': 1146, 'numbered': 1147, 'twodimensional': 1148, 'affine': 1149, 'heapsort': 1150, 'synchronize': 1151, 'improves': 1152, 'levenshtein': 1153, 'desired': 1154, 'permits': 1155, 'noncontiguous': 1156, 'varied': 1157, 'chunks': 1158, 'processormacro': 1159, 'executable': 1160, 'letter': 1161, 'decimal': 1162, 'deleted': 1163, 'share': 1164, 'specialpurpose': 1165, 'cities': 1166, 'city': 1167, 'manages': 1168, 'communications': 1169, 'ensure': 1170, 'usability': 1171, 'shapes': 1172, 'dtp': 1173, 'grbner': 1174, 'swapped': 1175, 'specialized': 1176, 'allow': 1177, 'filefolder': 1178, 'location': 1179, 'fixedsized': 1180, 'variablesized': 1181, 'intersect': 1182, 'instant': 1183, 'relate': 1184, 'variablewindow': 1185, 'signal': 1186, 'pancakes': 1187, 'turtles': 1188, 'letting': 1189, 'scheduled': 1190, 'reduce': 1191, 'composed': 1192, 'processorsvirtual': 1193, 'storagesource': 1194, 'accessing': 1195, 'congruence': 1196, 'knowing': 1197, 'processs': 1198, 'brings': 1199, 'missingand': 1200, 'hypergeometric': 1201, 'hang': 1202, 'endpoint': 1203, 'squareroot': 1204, 'squares': 1205, 'incrementally': 1206, 'valid': 1207, 'interruption': 1208, 'star': 1209, 'subproblem': 1210, 'approximately': 1211, 'inplace': 1212, 'viz': 1213, 'interview': 1214, 'candidate': 1215, 'geometry': 1216, 'convenient': 1217, 'instances': 1218, 'preorder': 1219, 'breadth': 1220, 'iterative': 1221, 'necessary': 1222, 'representing': 1223, 'expressions': 1224, 'resolution': 1225, 'huffman': 1226, 'balance': 1227, 'probing': 1228, 'calculated': 1229, 'push': 1230, 'top': 1231, 'add': 1232, 'sparse': 1233, 'identify': 1234, 'step': 1235, 'complex': 1236, 'definition': 1237, 'determined': 1238, 'construction': 1239, 'cells': 1240, 'ways': 1241, 'solved': 1242, 'made': 1243, 'managing': 1244, 'r': 1245, 'task': 1246, 'n1': 1247, 'syntax': 1248, 'blocked': 1249, 'spending': 1250, 'instead': 1251, 'hard': 1252, 'previous': 1253, 'calculation': 1254, 'rear': 1255, 'go': 1256, 'exact': 1257, 'placed': 1258, 'represents': 1259, 'starting': 1260, 'free': 1261, 'take': 1262, 'exactly': 1263, 'easier': 1264, 'ones': 1265, 'comparing': 1266, 'distribution': 1267, 'requirement': 1268, 'identifier': 1269, 'addition': 1270, 'implementing': 1271, 'pass': 1272, 'adt': 1273, 'aid': 1274, 'locks': 1275, 'differentiate': 1276, 'chaining': 1277, 'inserting': 1278, 'three': 1279, 'know': 1280, 'reset': 1281, 'dead': 1282, 'returns': 1283, 'test': 1284, 'relation': 1285, 'randomness': 1286, 'places': 1287, 'vfs': 1288, 'overlays': 1289, 'implemented': 1290, 'gain': 1291, 'booting': 1292, 'appropriate': 1293, 'named': 1294, 'dfs': 1295, 'further': 1296, 'programmer': 1297, 'managed': 1298, 'sure': 1299, 'development': 1300, 'hand': 1301, 'builtin': 1302, '5': 1303, '6': 1304, 'directly': 1305, 'subtreetraverse': 1306, 'controls': 1307, 'check': 1308, 't': 1309, 'regular': 1310, 'copied': 1311, 'applicable': 1312, 'singly': 1313, 'standard': 1314, 'amounts': 1315, 'provide': 1316, 'formed': 1317, 'segments': 1318, 'added': 1319, '23': 1320, 'variables': 1321, 'exists': 1322, 'operators': 1323, 'across': 1324, 'offset': 1325, 'accessed': 1326, 'hence': 1327, 'even': 1328, 'though': 1329, 'events': 1330, 'enough': 1331, 'terminated': 1332, 'making': 1333, 'moving': 1334, 'here': 1335, 'follows': 1336, 'easily': 1337, 'rich': 1338, 'splay': 1339, 'microkernel': 1340, 'few': 1341, 'assign': 1342, 'exploration': 1343, 'reasons': 1344, 'balancing': 1345, 'walk': 1346, 'tests': 1347, 'isempty': 1348, 'segment': 1349, 'formula': 1350, 'goals': 1351, 'straight': 1352, 'forward': 1353, 'drivers': 1354, 'areas': 1355, 'interrupts': 1356, 'fundamental': 1357, 'floydwarshall': 1358, 'merit': 1359, 'secondary': 1360, 'random': 1361, 'calculate': 1362, 'm': 1363, 'traversals': 1364, 'levels': 1365, 'e': 1366, 'uniformly': 1367, 'choices': 1368, 'pronunciation': 1369, 'unique': 1370, 'reference': 1371, 'obtained': 1372, 'uv': 1373, 'dependencies': 1374, 'capacity': 1375, 'branch': 1376, 'leads': 1377, 'demanded': 1378, 'traversed': 1379, 'operate': 1380, 'maintained': 1381, 'median': 1382, 'delete': 1383, 'kruskals': 1384, 'essential': 1385, 'versus': 1386, 'maps': 1387, 'reads': 1388, 'constructs': 1389, 'inherently': 1390, 'largest': 1391, 'nonempty': 1392, 'replacement': 1393, 'brought': 1394, 'mechanism': 1395, 'close': 1396, 'artificial': 1397, 'intelligence': 1398, 'successive': 1399, 'true': 1400, 'visible': 1401, 'exported': 1402, 'started': 1403, 'limit': 1404, 'unsorted': 1405, 'unless': 1406, 'inside': 1407, 'gives': 1408, 'deadlockavoidance': 1409, 'banking': 1410, 'bank': 1411, 'allocates': 1412, 'cash': 1413, 'longer': 1414, 'satisfy': 1415, 'customers': 1416, 'nodeassign': 1417, 'parsing': 1418, 'were': 1419, 'effect': 1420, 'controlled': 1421, 'game': 1422, 'processwaiting': 1423, 'interact': 1424, 'paths': 1425, 'adding': 1426, 'heuristics': 1427, 'maintaining': 1428, 'half': 1429, 'require': 1430, 'pi': 1431, 'positions': 1432, 'memoization': 1433, 'results': 1434, 'produces': 1435, 'cell': 1436, 'unambiguous': 1437, 'specification': 1438, 'operands': 1439, 'simpler': 1440, 'mod': 1441, 'additional': 1442, 'increases': 1443, 'additionally': 1444, 'discussed': 1445, 'assumption': 1446, 'come': 1447, 'series': 1448, 'kept': 1449, 'choice': 1450, 'operates': 1451, 'equality': 1452, 'ni': 1453, 'costsearch': 1454, 'metrics': 1455, 'ruperts': 1456, 'chudnovsky': 1457, 'dinics': 1458, 'cantorzassenhaus': 1459, 'salz': 1460, 'wildcat': 1461, 'rounding': 1462, 'kirkpatrickseidel': 1463, 'fortunes': 1464, 'offline': 1465, 'schreiersims': 1466, 'pattern': 1467, 'edmondsedmondskara': 1468, 'componets': 1469, 'exponentiation': 1470, 'kangaroo': 1471, 'toddcoxeter': 1472, 'schonhagestrassen': 1473, 'bogosort': 1474, 'dedicated': 1475, 'warnsdorffs': 1476, 'detection': 1477, 'newtonraphson': 1478, 'chans': 1479, 'lexicographic': 1480, 'predictive': 1481, 'schensted': 1482, 'better': 1483, 'rabinkarp': 1484, 'borweins': 1485, 'forcebased': 1486, 'introsoft': 1487, 'patience': 1488, 'sorter': 1489, 'partitioning': 1490, 'formatting': 1491, 'hors': 1492, 'dameraulaenshtein': 1493, 'heapnsort': 1494, 'hungarian': 1495, 'super': 1496, 'radix': 1497, 'hirschberhs': 1498, 'laplacian': 1499, 'smoothing': 1500, 'ternary': 1501, 'krauss': 1502, 'smithwaterman': 1503, 'timsort': 1504, 'johnsons': 1505, 'p1': 1506, 'traveling': 1507, 'hopcroft': 1508, 'karp': 1509, 'gilbertjohnsonkeerthi': 1510, 'describe': 1511, 'objective': 1512, 'chakravala': 1513, 'batched': 1514, 'toomcook': 1515, 'faugere': 1516, 'f4': 1517, 'shifting': 1518, 'nthroot': 1519, 'primality': 1520, 'floyd': 1521, 'warshall': 1522, 'kruscals': 1523, 'dualmode': 1524, 'jarowinkler': 1525, 'comb': 1526, 'deepening': 1527, 'fischeryates': 1528, 'baileyborwein': 1529, 'plouffe': 1530, 'oddeven': 1531, 'graham': 1532, 'kargerstein': 1533, 'marshalling': 1534, 'galegaleshapely': 1535, 'truncation': 1536, 'registration': 1537, 'gang': 1538, 'bkm': 1539, 'polling': 1540, 'hellman': 1541, 'kasanes': 1542, 'floyds': 1543, 'cyclefinding': 1544, 'gausslegendre': 1545, 'dram': 1546, 'configuration': 1547, 'birkhoff': 1548, 'gospers': 1549, 'knuth': 1550, 'morris': 1551, 'pratt': 1552, 'closest': 1553, 'turtle': 1554, 'ipc': 1555, 'hamming': 1556, 'spaghetti': 1557, 'heaps': 1558, 'ancestor': 1559, 'cone': 1560, 'exponentiating': 1561, 'squaring': 1562, 'zhu': 1563, 'takaoka': 1564, 'shoe': 1565, 'lace': 1566, 'knuthbendix': 1567, 'steinhausjohnsontrotter': 1568, 'chews': 1569, 'sibling': 1570, 'relabel': 1571, 'alpha': 1572, 'max': 1573, 'plus': 1574, 'beta': 1575, 'aspects': 1576, 'risch': 1577, 'solver': 1578, 'cocktail': 1579, 'shaker': 1580, 'sample': 1581, 'flash': 1582, 'primss': 1583, 'ukkonens': 1584, 'sss': 1585, 'ahocorasick': 1586, 'needle': 1587, 'manwunsch': 1588, 'launcher': 1589, 'buchbergers': 1590, 'ditchmokotoff': 1591, 'sounded': 1592, 'deterministic': 1593, 'lavenshtein': 1594, 'edit': 1595, 'filtered': 1596, 'projection': 1597, 'properties': 1598, 'coloring': 1599, 'rho': 1600, 'bitap': 1601, 'security': 1602, 'attributes': 1603, 'nysiis': 1604, 'bowyerwatson': 1605, 'dices': 1606, 'coefficient': 1607, 'kosrajus': 1608, 'brents': 1609, 'postman': 1610, 'rdbms': 1611, 'dos': 1612, 'strategies': 1613, 'girvannewman': 1614, 'terminate': 1615, 'shut': 1616, 'lowestcost': 1617, 'costs': 1618, 'query': 1619, 'mra': 1620, 'western': 1621, 'airlines': 1622, '1977': 1623, 'indexation': 1624, 'homophonous': 1625, 'interpolator': 1626, 'piece': 1627, 'thirddegree': 1628, 'form1': 1629, 'derivatives': 1630, 'domain': 1631, 'dissimilarity': 1632, 'score': 1633, 'consider': 1634, 'percentage': 1635, 'doing': 1636, 'callsprocess': 1637, 'invokes': 1638, 'was': 1639, 'clients': 1640, 'dinicsalgorithm': 1641, 'originates': 1642, 'ends': 1643, 'problemsolving': 1644, 'engineering': 1645, 'endpoints': 1646, 'comes': 1647, 'decompose': 1648, 'locates': 1649, 'conceptual': 1650, 'quotient': 1651, 'wastage': 1652, 'inefficiently': 1653, 'curve': 1654, 'fitting': 1655, 'unordered': 1656, 'stringsearching': 1657, 'stringmatching': 1658, 'eulers': 1659, 'rungekutta': 1660, 'base': 1661, 'bsgs': 1662, 'designs': 1663, 'pseudorandomly': 1664, 'continue': 1665, 'providing': 1666, 'hardwaresystems': 1667, 'tolerantif': 1668, 'stop': 1669, 'systemthen': 1670, 'slowerthis': 1671, 'reports': 1672, 'restrictions': 1673, 'argument': 1674, 'round': 1675, 'cosets': 1676, 'selects': 1677, 'note': 1678, 'permanent': 1679, 'introspective': 1680, 'medians': 1681, 'worstcase': 1682, 'schnhagestrassen': 1683, 'asymptotically': 1684, 'highly': 1685, 'ineffective': 1686, 'successively': 1687, 'generates': 1688, 'educational': 1689, 'contrast': 1690, 'qnxrealtime': 1691, 'arbitrarily': 1692, 'subject': 1693, 'orientation': 1694, 'duration': 1695, 'warnsdorfs': 1696, 'knights': 1697, 'tour': 1698, 'partitionexchange': 1699, 'serving': 1700, 'systematic': 1701, 'placing': 1702, 'cant': 1703, 'systemit': 1704, 'activitiesit': 1705, 'klik': 1706, 'klk': 1707, 'induced': 1708, 'combines': 1709, 'aspect': 1710, 'microkernelexample': 1711, 'microsoft': 1712, 'included': 1713, 'attempt': 1714, 'indices': 1715, 'swap': 1716, 'solids': 1717, 'powers': 1718, 'facilitates': 1719, 'switches': 1720, 'pace': 1721, 'outputsensitive': 1722, '3dimensional': 1723, 'planar': 1724, 'higherdimension': 1725, 'simplices': 1726, 'binarylike': 1727, 'dictionary': 1728, 'interpolated': 1729, 'submission': 1730, 'threeway': 1731, 'young': 1732, 'tableaux': 1733, 'seem': 1734, '1p': 1735, 'diconnected': 1736, 'reachable': 1737, 'visited': 1738, 'combine': 1739, 'domains': 1740, 'incompletely': 1741, 'piecebypiece': 1742, 'fed': 1743, 'optical': 1744, 'scanners': 1745, 'tape': 1746, 'competing': 1747, 'technology': 1748, 'ide': 1749, 'integrated': 1750, 'electronics': 1751, 'undergone': 1752, 'inwhich': 1753, 'forcedirected': 1754, 'aestheticallypleasing': 1755, 'begin': 1756, 'exceeds': 1757, 'narrows': 1758, 'locations': 1759, 'sh': 1760, 'shsh1sh21': 1761, 'h0': 1762, 'sh1': 1763, 'mergesort': 1764, 'building': 1765, 'creating': 1766, 'infinite': 1767, 'simplification': 1768, 'boyermoore': 1769, 'dameraulevenshtein': 1770, 'scientific': 1771, 'pick': 1772, 'remaining': 1773, 'integrates': 1774, 'ai': 1775, 'configurations': 1776, 'intention': 1777, 'physicaladdress': 1778, 'routine': 1779, 'cases': 1780, 'routines': 1781, 'supersequence': 1782, 'subsequences': 1783, 'degrees': 1784, 'truth': 1785, 'usual': 1786, 'false': 1787, 'measured': 1788, 'polygonal': 1789, 'mesh': 1790, 'accuracy': 1791, 'allowed': 1792, 'processprocesses': 1793, 'decreasing': 1794, 'vice': 1795, 'versa': 1796, 'endit': 1797, 'obeys': 1798, 'listing': 1799, 'crossings': 1800, 'constituent': 1801, 'affecting': 1802, 'nonrecursive': 1803, 'relocation': 1804, 'sent': 1805, 'memorythe': 1806, 'deals': 1807, 'sees': 1808, 'adaptative': 1809, 'derived': 1810, 'python': 1811, 'java': 1812, 'se': 1813, 'enclosing': 1814, 'algebraicgroup': 1815, 'factorisation': 1816, '12': 1817, 'retrieving': 1818, 'connect': 1819, 'outputs': 1820, 'slow': 1821, 'distances': 1822, 'visits': 1823, 'origin': 1824, 'reliable': 1825, 'computationally': 1826, 'inefficient': 1827, 'bipartite': 1828, 'cardinality': 1829, 'controlling': 1830, 'mutexsemaphoresmonitorscondition': 1831, 'regions': 1832, 'delone': 1833, 'circumcircle': 1834, 'triangle': 1835, 'envelope': 1836, 'reals': 1837, 'cyclic': 1838, 'indeterminate': 1839, 'pells': 1840, 'compact': 1841, 'trie': 1842, 'protected': 1843, 'indicates': 1844, 'mentions': 1845, 'f5': 1846, 'room': 1847, 'extraction': 1848, 'utilizes': 1849, 'polish': 1850, 'nature': 1851, 'greatest': 1852, 'divisor': 1853, 'converts': 1854, 'compilation': 1855, 'lexical': 1856, 'optimized': 1857, 'minimumspanningtree': 1858, 'protect': 1859, 'malfunctioning': 1860, 'evolvedsystem': 1861, 'pop': 1862, 'lines': 1863, 'regardless': 1864, 'colloquial': 1865, 'disordered': 1866, 'spatula': 1867, 'flip': 1868, 'eliminate': 1869, 'near': 1870, 'elementary': 1871, 'suppose': 1872, 'findx': 1873, 'changed': 1874, 'bruteforce': 1875, 'obstacle': 1876, 'doesnt': 1877, 'initiated': 1878, 'originally': 1879, 'interconnections': 1880, 'grahams': 1881, 'per': 1882, 'unitturnaround': 1883, 'queueresponse': 1884, 'nternal': 1885, '736': 1886, '9': 1887, 'kargers': 1888, 'cut': 1889, 'packaging': 1890, 'sending': 1891, 'boundaries': 1892, 'marriage': 1893, 'probabilistic': 1894, 'subroutines': 1895, 'numeric': 1896, 'rigidtime': 1897, 'optimally': 1898, 'align': 1899, 'removing': 1900, 'lightweight': 1901, 'comprises': 1902, '1to1': 1903, 'closely': 1904, 'blocking': 1905, 'minimize': 1906, 'predated': 1907, 'processesaging': 1908, 'reciprocal': 1909, 'abelian': 1910, 'features': 1911, 'debuggingwhen': 1912, 'separately': 1913, 'appears': 1914, 'actively': 1915, 'moved': 1916, 'towards': 1917, 'maintain': 1918, 'regarding': 1919, 'saves': 1920, 'simplifies': 1921, 'extent': 1922, 'subarray': 1923, 'quickhull': 1924, 'capacitance': 1925, 'voltages': 1926, 'hit': 1927, 'quantities': 1928, 'approximationssuch': 1929, 'studied': 1930, 'interfaces': 1931, 'sums': 1932, 'themselves': 1933, 'bypasses': 1934, 'reexamination': 1935, 'matched': 1936, 'organization': 1937, 'beads': 1938, 'slide': 1939, 'poles': 1940, 'abacus': 1941, 'straightforward': 1942, 'gapped': 1943, 'gaps': 1944, 'accelerate': 1945, 'subsequent': 1946, 'informs': 1947, 'immediately': 1948, 'reflected': 1949, 's': 1950, 'held': 1951, 'requiring': 1952, 'lowlevel': 1953, 'interchange': 1954, 'built': 1955, 'abandoned': 1956, 'finestgrained': 1957, 'invoked': 1958, 'prioritized': 1959, 'highest': 1960, 'utilizednonpreemptive': 1961, 'enters': 1962, 'finishes': 1963, 'leastcost': 1964, 'bigger': 1965, 'variety': 1966, 'described': 1967, 'rewriting': 1968, 'pathfinding': 1969, 'shanks': 1970, 'ressol': 1971, 'r2': 1972, 'transferring': 1973, 'saving': 1974, 'old': 1975, 'saved': 1976, 'transposing': 1977, 'quickly': 1978, 'constrained': 1979, 'remembers': 1980, 'caller': 1981, 'knows': 1982, 'whom': 1983, 'siblingsbrothers': 1984, 'figurenodes': 1985, 'othernodes': 1986, 'balanced': 1987, 'smoothsort': 1988, 'upper': 1989, 'searched': 1990, 'family': 1991, 'produce': 1992, 'indefinite': 1993, 'antiderivatives': 1994, 'belongs': 1995, 'globbing': 1996, 'wildcard': 1997, 'expressed': 1998, 'wellformed': 1999, 'formulas': 2000, 'wffs': 2001, 'horn': 2002, 'clauses': 2003, 'constitute': 2004, 'sources': 2005, 'axioms': 2006, 'sinks': 2007, 'conclusions': 2008, 'incorrect': 2009, 'probability': 2010, 'alternately': 2011, 'power': 2012, 'already': 2013, 'samplesort': 2014, 'logb': 2015, 'k': 2016, 'bk': 2017, 'flashsort': 2018, 'showing': 2019, 'little': 2020, 'prims': 2021, 'jarnks': 2022, 'lineartime': 2023, 'constructing': 2024, 'suffix': 2025, 'lower': 2026, 'overlap': 2027, 'employs': 2028, 'allotted': 2029, 'pertaining': 2030, 'military': 2031, 'satellites': 2032, 'matches': 2033, 'advantageous': 2034, 'whole': 2035, 'fullfledged': 2036, 'respond': 2037, 'successfully': 2038, 'multiplies': 2039, 'signed': 2040, 'twos': 2041, 'complement': 2042, 'treebased': 2043, 'nodeanode': 2044, 'figure2511': 2045, 'sling': 2046, 'increment': 2047, 'effective': 2048, 'notion': 2049, 'ownership': 2050, 'daitchmokotoff': 2051, 'dm': 2052, 'questions': 2053, 'asked': 2054, 'redundant': 2055, 'disks': 2056, 'redundantly': 2057, 'comparisonbased': 2058, 'keeps': 2059, 'served': 2060, 'proper': 2061, 'swaps': 2062, 'de': 2063, 'metric': 2064, '2dimensional': 2065, 'radon': 2066, 'notably': 2067, 'constraint': 2068, 'satisfaction': 2069, 'builds': 2070, 'candidates': 2071, 'abandons': 2072, 'backtracks': 2073, 'soon': 2074, 'possibly': 2075, 'relates': 2076, 'suspended': 2077, 'swappingin': 2078, 'colouring': 2079, 'locally': 2080, 'stage1': 2081, 'intent': 2082, 'optimum': 2083, 'expected': 2084, 'composite': 2085, 'factorized': 2086, 'mst': 2087, 'theability': 2088, 'debugging': 2089, 'intermediary': 2090, 'bin': 2091, 'distributing': 2092, 'buckets': 2093, 'recursively': 2094, 'dimensions': 2095, 'substrings': 2096, 'jaccard': 2097, 'ax': 2098, 'giantstep': 2099, 'meetinthemiddle': 2100, 'kosarajus': 2101, 'kosarajusharir': 2102, 'inequality': 2103, 'producing': 2104, 'reconstruct': 2105, 'unstructured': 2106, 'cloud': 2107, 'iterators': 2108, 'grid': 2109, 'variablesvoid': 2110, 'sizenull': 2111, 'ptr': 2112, 'theoretically': 2113, 'writes': 2114, 'rational': 2115, 'causes': 2116, 'canonical': 2117, 'rabbits': 2118, 'itselfis': 2119, '6a': 2120, 'dispatchable': 2121, 'temporal': 2122, 'encoding': 2123, 'detect': 2124, 'communities': 2125, 'rendezvous': 2126, 'arise': 2127, 'disjoint': 2128, 'enumeration': 2129, 'paradigms': 2130, 'optimisation': 2131, 'parenthesis': 2132, 'actions': 2133, 'descendant': 2134, 'overflow': 2135, 'semaphores': 2136, 'multithreaded': 2137, 'entries': 2138, 'manager': 2139, 'articulation': 2140, 'draw': 2141, 'four': 2142, 'malloc': 2143, 'c2': 2144, 'btree': 2145, 'f': 2146, 'equivalent': 2147, 'statement': 2148, 'typical': 2149, 'ddks': 2150, 'functional': 2151, 'tablesize': 2152, 'generic': 2153, 'difficult': 2154, 'almost': 2155, 'reach': 2156, 'upon': 2157, 'character': 2158, 'roottraverse': 2159, 'passing': 2160, 'sender': 2161, 'receiver': 2162, 'delivered': 2163, 'protection': 2164, 'responsiveness': 2165, 'architecture': 2166, 'guessing': 2167, 'hold': 2168, 'depends': 2169, 'etc': 2170, 'handle': 2171, 'simultaneous': 2172, 'unlike': 2173, 'holds': 2174, 'involved': 2175, 'closer': 2176, 'occupied': 2177, 'nodemake': 2178, 'notationpostfix': 2179, 'except': 2180, 'closed': 2181, 'entities': 2182, 'removed': 2183, 'runtime': 2184, 'correctness': 2185, 'rules': 2186, 'anywhere': 2187, 'biconnected': 2188, 'automated': 2189, 'reasoning': 2190, 'creation': 2191, 'deletion': 2192, 'alternative': 2193, 'fg': 2194, 'managementmemory': 2195, 'merging': 2196, 'help': 2197, 'easy': 2198, 'nonleaf': 2199, 'wrong': 2200, 'w': 2201, 'vw': 2202, 'nodetraverse': 2203, 'parityraid': 2204, '8': 2205, 'timestorage': 2206, 'spaceprogramming': 2207, 'effort': 2208, 'currentnode': 2209, 'restricted': 2210, 'tr': 2211, 'rightskewed': 2212, 'issues': 2213, 'briefly': 2214, 'rabbit': 2215, 'datastructure': 2216, 'weakly': 2217, 'suspension': 2218, 'rings': 2219, 'benefits': 2220, 'multi': 2221, 'prerequisite': 2222, 'installing': 2223, 'could': 2224, 'detectionalgorithm': 2225, 'utilized': 2226, 'avoidance': 2227, 'readwrite': 2228, 'differ': 2229, 'postorder': 2230, 'interpreter': 2231, 'evaluation': 2232, 'forms': 2233, 'persistent': 2234, 'ephemeral': 2235, 'employee': 2236, 'nonterminal': 2237, 'variants': 2238, 'pipe': 2239, 'reduced': 2240, 'termination': 2241, 'mention': 2242, 'extensively': 2243, 'reached': 2244, 'underflow': 2245, 'indegree': 2246, 'prepaging': 2247, 'approximations': 2248, 'removes': 2249, 'implementations': 2250, 'subcomponents': 2251, 'multilinked': 2252, 'matrix': 2253, 'carried': 2254, 'frames': 2255, 'bellmanford': 2256, 'rightin': 2257, 'cursor': 2258, 'major': 2259, 'primitive': 2260, 'nonprimitive': 2261, 'kinds': 2262, 'processed': 2263, 'arrays': 2264, 'inorder': 2265, 'microkernels': 2266, 'reduction': 2267, 'examplefiletxt': 2268, 'console': 2269, '98': 2270, 'coupled': 2271, 'leak': 2272, 'leftin': 2273, 'daemons': 2274, 'ntfs': 2275, 'nondeterministic': 2276, 'residence': 2277, 'monitors': 2278, 'feature': 2279, 'folding': 2280, 'bits': 2281, 'attached': 2282, 'simulation': 2283, 'computerserver': 2284, 'provisions': 2285, 'update': 2286, 'firstcome': 2287, 'firstserved': 2288, 'dont': 2289, 'elementseg': 2290, 'activities': 2291, 'probe': 2292, 'constants': 2293, 'symbol': 2294, 'followsvisit': 2295, 'spent': 2296, 'intervals': 2297, 'later': 2298, 'followstraverse': 2299, 'subtreevisit': 2300, 'incoming': 2301, 'relevant': 2302, 'policy': 2303, 'frame': 2304, 'latter': 2305, 'partitions': 2306, 'swappinginteractive': 2307, 'lista': 2308, 'preparatory': 2309, 'installed': 2310, 'properly': 2311, 'designating': 2312, 'arenumber': 2313, 'listsapplications': 2314, 'contiguous': 2315, 'situations': 2316, 'likely': 2317, 'affected': 2318, 'loaded': 2319, 'infrequently': 2320, 'occurring': 2321, 'stays': 2322, 'understood': 2323, 'greater': 2324, 'evenly': 2325, 'maximized': 2326, 'occupies': 2327, 'getting': 2328, 'compactness': 2329, 'reverse': 2330, 'nonsharable': 2331, 'retain': 2332, 'performing': 2333, 'nullmake': 2334, 'display': 2335, 'returning': 2336, 'notationprefix': 2337, 'helps': 2338, 'rigid': 2339, 'isallocate': 2340, 'subtreeprocess': 2341, 'increase': 2342, 'save': 2343, 'money': 2344, 'finally': 2345, 'union': 2346, 'atlf2': 2347, '2345': 2348, 'createdrunning': 2349, 'executedwaiting': 2350, 'occurready': 2351, 'processorterminate': 2352, 'maybe': 2353, 'manufactured': 2354, 'companies': 2355, 'prevents': 2356, 'conflicts': 2357, 'incorporated': 2358, 'nearly': 2359, 'designoperating': 2360, 'systemdatabase': 2361, 'sends': 2362, 'notification': 2363, 'wants': 2364, 'handler': 2365, 'receives': 2366, 'tells': 2367, 'client': 2368, 'shown': 2369, 'figureeach': 2370, 'topmost': 2371, 'yes': 2372, 'descending': 2373, 'now': 2374, 'retrieve': 2375, 'exception': 2376, 'involve': 2377, 'worry': 2378, 'movement': 2379, 'messages': 2380, 'treearithmetic': 2381, 'evaluationsorting': 2382, 'appendnode': 2383, 'side': 2384, 'distinguished': 2385, 'redirector': 2386, 'servercache': 2387, 'managerfile': 2388, 'systemsnetwork': 2389, 'defining': 2390, 'clean': 2391, 'filerepresentation': 2392, 'vnode': 2393, 'designator': 2394, 'removal': 2395, 'abc': 2396, 'ab': 2397, 'enable': 2398, 'coordinates': 2399, 'functionalities': 2400, 'systemresource': 2401, 'utilizationresource': 2402, 'allocationprocess': 2403, 'managementfile': 2404, 'managementio': 2405, 'divided': 2406, 'provided': 2407, 'utilize': 2408, 'subtraction': 2409, 'naming': 2410, 'supported': 2411, 'zero': 2412, 'definitiondevelopment': 2413, 'modelspecification': 2414, 'algorithmdesigning': 2415, 'algorithmchecking': 2416, 'algorithmanalysis': 2417, 'algorithmimplementation': 2418, 'algorithmprogram': 2419, 'testingdocumentation': 2420, 'preparation': 2421, 'decide': 2422, 'identifying': 2423, 'assures': 2424, 'managementdevice': 2425, 'structuresnetwork': 2426, 'graphhierarchical': 2427, 'tried': 2428, 'big': 2429, 'areit': 2430, 'computeit': 2431, 'corresponds': 2432, 'shall': 2433, 'int': 2434, 'systemsmultiprogrammed': 2435, 'systemstimesharing': 2436, 'expensive': 2437, 'childrenall': 2438, 'hashes': 2439, 'cluster': 2440, 'dequeue': 2441, '1014': 2442, 'nodesn3': 2443, 'blockinterleaved': 2444, 'causing': 2445, 'kb': 2446, 'filename': 2447, 'exampl1txt': 2448, 'reason': 2449, 'filenames': 2450, 'processthey': 2451, 'peer': 2452, 'algorithminorderrootifrootnull': 2453, 'exitinorderleft': 2454, 'rootvisitrootinorderright': 2455, 'adts': 2456, 'via': 2457, 'functiontruncation': 2458, 'methodmodular': 2459, 'methodmid': 2460, 'methodfolding': 2461, 'conceptions': 2462, 'mark': 2463, 'remains': 2464, 'contained': 2465, 'goto': 2466, 'marked': 2467, 'accumulatorsindex': 2468, 'registersstack': 2469, 'prior': 2470, 'occurred': 2471, 'deal': 2472, 'transaction': 2473, 'iteratively': 2474, 'filled': 2475, 'tl': 2476, 'hr': 2477, 'trewe': 2478, 'hamper': 2479, 'diagrams': 2480, 'importance': 2481, 'algorithmhow': 2482, 'trashing': 2483, 'complier': 2484, 'treeat': 2485, 'circularlinked': 2486, 'arrayhint': 2487, 'kind': 2488, 'unionbyweight': 2489, 'disadvantage': 2490, 'triggered': 2491, 'pcs': 2492, 'objectives': 2493, 'studying': 2494, 'modularity': 2495, 'chess': 2496, 'challenging': 2497, 'waitsignal': 2498, 'compactions': 2499, 'demandpaging': 2500, 'ship': 2501, 'faster': 2502, 'trigram': 2503, 'demerits': 2504, 'dijkstra': 2505, 'layers': 2506, 'independence': 2507, 'calloc': 2508, 'blown': 2509, 'meets': 2510, 'indexed': 2511, 'concepts': 2512, 'logics': 2513, 'rdbmsnetwork': 2514, 'stipulations': 2515, 'merits': 2516, 'constituting': 2517, 'oss': 2518, 'throw': 2519, 'light': 2520, 'bootstrap': 2521, 'enumerate': 2522, 'loosely': 2523, 'tell': 2524, 'sections': 2525, 'structurea': 2526, 'none': 2527, 'consisting': 2528, 'unused': 2529, 'own': 2530, 'limitations': 2531, 'declaration': 2532, 'biconnectivity': 2533, 'involving': 2534, 'answer': 2535, 'handled': 2536, 'recover': 2537, 'crash': 2538, 'demerit': 2539, 'outdegree': 2540, 'deleting': 2541, 'understand': 2542, 'guide': 2543, 'behavior': 2544, 'hope': 2545, 'achieving': 2546, 'good': 2547, 'coding': 2548, 'programamount': 2549, 'programthe': 2550, 'problemevent': 2551, 'fiihash2x': 2552, 'says': 2553, 'apply': 2554, 'hash2x2hash2xand': 2555, 'hash2xrxmodr': 2556, 'underlies': 2557, 'dual': 2558, 'consuminga': 2559, 'predecessors': 2560, '61234': 2561, 'precede': 2562, 'pif': 2563, 'persevered': 2564, 'again': 2565, 'floatingpoint': 2566, 'constantsstring': 2567, 'restructuring': 2568, 'moves': 2569, 'rotations': 2570, 'processesoperating': 2571, 'processesuser': 2572, 'backwardif': 2573, 'directedgraph': 2574, 'underlying': 2575, 'algorithmprims': 2576, 'functionhash': 2577, 'tables': 2578, 'ampersand': 2579, 'ptemployee0': 2580, 'projects2': 2581, 'ss1s2sk': 2582, 'ieeach': 2583, 'si': 2584, 'sj': 2585, 'sisj': 2586, 'identified': 2587, 'representative': 2588, 'requesttimingparent': 2589, 'separation': 2590, 'processeconomy': 2591, 'superposition': 2592, 'entanglement': 2593, 'category': 2594, 'gameword': 2595, 'repetitions': 2596, 'protecting': 2597, 'slower': 2598, 'mutexes': 2599, 'post': 2600, 'methodmethod': 2601, 'carries': 2602, 'implied': 2603, 'translation': 2604, 'translates': 2605, 'tower': 2606, 'hanoi': 2607, 'pivotal': 2608, 'extract': 2609, 'sortif': 2610, 'frequent': 2611, 'filethus': 2612, 'anythingit': 2613, 'bit': 2614, 'essentially': 2615, 'arrayadditional': 2616, 'who': 2617, 'consuming': 2618, 'holding': 2619, 'preempt': 2620, 'listallocate': 2621, 'graphical': 2622, 'modifications': 2623, 'searchedset': 2624, 'i0repeat': 2625, 'arriemployee': 2626, 'idincrement': 2627, 'i': 2628, '1if': 2629, 'foundelse': 2630, 'checks': 2631, 'evaluating': 2632, 'arestrictly': 2633, 'wish': 2634, 'oneway': 2635, 'hashingopen': 2636, 'word': 2637, 'feasible': 2638, 'priorities': 2639, 'requesttiming': 2640, 'graphmaintain': 2641, 'duplicate': 2642, 'web': 2643, 'pagesconstructing': 2644, 'graphdefine': 2645, 'equivalence': 2646, 'minus': 2647, 'treethe': 2648, '1the': 2649, '14': 2650, 'append': 2651, 'asinorderpreorderpostorder': 2652, 'inter': 2653, 'socketspipesshared': 2654, 'memorysignals': 2655, 'reflect': 2656, 'world': 2657, 'exceededmemory': 2658, 'unavailablebounds': 2659, 'violationprotection': 2660, 'errorarithmetic': 2661, 'errortime': 2662, 'overrunio': 2663, 'failureinvalid': 2664, 'instructionprivileged': 2665, 'instructiondata': 2666, 'misuseoperator': 2667, 'interventionparent': 2668, 'eliminateddisadvantage': 2669, 'guarantee': 2670, 'unoccupied': 2671, 'systemstatistical': 2672, 'packagenumerical': 2673, 'analysisgraphicsartificial': 2674, 'intelligencesimulation': 2675, 'retrievedfunctions': 2676, 'freedbranch': 2677, 'microprocessors': 2678, 'fir': 2679, 'front1': 2680, 'practical': 2681, 'knapsack': 2682, 'matrices': 2683, 'ramsecondary': 2684, 'subbranches': 2685, 'subbrancheshere': 2686, 'classes': 2687, 'operationsto': 2688, 'concrete': 2689, 'debug': 2690, 'routinesit': 2691, 'people': 2692, 'simultaneouslya': 2693, 'wellwritten': 2694, 'changes': 2695, 'tightly': 2696, 'semaphorescounting': 2697, 'menu': 2698, 'accessories': 2699, 'yet': 2700, 'still': 2701, 'overflowwhen': 2702, 'proof': 2703, 'induction': 2704, 'lost': 2705, 'affects': 2706, 'perfectly': 2707, 'compaction': 2708, 'collected': 2709, 'chunk': 2710, 'referenced': 2711, 'fastest': 2712, 'userresource': 2713, 'processeconomyutilization': 2714, 'stopped': 2715, 'abruptly': 2716, 'returned': 2717, 'precedenceneed': 2718, 'associativityneed': 2719, 'override': 2720, 'rearrangement': 2721, 'spelling': 2722, 'precisely': 2723, 'followsindexingencoding': 2724, 'symmetrical': 2725, 'asymmetrical': 2726, 'collect': 2727, 'nodememory': 2728, 'spaces': 2729, 'subtreesit': 2730, 'residessecondary': 2731, 'cd': 2732, 'floppy': 2733, 'magnetic': 2734, 'discs': 2735, 'listadvantages': 2736, 'default': 2737, 'introduces': 2738, 'dash': 2739, 'programsin': 2740, 'desktop': 2741, 'drag': 2742, 'requiredreadability': 2743, 'simplicity': 2744, 'classifying': 2745, 'methodology': 2746, 'separates': 2747, 'disconnect': 2748, 'processescreation': 2749, 'userscpu': 2750, 'andprocess': 2751, 'road': 2752, 'networks': 2753, 'elimnates': 2754, 'includecreation': 2755, 'listinsertion': 2756, 'nodedeletion': 2757, 'nodemodification': 2758, 'nodetraversal': 2759, 'abstraction': 2760, 'layerkernelsubsystems': 2761, 'andsystem': 2762, 'direction': 2763, 'propertyheap': 2764, 'digraph': 2765, 'natural': 2766, 'polyphase': 2767, 'replace': 2768, 'mediator': 2769, 'api': 2770, 'invoke': 2771, 'behalf': 2772, 'enhance': 2773, 'usersresource': 2774, 'processeconomicalcompletely': 2775, 'bytescalloc': 2776, 'bytes': 2777, 'initialized': 2778, 'fetching': 2779, 'converted': 2780, 'loader': 2781, 'examining': 2782, 'substructures': 2783, 'expressionit': 2784, 'visually': 2785, 'reside': 2786, 'capabilities': 2787, 'modulodivision': 2788, 'digitextraction': 2789, 'midsquare': 2790, 'pseudorandom': 2791, 'generalised': 2792, 'counts': 2793, 'languages': 2794, 'fortran': 2795, 'wherein': 2796, 'doubly': 2797, 'waits': 2798, 'resourceno': 2799, 'preempted': 2800, 'pj': 2801, 'release': 2802, 'otherwise': 2803, 'sub': 2804, 't1': 2805, 't2tk': 2806, 'repetitive': 2807, 'loops': 2808, 'enqueue': 2809, 'broadly': 2810, 'algorithmsround': 2811, 'robin': 2812, 'schedulingshortest': 2813, 'bothpriority': 2814, 'bothnonpreemptive': 2815, 'encapsulation': 2816, 'deduction': 2817, 'merely': 2818, 'mapped': 2819, 'tablesize1': 2820, 'towers': 2821, 'hanoireversing': 2822, 'stringbalanced': 2823, 'parenthesisrecursion': 2824, 'stackevaluation': 2825, 'repetition': 2826, 'stableo1': 2827, 'extra': 2828, 'spaceon2': 2829, 'swapsadaptive': 2830, 'recomputing': 2831, 'computed': 2832, 'minimalspanning': 2833, 'o': 2834, 'resolving': 2835, 'h0x': 2836, 'h1x': 2837, 'h2x': 2838, 'succession': 2839, 'hixhashxfimod': 2840, 'f00': 2841, 'definitionoperation': 2842, 'definitionexamplethe': 2843, 'zerothe': 2844, 'divides': 2845, 'stage': 2846, 'float': 2847, 'char': 2848, 'enumerated': 2849, 'discretionary': 2850, 'controlidentification': 2851, 'authenticationauditingresource': 2852, 'reuse': 2853, 'managementinterrupt': 2854, 'handlingio': 2855, 'predicted': 2856, 'writtenthe': 2857, 'declared': 2858, 'remain': 2859, 'throughout': 2860, 'indexingencoding': 2861, 'arrayone': 2862, 'triple': 2863, 'structural': 2864, 'propertiesthe': 2865, 'm2': 2866, 'forming': 2867, 'attempts': 2868, 'resolve': 2869, 'defines': 2870, 'arguments': 2871, 'passedlocal': 2872, 'initializedtransferring': 2873, 'impractical': 2874, 'traversalinorder': 2875, 'traversalpostorder': 2876, 'traversallevelorder': 2877, 'arrayswhen': 2878, 'parentchild': 2879, 'easilyit': 2880, 'undiscovered': 2881, 'explored': 2882, 'deallocation': 2883, 'integrity': 2884, 'maintenanceswapping': 2885, 'highspeed': 2886, 'temporary': 2887, 'mentioned': 2888, 'necessory': 2889, 'leaveshere': 2890, 'leave': 2891, 'elegance': 2892, 'goodness': 2893, 'call': 2894, 'basedlarger': 2895, 'footprint': 2896, 'loss': 2897, 'interfacingdifficulty': 2898, 'fixing': 2899, 'messaging': 2900, 'bugs': 2901, 'complicated': 2902, 'visit': 2903, 'transforming': 2904, 'betterknown': 2905, 'nonredundant': 2906, 'stripingraid': 2907, 'mirrored': 2908, 'disksraid': 2909, 'memorystyle': 2910, 'errorcorrecting': 2911, 'codesraid': 2912, 'bitinterleaved': 2913, 'pq': 2914, 'redundancy': 2915, 'handlers': 2916, 'vector': 2917, 'pieces': 2918, 'depending': 2919, 'reused': 2920, 'corrupt': 2921, 'systemsit': 2922, 'consist': 2923, 'clockthe': 2924, 'buses': 2925, 'telephone': 2926, 'linesit': 2927, 'centralized': 2928, 'responds': 2929, 'requestsit': 2930, 'loses': 2931, 'abstractions': 2932, 'along': 2933, 'altered': 2934, 'managementinput': 2935, 'managementstorage': 2936, 'atleast': 2937, 'addressheap': 2938, 'callocreallocdata': 2939, 'variablescode': 2940, 'content': 2941, 'sharedload': 2942, 'sharedreliability': 2943, 'improvedprovide': 2944, 'interprocess': 2945, 'systemsdistributed': 2946, 'systemsrealtime': 2947, 'refer': 2948, 'typeit': 2949, 'tool': 2950, 'specifying': 2951, 'declaring': 2952, 'arrayfor': 2953, 'grades': 2954, 'int10': 2955, 'garbage': 2956, 'minimumspanning': 2957, 'processrunning': 2958, 'processready': 2959, 'processterminated': 2960, 'pulling': 2961, 'middle': 2962, 'cheap': 2963, 'links': 2964, 'httpd': 2965, 'lpd': 2966, 'areinfix': 2967, 'explorations': 2968, 'spreading': 2969, 'independently': 2970, 'stopping': 2971, 'meet': 2972, 'functionsome': 2973, 'alternate': 2974, 'usedalternate': 2975, 'constitutes': 2976, 'largein': 2977, 'fgpostfix': 2978, 'third': 2979, 'optional': 2980, 'qualifier': 2981, 'signedunsigned': 2982, 'listidentify': 2983, 'th': 2984, 'locate': 2985, 'graphare': 2986, 'say': 2987, 'probingquadratic': 2988, 'probingdouble': 2989, 'unknowns': 2990, 'definitions': 2991, 'linkedlistcpp': 2992, 'continuously': 2993, 'costly': 2994, 'sleep': 2995, 'guaranteed': 2996, 'timesoft': 2997, 'receive': 2998, 'fortunate': 2999, 'algorithmsome': 3000, 'conditional': 3001, 'unconditional': 3002, 'exploring': 3003, 'edgeif': 3004, 'deepest': 3005, 'bak': 3006, 'kruskal': 3007, 'prim': 3008, 'sollin': 3009, 'followsmake': 3010, 'listrepeat': 3011, 'nulldisplay': 3012, 'currentnodemake': 3013, 'thr': 3014, 'directoriessupport': 3015, 'primitives': 3016, 'directories': 3017, 'manipulationbacking': 3018, 'media': 3019, 'mapping': 3020, 'arepush': 3021, 'operationpop': 3022, 'operationpeek': 3023, 'operationempty': 3024, 'checkfully': 3025, 'oneaccording': 3026, 'pointergeneral': 3027, 'seek': 3028, 'searchdepth': 3029, 'partsan': 3030, 'nodeleft': 3031, 'sideright': 3032, 'pure': 3033, 'head': 3034, 'threading': 3035, 'ever': 3036, 'combinatorial': 3037, 'medical': 3038, 'learning': 3039, 'cryptography': 3040, 'phase': 3041, 'supposed': 3042, 'alevel': 3043, 'orderd': 3044, 'scenario': 3045, 'underallocation': 3046, 'extremely': 3047, 'leading': 3048, 'poor': 3049, 'incident': 3050, 'firstinfirstout': 3051, 'starts': 3052, 'key1': 3053, 'neighbor': 3054, 'present': 3055, 'variablesize': 3056, 'piles': 3057, 'pushdown': 3058, 'lastinfirstout': 3059, 'explanation': 3060, 'transactions': 3061, 'updates': 3062, 'alteration': 3063, 'redo': 3064, 'undo': 3065, 'commit': 3066, 'logs': 3067, 'scans': 3068, 'listnote': 3069, 'guesses': 3070, 'accurate': 3071, 'statistical': 3072, 'package': 3073, 'graphics': 3074, 'excessive': 3075, 'early': 3076, 'distribute': 3077, 'hashkeykey': 3078, 'database': 3079, 'implementationindexing': 3080, 'runnin': 3081, 'waitingready': 3082, 'kits': 3083, 'sdks': 3084, 'writing': 3085, 'completely': 3086, 'bottom': 3087, 'printerreal': 3088, 'life': 3089, 'linecalls': 3090, 'companiesaccess': 3091, 'universitiesaccessing': 3092, 'iftl': 3093, 'andhl': 3094, '1where': 3095, 'hl': 3096, 'heights': 3097, 'respectively': 3098, 'architectures': 3099, 'machines': 3100, 'tabu': 3101, 'simulated': 3102, 'annealing': 3103, 'genetic': 3104, 'algorithmsapproximation': 3105, 'currentmake': 3106, 'sequencerelease': 3107, 'he': 3108, 'breaking': 3109, 'keys47669345656975468563735478077569664': 3110}, 'idx2w': ['_', 'unk', 'the', 'a', 'is', 'of', 'algorithm', 'to', 'in', 'what', 'you', 'do', 'and', 'by', 'that', 'an', 'for', 'are', 'how', 'define', 'mean', 'explain', 'it', 'or', 'process', 'tree', 'search', 'system', 'time', 'sort', 'as', 'which', 'graph', 'data', 'be', 'with', 'this', 'node', 'list', 'memory', 'operating', 'can', 'called', 'used', 'one', 'binary', 'on', 'between', 'algorithms', 'case', 'from', 'not', 'set', 'method', 'when', 'two', 'each', 'at', 'kernel', 'all', 'problem', 'nodes', 'its', 'number', 'path', 'program', 'also', 'order', 'sorting', 'address', 'other', 'bubble', 'processes', 'space', 'any', 'performance', 'where', 'linear', 'if', 'cpu', 'state', 'minimum', 'has', 'spanning', 'thread', 'value', 'such', 'selection', 'queue', 'points', 'finding', 'more', 'user', 'root', 'systems', 'linked', 'they', 'elements', 'scheduling', 'known', 'find', 'first', 'have', 'does', 'structure', 'only', 'into', 'processor', 'access', 'point', 'worst', 'stack', 'computer', 'function', 'connected', 'every', 'may', 'given', 'no', 'complexity', 'edge', 'most', 'best', 'some', 'n', 'same', 'basic', 'sequence', 'file', 'using', 'directed', 'computing', 'applications', 'then', 'array', 'programs', 'execute', 'distance', 'but', 'difference', 'type', 'finds', 'execution', 'size', 'input', 'shortest', 'there', 'without', 'maximum', 'page', 'paging', 'solution', 'than', 'part', 'code', 'conquer', 'virtual', 'semaphore', 'sorted', 'vertex', 'term', 'programming', 'different', 'convex', 'possible', 'items', 'dynamic', 'common', 'main', 'technique', 'key', 'os', 'vertices', 'multiple', 'on2', 'allows', 'element', 'run', 'compute', 'physical', 'particular', 'usually', 'machine', 'multitasking', 'waiting', 'operation', 'provides', 'efficient', 'way', 'average', 'problems', 'disk', 'software', 'efficiency', 'smp', 'their', 'structures', 'swapping', 'management', 'fast', 'real', 'use', 'end', 'threads', 'contains', 'mode', 'purpose', 'lists', 'operations', 'types', 'level', 'short', 'we', 'amount', 'executing', 'them', 'out', 'io', 'simple', 'will', 'hull', 'divide', 'undirected', 'discrete', 'so', 'network', 'strings', 'until', 'allocated', 'based', 'internal', 'required', 'addresses', 'because', 'takes', 'information', 'condition', 'while', 'heuristic', 'device', 'solve', 'complete', 'pages', 'runs', 'useful', 'processors', 'hardware', 'next', 'strongly', 'preemptive', 'pointer', 'polynomial', 'being', 'instructions', 'resource', 'socket', 'traversing', 'scheduler', 'unit', 'needed', 'sequences', 'once', 'these', 'depth', 'new', 'important', 'optimal', 'phonetic', 'design', 'substring', 'commands', 'nt', 'control', 'mathematical', 'longest', 'multiplication', 'windows', 'leaf', 'over', 'variable', 'smallest', 'another', 'field', 'resources', 'thrashing', 'degree', 'fragmentation', 'small', 'deadlock', 'micro', 'item', 'second', 'available', 'numerical', 'associated', 'plane', 'should', 'children', 'string', 'logical', 'give', 'during', 'refers', 'jobs', 'referred', 'solutions', 'result', 'traversal', 'right', 'processing', 'output', 'contain', 'growth', 'functions', 'external', 'components', 'occur', 'register', 'monolithic', 'considered', 'hash', 'table', 'left', 'parallel', 'create', 'finite', 'eg', 'means', 'line', 'example', 'long', 'comparison', 'matching', 'multiprocessing', 'uses', 'euclidean', 'o1', 'certain', 'p', 'edges', 'performed', 'object', 'scheme', 'several', 'total', 'very', 'communicate', 'recursive', 'many', '1', 'merge', 'quadratic', 'trees', 'files', 'subtree', 'stored', 'theory', 'numbers', 'reliability', 'collection', 'utilization', 'server', 'direct', 'height', 'demand', 'expression', 'pair', 'recursion', 'weighted', 'null', 'adjacent', 'within', 'weight', 'services', 'like', 'connects', 'form', 'ram', 'daemon', 'soundex', 'interpolation', 'sweep', 'division', 'status', 'ubuntu', 'assembler', 'spooling', 'clique', 'resident', 'about', 'starvation', 'trap', 'trapdoor', 'insertion', 'storage', 'relationship', 'including', 'single', 'executed', 'proportional', 'language', 'active', 'clustering', 'synchronization', 'realtime', 'back', 'make', 'found', 'interrupt', 'running', 'values', 'sometimes', 'actually', 'always', 'work', 'queues', 'sharing', 'folder', 'large', 'methods', 'b', 'heap', 'allocation', 'well', 'job', 'fit', 'portion', 'approach', 'hashing', 'write', 'threaded', 'switch', 'serial', 'analysis', 'reduces', 'whose', 'specifies', 'pointers', 'devices', 'up', 'integer', 'ready', 'computes', 'goal', 'least', 'n2', 'completed', 'bestfirst', 'subsequence', 'caching', 'cycle', 'rule', 'collision', 'beam', 'box', 'separate', 'those', 'need', 'switching', 'schedulers', 'greedy', 'implementation', 'under', 'speed', 'pairs', 'defined', 'current', 'kth', 'digits', 'v', 'equation', 'class', 'remainder', 'symmetric', 'assigned', 'subset', 'record', 'preceding', 'priority', 'application', 'circular', 'situation', 'determine', 'command', 'minimal', 'various', 'techniques', 'front', 'terminal', 'general', 'stacks', 'parts', 'abstract', 'g', 'store', 'limited', 'computational', 'both', 'units', 'modular', 'square', 'advantage', 'empty', 'id', 'determines', 'working', 'throughput', 'completion', 'property', 'loop', 'designed', 'computers', 'model', 'corresponding', 'ie', 'combination', 'flow', 'environment', 'x', 'integers', 'constraints', 'determining', 'science', 'global', 'singlylinked', 'must', 'delaunay', 'constant', 'exponential', 'parent', 'sequential', 'measure', 'start', 'indexing', 'length', 'prime', 'cache', 'high', 'interface', 'polynomials', 'positive', 'area', 'triangulation', 'traverse', 'get', 'basis', 'acts', 'written', 'blocks', 'read', 'instance', 'counter', 'inserted', 'polygon', 'nearest', 'partition', 'topological', 'euler', 'rr', 'idle', 'incremental', 'asymmetric', 'c', 'precision', 'distributed', 'increasing', 'bounding', 'nos', 'prefix', 'cannibalizing', 'factor', 'multiprocessor', 'permutation', 'logarithm', 'calls', '2', 'viewed', 'users', 'interaction', 'child', 'similarity', 'figure', '7', 'diagram', 'interval', 'makes', 'phenomenon', 'spends', 'rather', 'connection', 'ordering', 'graphs', 'computation', 'equal', 'timesharing', 'around', 'printer', 'core', 'pronounced', 'occurs', 'request', 'identical', 'copy', 'olog', 'similar', 'having', 'efficiently', 'image', 'sum', 'manner', 'solves', 'dealing', 'randomized', 'entry', 'wait', 'export', 'concept', 'index', 'backtracking', 'fault', 'error', 'generated', 'initial', 'service', 'increased', 'support', 'through', 'mutual', 'exclusion', 'especially', 'requires', 'requirements', 'containing', 'return', 'response', 'paradigm', 'quick', 'disadvantages', 'quantum', 'local', 'searching', 'notations', 'arithmetic', 'bankers', 'represent', 'behind', 'generation', 'counting', 'monitor', 'designing', 'related', 'specified', 'critical', 'subtrees', '10', 'would', 'includes', '3', 'text', 'keep', 'info', 'either', 'exist', 'distinct', 'less', 'visiting', 'special', 'considerable', 'instruction', 'actual', 'communication', 'optimization', 'component', 'double', 'primary', 'whether', 'done', 'parameters', 'postfix', 'relative', 'compression', 'sorts', 'approximation', 'logarithmic', 'suitable', 'registers', 'auxiliary', 'words', 'roots', 'lifo', 'procedure', 'submitted', 'strategy', 'include', 'andor', 'patterns', 'build', 'ability', 'solving', 'driver', 'log', 'want', 'copies', 'dividing', 'notation', '0', 'relatively', 'stands', 'been', 'normal', 'insertions', 'wrapping', 'match', 'cubic', 'neighbour', 'fcfs', 'triangularisation', 'nth', 'select', 'maximal', 'cliques', 'tarjans', 'lowest', 'pollards', 'load', 'metaphone', 'turnaround', 'online', 'multiprogramming', 'examples', 'avl', 'macro', 'fuzzy', 'wildcards', 'salesman', 'jump', 'euclids', 'beginning', 'spawning', 'aging', 'scan', 'closure', 'calculus', 'library', 'advantages', 'applied', 'inverse', 'nonpreemptive', 'principle', 'perform', 'smooth', 'gcd', 'oriented', 'bucket', 'works', 'simplest', 'triangles', 'void', 'consists', 'appear', 'bfs', 'convert', 'according', 'down', 'names', 'sound', 'hermite', '100', 'triangulations', 'action', 'due', 'surface', 'differential', 'explicit', 'equations', 'turn', 'group', 'organized', 'minimized', 'puts', 'shows', 'taking', 'generate', 'obtain', 'goes', 'allocating', 'codes', 'extension', 'event', 'period', 'dispatcher', 'drives', 'objects', 'drawing', 'variant', 'cost', 'alignment', 'fixed', 'weights', 'inputs', 'digit', 'avoid', 'realmemory', 'logarithms', 'outside', 'stable', 'taken', 'last', 'caches', 'secret', 'undocumented', 'grant', 'authentication', 'siblings', 'classified', 'forest', 'comparisons', 'static', 'compiler', 'member', 'implement', 'tasks', 'approximate', 'decrease', 'context', 'block', 'achieve', 'onto', 'following', 'criteria', 'insert', 'terms', 'stores', 'repeatedly', 'fifo', 'performs', 'smaller', 'iterations', '4', 'resulting', 'manipulation', 'simultaneously', 'activity', 'independent', 'backing', 'times', 'preemption', 'ordered', 'specific', 'allocate', 'ensures', 'overall', 'position', 'subproblems', 'randomised', 'uniform', 'classify', 'assignment', 'said', 'name', 'replacements', 'geometric', 'lead', 'factors', 'loading', 'representation', 'before', 'mechanisms', 'never', 'idea', 'zombie', 'batch', 'fields', 'raid', 'd', 'transform', 'hierarchical', 'represented', 'unix', 'logic', 'send', 'u', 'purposes', 'seen', 'see', 'directory', 'together', 'entire', 'range', 'necessarily', 'although', 'advance', 'often', 'involves', 'sets', 'replaced', 'records', 'drive', 'creates', 'bash', 'subprocess', 'executes', 'among', 'whereas', 'whenever', 'nonlinear', 'voronoi', 'exhaustive', 'chain', 'steps', 'hybrid', 'shell', 'busy', 'non', 'pool', 'backward', 'conditions', 'meaning', 'brute', 'force', 'executive', 'lock', 'bidirectional', 'place', 'storing', 'leaves', 'your', 'typically', 'explores', 'route', 'organizing', 'track', 'much', 'itself', 'target', 'calculating', 'try', 'above', 'improve', 'message', 'progress', 'searches', 'arbitrary', 'predecessor', 'successor', 'happens', 'transformation', 'concurrent', 'bound', 'characters', 'avoids', 'sized', 'frequently', 'strictly', 'generally', 'currently', 'source', 'intermediate', 'wasted', 'needs', 'compared', 'correct', 'decision', 'keys', 'deletions', 'rating', 'acyclic', 'strong', 'migration', 'circuit', 'ancestors', 'graceful', 'degradation', 'unrestricted', 'introselect', 'ftdisk', 'reversedelete', 'maxcliquedyn', 'meant', 'scsi', 'bronkerbosch', 'link', 'fibonacci', 'h', 'bitonic', 'why', 'boyer', 'moore', 'doublylinked', 'bentleyottmann', 'memorymanagement', 'mmu', 'nonblocking', 'lagrange', 'burst', 'fordfulkerson', 'karatsuba', 'intersection', 'pancake', 'absolute', 'depthfirst', 'shuffle', 'transitive', 'dijkstras', 'breadthfirst', 'spectral', 'layout', 'drawback', 'mvt', 'splaying', 'christofides', 'after', 'gets', 'cipollas', 'spigot', 'unity', 'continuous', 'boruvkas', 'bead', 'las', 'vegas', 'cachecoherency', 'multiplicative', 'tracking', 'tonellishanks', 'pigeonhole', 'min', 'monte', 'carlo', 'pcb', 'booths', 'mutant', 'gnome', 'medium', 'gift', 'infix', 'full', 'extended', 'babystep', 'open', 'addressing', 'simplex', 'selecting', 'safe', 'section', 'states', 'expanding', 'promising', 'chosen', 'background', 'vary', 'developed', 'cycles', 'spline', 'perfect', 'statistic', 'calling', 'modulo', 'utilizing', 'region', 'quality', 'travelling', 'requests', 'transfer', 'sufficient', 'schemes', 'inordinate', 'faults', 'elapsed', 'located', 'potentially', 'mounted', 'boot', 'widely', 'opensource', 'principal', 'modifiable', 'modified', 'algorithmic', 'essence', 'quickselect', 'larger', 'integration', 'ordinary', 'naive', 'trying', 'generating', 'randomly', 'failure', 'classic', 'tolerance', 'opened', 'crashes', 'permutations', 'runningexample', 'edgeweighted', 'implicit', 'quicksort', 'roundrobin', 'primarily', 'aimed', 'setup', 'milliseconds', 'subgraph', 'everything', 'translator', 'low', 'assembly', 'mnemonic', 'translated', 'admitted', 'becomes', 'however', 'scene', 'just', 'enables', 'considers', 'knowledge', 'normally', 'printing', 'print', 'accordingly', 'subdivision', 'repeated', 'busywaiting', 'engaged', 'productive', 'toward', 'english', 'magnitude', 'operator', 'final', 'amortized', 'sublinear', 'multipleprocessor', 'checking', 'updating', 'modulus', 'change', 'dynamically', 'fashion', 'hot', 'standby', 'nothing', 'servers', 'role', 'fails', 'numbered', 'twodimensional', 'affine', 'heapsort', 'synchronize', 'improves', 'levenshtein', 'desired', 'permits', 'noncontiguous', 'varied', 'chunks', 'processormacro', 'executable', 'letter', 'decimal', 'deleted', 'share', 'specialpurpose', 'cities', 'city', 'manages', 'communications', 'ensure', 'usability', 'shapes', 'dtp', 'grbner', 'swapped', 'specialized', 'allow', 'filefolder', 'location', 'fixedsized', 'variablesized', 'intersect', 'instant', 'relate', 'variablewindow', 'signal', 'pancakes', 'turtles', 'letting', 'scheduled', 'reduce', 'composed', 'processorsvirtual', 'storagesource', 'accessing', 'congruence', 'knowing', 'processs', 'brings', 'missingand', 'hypergeometric', 'hang', 'endpoint', 'squareroot', 'squares', 'incrementally', 'valid', 'interruption', 'star', 'subproblem', 'approximately', 'inplace', 'viz', 'interview', 'candidate', 'geometry', 'convenient', 'instances', 'preorder', 'breadth', 'iterative', 'necessary', 'representing', 'expressions', 'resolution', 'huffman', 'balance', 'probing', 'calculated', 'push', 'top', 'add', 'sparse', 'identify', 'step', 'complex', 'definition', 'determined', 'construction', 'cells', 'ways', 'solved', 'made', 'managing', 'r', 'task', 'n1', 'syntax', 'blocked', 'spending', 'instead', 'hard', 'previous', 'calculation', 'rear', 'go', 'exact', 'placed', 'represents', 'starting', 'free', 'take', 'exactly', 'easier', 'ones', 'comparing', 'distribution', 'requirement', 'identifier', 'addition', 'implementing', 'pass', 'adt', 'aid', 'locks', 'differentiate', 'chaining', 'inserting', 'three', 'know', 'reset', 'dead', 'returns', 'test', 'relation', 'randomness', 'places', 'vfs', 'overlays', 'implemented', 'gain', 'booting', 'appropriate', 'named', 'dfs', 'further', 'programmer', 'managed', 'sure', 'development', 'hand', 'builtin', '5', '6', 'directly', 'subtreetraverse', 'controls', 'check', 't', 'regular', 'copied', 'applicable', 'singly', 'standard', 'amounts', 'provide', 'formed', 'segments', 'added', '23', 'variables', 'exists', 'operators', 'across', 'offset', 'accessed', 'hence', 'even', 'though', 'events', 'enough', 'terminated', 'making', 'moving', 'here', 'follows', 'easily', 'rich', 'splay', 'microkernel', 'few', 'assign', 'exploration', 'reasons', 'balancing', 'walk', 'tests', 'isempty', 'segment', 'formula', 'goals', 'straight', 'forward', 'drivers', 'areas', 'interrupts', 'fundamental', 'floydwarshall', 'merit', 'secondary', 'random', 'calculate', 'm', 'traversals', 'levels', 'e', 'uniformly', 'choices', 'pronunciation', 'unique', 'reference', 'obtained', 'uv', 'dependencies', 'capacity', 'branch', 'leads', 'demanded', 'traversed', 'operate', 'maintained', 'median', 'delete', 'kruskals', 'essential', 'versus', 'maps', 'reads', 'constructs', 'inherently', 'largest', 'nonempty', 'replacement', 'brought', 'mechanism', 'close', 'artificial', 'intelligence', 'successive', 'true', 'visible', 'exported', 'started', 'limit', 'unsorted', 'unless', 'inside', 'gives', 'deadlockavoidance', 'banking', 'bank', 'allocates', 'cash', 'longer', 'satisfy', 'customers', 'nodeassign', 'parsing', 'were', 'effect', 'controlled', 'game', 'processwaiting', 'interact', 'paths', 'adding', 'heuristics', 'maintaining', 'half', 'require', 'pi', 'positions', 'memoization', 'results', 'produces', 'cell', 'unambiguous', 'specification', 'operands', 'simpler', 'mod', 'additional', 'increases', 'additionally', 'discussed', 'assumption', 'come', 'series', 'kept', 'choice', 'operates', 'equality', 'ni', 'costsearch', 'metrics', 'ruperts', 'chudnovsky', 'dinics', 'cantorzassenhaus', 'salz', 'wildcat', 'rounding', 'kirkpatrickseidel', 'fortunes', 'offline', 'schreiersims', 'pattern', 'edmondsedmondskara', 'componets', 'exponentiation', 'kangaroo', 'toddcoxeter', 'schonhagestrassen', 'bogosort', 'dedicated', 'warnsdorffs', 'detection', 'newtonraphson', 'chans', 'lexicographic', 'predictive', 'schensted', 'better', 'rabinkarp', 'borweins', 'forcebased', 'introsoft', 'patience', 'sorter', 'partitioning', 'formatting', 'hors', 'dameraulaenshtein', 'heapnsort', 'hungarian', 'super', 'radix', 'hirschberhs', 'laplacian', 'smoothing', 'ternary', 'krauss', 'smithwaterman', 'timsort', 'johnsons', 'p1', 'traveling', 'hopcroft', 'karp', 'gilbertjohnsonkeerthi', 'describe', 'objective', 'chakravala', 'batched', 'toomcook', 'faugere', 'f4', 'shifting', 'nthroot', 'primality', 'floyd', 'warshall', 'kruscals', 'dualmode', 'jarowinkler', 'comb', 'deepening', 'fischeryates', 'baileyborwein', 'plouffe', 'oddeven', 'graham', 'kargerstein', 'marshalling', 'galegaleshapely', 'truncation', 'registration', 'gang', 'bkm', 'polling', 'hellman', 'kasanes', 'floyds', 'cyclefinding', 'gausslegendre', 'dram', 'configuration', 'birkhoff', 'gospers', 'knuth', 'morris', 'pratt', 'closest', 'turtle', 'ipc', 'hamming', 'spaghetti', 'heaps', 'ancestor', 'cone', 'exponentiating', 'squaring', 'zhu', 'takaoka', 'shoe', 'lace', 'knuthbendix', 'steinhausjohnsontrotter', 'chews', 'sibling', 'relabel', 'alpha', 'max', 'plus', 'beta', 'aspects', 'risch', 'solver', 'cocktail', 'shaker', 'sample', 'flash', 'primss', 'ukkonens', 'sss', 'ahocorasick', 'needle', 'manwunsch', 'launcher', 'buchbergers', 'ditchmokotoff', 'sounded', 'deterministic', 'lavenshtein', 'edit', 'filtered', 'projection', 'properties', 'coloring', 'rho', 'bitap', 'security', 'attributes', 'nysiis', 'bowyerwatson', 'dices', 'coefficient', 'kosrajus', 'brents', 'postman', 'rdbms', 'dos', 'strategies', 'girvannewman', 'terminate', 'shut', 'lowestcost', 'costs', 'query', 'mra', 'western', 'airlines', '1977', 'indexation', 'homophonous', 'interpolator', 'piece', 'thirddegree', 'form1', 'derivatives', 'domain', 'dissimilarity', 'score', 'consider', 'percentage', 'doing', 'callsprocess', 'invokes', 'was', 'clients', 'dinicsalgorithm', 'originates', 'ends', 'problemsolving', 'engineering', 'endpoints', 'comes', 'decompose', 'locates', 'conceptual', 'quotient', 'wastage', 'inefficiently', 'curve', 'fitting', 'unordered', 'stringsearching', 'stringmatching', 'eulers', 'rungekutta', 'base', 'bsgs', 'designs', 'pseudorandomly', 'continue', 'providing', 'hardwaresystems', 'tolerantif', 'stop', 'systemthen', 'slowerthis', 'reports', 'restrictions', 'argument', 'round', 'cosets', 'selects', 'note', 'permanent', 'introspective', 'medians', 'worstcase', 'schnhagestrassen', 'asymptotically', 'highly', 'ineffective', 'successively', 'generates', 'educational', 'contrast', 'qnxrealtime', 'arbitrarily', 'subject', 'orientation', 'duration', 'warnsdorfs', 'knights', 'tour', 'partitionexchange', 'serving', 'systematic', 'placing', 'cant', 'systemit', 'activitiesit', 'klik', 'klk', 'induced', 'combines', 'aspect', 'microkernelexample', 'microsoft', 'included', 'attempt', 'indices', 'swap', 'solids', 'powers', 'facilitates', 'switches', 'pace', 'outputsensitive', '3dimensional', 'planar', 'higherdimension', 'simplices', 'binarylike', 'dictionary', 'interpolated', 'submission', 'threeway', 'young', 'tableaux', 'seem', '1p', 'diconnected', 'reachable', 'visited', 'combine', 'domains', 'incompletely', 'piecebypiece', 'fed', 'optical', 'scanners', 'tape', 'competing', 'technology', 'ide', 'integrated', 'electronics', 'undergone', 'inwhich', 'forcedirected', 'aestheticallypleasing', 'begin', 'exceeds', 'narrows', 'locations', 'sh', 'shsh1sh21', 'h0', 'sh1', 'mergesort', 'building', 'creating', 'infinite', 'simplification', 'boyermoore', 'dameraulevenshtein', 'scientific', 'pick', 'remaining', 'integrates', 'ai', 'configurations', 'intention', 'physicaladdress', 'routine', 'cases', 'routines', 'supersequence', 'subsequences', 'degrees', 'truth', 'usual', 'false', 'measured', 'polygonal', 'mesh', 'accuracy', 'allowed', 'processprocesses', 'decreasing', 'vice', 'versa', 'endit', 'obeys', 'listing', 'crossings', 'constituent', 'affecting', 'nonrecursive', 'relocation', 'sent', 'memorythe', 'deals', 'sees', 'adaptative', 'derived', 'python', 'java', 'se', 'enclosing', 'algebraicgroup', 'factorisation', '12', 'retrieving', 'connect', 'outputs', 'slow', 'distances', 'visits', 'origin', 'reliable', 'computationally', 'inefficient', 'bipartite', 'cardinality', 'controlling', 'mutexsemaphoresmonitorscondition', 'regions', 'delone', 'circumcircle', 'triangle', 'envelope', 'reals', 'cyclic', 'indeterminate', 'pells', 'compact', 'trie', 'protected', 'indicates', 'mentions', 'f5', 'room', 'extraction', 'utilizes', 'polish', 'nature', 'greatest', 'divisor', 'converts', 'compilation', 'lexical', 'optimized', 'minimumspanningtree', 'protect', 'malfunctioning', 'evolvedsystem', 'pop', 'lines', 'regardless', 'colloquial', 'disordered', 'spatula', 'flip', 'eliminate', 'near', 'elementary', 'suppose', 'findx', 'changed', 'bruteforce', 'obstacle', 'doesnt', 'initiated', 'originally', 'interconnections', 'grahams', 'per', 'unitturnaround', 'queueresponse', 'nternal', '736', '9', 'kargers', 'cut', 'packaging', 'sending', 'boundaries', 'marriage', 'probabilistic', 'subroutines', 'numeric', 'rigidtime', 'optimally', 'align', 'removing', 'lightweight', 'comprises', '1to1', 'closely', 'blocking', 'minimize', 'predated', 'processesaging', 'reciprocal', 'abelian', 'features', 'debuggingwhen', 'separately', 'appears', 'actively', 'moved', 'towards', 'maintain', 'regarding', 'saves', 'simplifies', 'extent', 'subarray', 'quickhull', 'capacitance', 'voltages', 'hit', 'quantities', 'approximationssuch', 'studied', 'interfaces', 'sums', 'themselves', 'bypasses', 'reexamination', 'matched', 'organization', 'beads', 'slide', 'poles', 'abacus', 'straightforward', 'gapped', 'gaps', 'accelerate', 'subsequent', 'informs', 'immediately', 'reflected', 's', 'held', 'requiring', 'lowlevel', 'interchange', 'built', 'abandoned', 'finestgrained', 'invoked', 'prioritized', 'highest', 'utilizednonpreemptive', 'enters', 'finishes', 'leastcost', 'bigger', 'variety', 'described', 'rewriting', 'pathfinding', 'shanks', 'ressol', 'r2', 'transferring', 'saving', 'old', 'saved', 'transposing', 'quickly', 'constrained', 'remembers', 'caller', 'knows', 'whom', 'siblingsbrothers', 'figurenodes', 'othernodes', 'balanced', 'smoothsort', 'upper', 'searched', 'family', 'produce', 'indefinite', 'antiderivatives', 'belongs', 'globbing', 'wildcard', 'expressed', 'wellformed', 'formulas', 'wffs', 'horn', 'clauses', 'constitute', 'sources', 'axioms', 'sinks', 'conclusions', 'incorrect', 'probability', 'alternately', 'power', 'already', 'samplesort', 'logb', 'k', 'bk', 'flashsort', 'showing', 'little', 'prims', 'jarnks', 'lineartime', 'constructing', 'suffix', 'lower', 'overlap', 'employs', 'allotted', 'pertaining', 'military', 'satellites', 'matches', 'advantageous', 'whole', 'fullfledged', 'respond', 'successfully', 'multiplies', 'signed', 'twos', 'complement', 'treebased', 'nodeanode', 'figure2511', 'sling', 'increment', 'effective', 'notion', 'ownership', 'daitchmokotoff', 'dm', 'questions', 'asked', 'redundant', 'disks', 'redundantly', 'comparisonbased', 'keeps', 'served', 'proper', 'swaps', 'de', 'metric', '2dimensional', 'radon', 'notably', 'constraint', 'satisfaction', 'builds', 'candidates', 'abandons', 'backtracks', 'soon', 'possibly', 'relates', 'suspended', 'swappingin', 'colouring', 'locally', 'stage1', 'intent', 'optimum', 'expected', 'composite', 'factorized', 'mst', 'theability', 'debugging', 'intermediary', 'bin', 'distributing', 'buckets', 'recursively', 'dimensions', 'substrings', 'jaccard', 'ax', 'giantstep', 'meetinthemiddle', 'kosarajus', 'kosarajusharir', 'inequality', 'producing', 'reconstruct', 'unstructured', 'cloud', 'iterators', 'grid', 'variablesvoid', 'sizenull', 'ptr', 'theoretically', 'writes', 'rational', 'causes', 'canonical', 'rabbits', 'itselfis', '6a', 'dispatchable', 'temporal', 'encoding', 'detect', 'communities', 'rendezvous', 'arise', 'disjoint', 'enumeration', 'paradigms', 'optimisation', 'parenthesis', 'actions', 'descendant', 'overflow', 'semaphores', 'multithreaded', 'entries', 'manager', 'articulation', 'draw', 'four', 'malloc', 'c2', 'btree', 'f', 'equivalent', 'statement', 'typical', 'ddks', 'functional', 'tablesize', 'generic', 'difficult', 'almost', 'reach', 'upon', 'character', 'roottraverse', 'passing', 'sender', 'receiver', 'delivered', 'protection', 'responsiveness', 'architecture', 'guessing', 'hold', 'depends', 'etc', 'handle', 'simultaneous', 'unlike', 'holds', 'involved', 'closer', 'occupied', 'nodemake', 'notationpostfix', 'except', 'closed', 'entities', 'removed', 'runtime', 'correctness', 'rules', 'anywhere', 'biconnected', 'automated', 'reasoning', 'creation', 'deletion', 'alternative', 'fg', 'managementmemory', 'merging', 'help', 'easy', 'nonleaf', 'wrong', 'w', 'vw', 'nodetraverse', 'parityraid', '8', 'timestorage', 'spaceprogramming', 'effort', 'currentnode', 'restricted', 'tr', 'rightskewed', 'issues', 'briefly', 'rabbit', 'datastructure', 'weakly', 'suspension', 'rings', 'benefits', 'multi', 'prerequisite', 'installing', 'could', 'detectionalgorithm', 'utilized', 'avoidance', 'readwrite', 'differ', 'postorder', 'interpreter', 'evaluation', 'forms', 'persistent', 'ephemeral', 'employee', 'nonterminal', 'variants', 'pipe', 'reduced', 'termination', 'mention', 'extensively', 'reached', 'underflow', 'indegree', 'prepaging', 'approximations', 'removes', 'implementations', 'subcomponents', 'multilinked', 'matrix', 'carried', 'frames', 'bellmanford', 'rightin', 'cursor', 'major', 'primitive', 'nonprimitive', 'kinds', 'processed', 'arrays', 'inorder', 'microkernels', 'reduction', 'examplefiletxt', 'console', '98', 'coupled', 'leak', 'leftin', 'daemons', 'ntfs', 'nondeterministic', 'residence', 'monitors', 'feature', 'folding', 'bits', 'attached', 'simulation', 'computerserver', 'provisions', 'update', 'firstcome', 'firstserved', 'dont', 'elementseg', 'activities', 'probe', 'constants', 'symbol', 'followsvisit', 'spent', 'intervals', 'later', 'followstraverse', 'subtreevisit', 'incoming', 'relevant', 'policy', 'frame', 'latter', 'partitions', 'swappinginteractive', 'lista', 'preparatory', 'installed', 'properly', 'designating', 'arenumber', 'listsapplications', 'contiguous', 'situations', 'likely', 'affected', 'loaded', 'infrequently', 'occurring', 'stays', 'understood', 'greater', 'evenly', 'maximized', 'occupies', 'getting', 'compactness', 'reverse', 'nonsharable', 'retain', 'performing', 'nullmake', 'display', 'returning', 'notationprefix', 'helps', 'rigid', 'isallocate', 'subtreeprocess', 'increase', 'save', 'money', 'finally', 'union', 'atlf2', '2345', 'createdrunning', 'executedwaiting', 'occurready', 'processorterminate', 'maybe', 'manufactured', 'companies', 'prevents', 'conflicts', 'incorporated', 'nearly', 'designoperating', 'systemdatabase', 'sends', 'notification', 'wants', 'handler', 'receives', 'tells', 'client', 'shown', 'figureeach', 'topmost', 'yes', 'descending', 'now', 'retrieve', 'exception', 'involve', 'worry', 'movement', 'messages', 'treearithmetic', 'evaluationsorting', 'appendnode', 'side', 'distinguished', 'redirector', 'servercache', 'managerfile', 'systemsnetwork', 'defining', 'clean', 'filerepresentation', 'vnode', 'designator', 'removal', 'abc', 'ab', 'enable', 'coordinates', 'functionalities', 'systemresource', 'utilizationresource', 'allocationprocess', 'managementfile', 'managementio', 'divided', 'provided', 'utilize', 'subtraction', 'naming', 'supported', 'zero', 'definitiondevelopment', 'modelspecification', 'algorithmdesigning', 'algorithmchecking', 'algorithmanalysis', 'algorithmimplementation', 'algorithmprogram', 'testingdocumentation', 'preparation', 'decide', 'identifying', 'assures', 'managementdevice', 'structuresnetwork', 'graphhierarchical', 'tried', 'big', 'areit', 'computeit', 'corresponds', 'shall', 'int', 'systemsmultiprogrammed', 'systemstimesharing', 'expensive', 'childrenall', 'hashes', 'cluster', 'dequeue', '1014', 'nodesn3', 'blockinterleaved', 'causing', 'kb', 'filename', 'exampl1txt', 'reason', 'filenames', 'processthey', 'peer', 'algorithminorderrootifrootnull', 'exitinorderleft', 'rootvisitrootinorderright', 'adts', 'via', 'functiontruncation', 'methodmodular', 'methodmid', 'methodfolding', 'conceptions', 'mark', 'remains', 'contained', 'goto', 'marked', 'accumulatorsindex', 'registersstack', 'prior', 'occurred', 'deal', 'transaction', 'iteratively', 'filled', 'tl', 'hr', 'trewe', 'hamper', 'diagrams', 'importance', 'algorithmhow', 'trashing', 'complier', 'treeat', 'circularlinked', 'arrayhint', 'kind', 'unionbyweight', 'disadvantage', 'triggered', 'pcs', 'objectives', 'studying', 'modularity', 'chess', 'challenging', 'waitsignal', 'compactions', 'demandpaging', 'ship', 'faster', 'trigram', 'demerits', 'dijkstra', 'layers', 'independence', 'calloc', 'blown', 'meets', 'indexed', 'concepts', 'logics', 'rdbmsnetwork', 'stipulations', 'merits', 'constituting', 'oss', 'throw', 'light', 'bootstrap', 'enumerate', 'loosely', 'tell', 'sections', 'structurea', 'none', 'consisting', 'unused', 'own', 'limitations', 'declaration', 'biconnectivity', 'involving', 'answer', 'handled', 'recover', 'crash', 'demerit', 'outdegree', 'deleting', 'understand', 'guide', 'behavior', 'hope', 'achieving', 'good', 'coding', 'programamount', 'programthe', 'problemevent', 'fiihash2x', 'says', 'apply', 'hash2x2hash2xand', 'hash2xrxmodr', 'underlies', 'dual', 'consuminga', 'predecessors', '61234', 'precede', 'pif', 'persevered', 'again', 'floatingpoint', 'constantsstring', 'restructuring', 'moves', 'rotations', 'processesoperating', 'processesuser', 'backwardif', 'directedgraph', 'underlying', 'algorithmprims', 'functionhash', 'tables', 'ampersand', 'ptemployee0', 'projects2', 'ss1s2sk', 'ieeach', 'si', 'sj', 'sisj', 'identified', 'representative', 'requesttimingparent', 'separation', 'processeconomy', 'superposition', 'entanglement', 'category', 'gameword', 'repetitions', 'protecting', 'slower', 'mutexes', 'post', 'methodmethod', 'carries', 'implied', 'translation', 'translates', 'tower', 'hanoi', 'pivotal', 'extract', 'sortif', 'frequent', 'filethus', 'anythingit', 'bit', 'essentially', 'arrayadditional', 'who', 'consuming', 'holding', 'preempt', 'listallocate', 'graphical', 'modifications', 'searchedset', 'i0repeat', 'arriemployee', 'idincrement', 'i', '1if', 'foundelse', 'checks', 'evaluating', 'arestrictly', 'wish', 'oneway', 'hashingopen', 'word', 'feasible', 'priorities', 'requesttiming', 'graphmaintain', 'duplicate', 'web', 'pagesconstructing', 'graphdefine', 'equivalence', 'minus', 'treethe', '1the', '14', 'append', 'asinorderpreorderpostorder', 'inter', 'socketspipesshared', 'memorysignals', 'reflect', 'world', 'exceededmemory', 'unavailablebounds', 'violationprotection', 'errorarithmetic', 'errortime', 'overrunio', 'failureinvalid', 'instructionprivileged', 'instructiondata', 'misuseoperator', 'interventionparent', 'eliminateddisadvantage', 'guarantee', 'unoccupied', 'systemstatistical', 'packagenumerical', 'analysisgraphicsartificial', 'intelligencesimulation', 'retrievedfunctions', 'freedbranch', 'microprocessors', 'fir', 'front1', 'practical', 'knapsack', 'matrices', 'ramsecondary', 'subbranches', 'subbrancheshere', 'classes', 'operationsto', 'concrete', 'debug', 'routinesit', 'people', 'simultaneouslya', 'wellwritten', 'changes', 'tightly', 'semaphorescounting', 'menu', 'accessories', 'yet', 'still', 'overflowwhen', 'proof', 'induction', 'lost', 'affects', 'perfectly', 'compaction', 'collected', 'chunk', 'referenced', 'fastest', 'userresource', 'processeconomyutilization', 'stopped', 'abruptly', 'returned', 'precedenceneed', 'associativityneed', 'override', 'rearrangement', 'spelling', 'precisely', 'followsindexingencoding', 'symmetrical', 'asymmetrical', 'collect', 'nodememory', 'spaces', 'subtreesit', 'residessecondary', 'cd', 'floppy', 'magnetic', 'discs', 'listadvantages', 'default', 'introduces', 'dash', 'programsin', 'desktop', 'drag', 'requiredreadability', 'simplicity', 'classifying', 'methodology', 'separates', 'disconnect', 'processescreation', 'userscpu', 'andprocess', 'road', 'networks', 'elimnates', 'includecreation', 'listinsertion', 'nodedeletion', 'nodemodification', 'nodetraversal', 'abstraction', 'layerkernelsubsystems', 'andsystem', 'direction', 'propertyheap', 'digraph', 'natural', 'polyphase', 'replace', 'mediator', 'api', 'invoke', 'behalf', 'enhance', 'usersresource', 'processeconomicalcompletely', 'bytescalloc', 'bytes', 'initialized', 'fetching', 'converted', 'loader', 'examining', 'substructures', 'expressionit', 'visually', 'reside', 'capabilities', 'modulodivision', 'digitextraction', 'midsquare', 'pseudorandom', 'generalised', 'counts', 'languages', 'fortran', 'wherein', 'doubly', 'waits', 'resourceno', 'preempted', 'pj', 'release', 'otherwise', 'sub', 't1', 't2tk', 'repetitive', 'loops', 'enqueue', 'broadly', 'algorithmsround', 'robin', 'schedulingshortest', 'bothpriority', 'bothnonpreemptive', 'encapsulation', 'deduction', 'merely', 'mapped', 'tablesize1', 'towers', 'hanoireversing', 'stringbalanced', 'parenthesisrecursion', 'stackevaluation', 'repetition', 'stableo1', 'extra', 'spaceon2', 'swapsadaptive', 'recomputing', 'computed', 'minimalspanning', 'o', 'resolving', 'h0x', 'h1x', 'h2x', 'succession', 'hixhashxfimod', 'f00', 'definitionoperation', 'definitionexamplethe', 'zerothe', 'divides', 'stage', 'float', 'char', 'enumerated', 'discretionary', 'controlidentification', 'authenticationauditingresource', 'reuse', 'managementinterrupt', 'handlingio', 'predicted', 'writtenthe', 'declared', 'remain', 'throughout', 'indexingencoding', 'arrayone', 'triple', 'structural', 'propertiesthe', 'm2', 'forming', 'attempts', 'resolve', 'defines', 'arguments', 'passedlocal', 'initializedtransferring', 'impractical', 'traversalinorder', 'traversalpostorder', 'traversallevelorder', 'arrayswhen', 'parentchild', 'easilyit', 'undiscovered', 'explored', 'deallocation', 'integrity', 'maintenanceswapping', 'highspeed', 'temporary', 'mentioned', 'necessory', 'leaveshere', 'leave', 'elegance', 'goodness', 'call', 'basedlarger', 'footprint', 'loss', 'interfacingdifficulty', 'fixing', 'messaging', 'bugs', 'complicated', 'visit', 'transforming', 'betterknown', 'nonredundant', 'stripingraid', 'mirrored', 'disksraid', 'memorystyle', 'errorcorrecting', 'codesraid', 'bitinterleaved', 'pq', 'redundancy', 'handlers', 'vector', 'pieces', 'depending', 'reused', 'corrupt', 'systemsit', 'consist', 'clockthe', 'buses', 'telephone', 'linesit', 'centralized', 'responds', 'requestsit', 'loses', 'abstractions', 'along', 'altered', 'managementinput', 'managementstorage', 'atleast', 'addressheap', 'callocreallocdata', 'variablescode', 'content', 'sharedload', 'sharedreliability', 'improvedprovide', 'interprocess', 'systemsdistributed', 'systemsrealtime', 'refer', 'typeit', 'tool', 'specifying', 'declaring', 'arrayfor', 'grades', 'int10', 'garbage', 'minimumspanning', 'processrunning', 'processready', 'processterminated', 'pulling', 'middle', 'cheap', 'links', 'httpd', 'lpd', 'areinfix', 'explorations', 'spreading', 'independently', 'stopping', 'meet', 'functionsome', 'alternate', 'usedalternate', 'constitutes', 'largein', 'fgpostfix', 'third', 'optional', 'qualifier', 'signedunsigned', 'listidentify', 'th', 'locate', 'graphare', 'say', 'probingquadratic', 'probingdouble', 'unknowns', 'definitions', 'linkedlistcpp', 'continuously', 'costly', 'sleep', 'guaranteed', 'timesoft', 'receive', 'fortunate', 'algorithmsome', 'conditional', 'unconditional', 'exploring', 'edgeif', 'deepest', 'bak', 'kruskal', 'prim', 'sollin', 'followsmake', 'listrepeat', 'nulldisplay', 'currentnodemake', 'thr', 'directoriessupport', 'primitives', 'directories', 'manipulationbacking', 'media', 'mapping', 'arepush', 'operationpop', 'operationpeek', 'operationempty', 'checkfully', 'oneaccording', 'pointergeneral', 'seek', 'searchdepth', 'partsan', 'nodeleft', 'sideright', 'pure', 'head', 'threading', 'ever', 'combinatorial', 'medical', 'learning', 'cryptography', 'phase', 'supposed', 'alevel', 'orderd', 'scenario', 'underallocation', 'extremely', 'leading', 'poor', 'incident', 'firstinfirstout', 'starts', 'key1', 'neighbor', 'present', 'variablesize', 'piles', 'pushdown', 'lastinfirstout', 'explanation', 'transactions', 'updates', 'alteration', 'redo', 'undo', 'commit', 'logs', 'scans', 'listnote', 'guesses', 'accurate', 'statistical', 'package', 'graphics', 'excessive', 'early', 'distribute', 'hashkeykey', 'database', 'implementationindexing', 'runnin', 'waitingready', 'kits', 'sdks', 'writing', 'completely', 'bottom', 'printerreal', 'life', 'linecalls', 'companiesaccess', 'universitiesaccessing', 'iftl', 'andhl', '1where', 'hl', 'heights', 'respectively', 'architectures', 'machines', 'tabu', 'simulated', 'annealing', 'genetic', 'algorithmsapproximation', 'currentmake', 'sequencerelease', 'he', 'breaking', 'keys47669345656975468563735478077569664'], 'limit': {'maxq': 20, 'maxa': 50, 'minq': 0, 'mina': 2}, 'freq_dist': FreqDist({'the': 3612, 'a': 3003, 'is': 2680, 'of': 2504, 'algorithm': 1252, 'to': 1252, 'in': 1239, 'what': 1167, 'you': 1058, 'do': 1048, ...})}\n"
     ]
    }
   ],
   "source": [
    "print(metadata)"
   ]
  },
  {
   "cell_type": "code",
   "execution_count": 6,
   "metadata": {},
   "outputs": [],
   "source": [
    "def split_dataset(x, y, percent = [0.85, 0.15] ):\n",
    "\t# number of examples\n",
    "\tdata_len = len(x)\n",
    "\tlens = [ int(data_len*item) for item in percent ]\n",
    "\n",
    "\ttrainX, trainY = x[:lens[0]], y[:lens[0]]\n",
    "\ttestX, testY = x[lens[0]:lens[0]+lens[1]], y[lens[0]:lens[0]+lens[1]]\n",
    "\t# validX, validY = x[-lens[-1]:], y[-lens[-1]:]\n",
    "\n",
    "\treturn (trainX,trainY), (testX,testY)"
   ]
  },
  {
   "cell_type": "code",
   "execution_count": 7,
   "metadata": {},
   "outputs": [],
   "source": [
    "def intial_setup(path):\n",
    "    metadata, idx_q, idx_a = load_data(path)\n",
    "    (trainX, trainY), (testX, testY) = split_dataset(idx_q, idx_a)\n",
    "\n",
    "    trainX = tl.prepro.remove_pad_sequences(trainX.tolist())\n",
    "    trainY = tl.prepro.remove_pad_sequences(trainY.tolist())\n",
    "    testX = tl.prepro.remove_pad_sequences(testX.tolist())\n",
    "    testY = tl.prepro.remove_pad_sequences(testY.tolist())\n",
    "    # validX = tl.prepro.remove_pad_sequences(validX.tolist())\n",
    "    # validY = tl.prepro.remove_pad_sequences(validY.tolist())\n",
    "\n",
    "    return (trainX, trainY), (testX, testY), metadata"
   ]
  },
  {
   "cell_type": "code",
   "execution_count": 17,
   "metadata": {},
   "outputs": [
    {
     "name": "stdout",
     "output_type": "stream",
     "text": [
      "{'w2idx': {'_': 0, 'unk': 1, 'the': 2, 'a': 3, 'is': 4, 'of': 5, 'algorithm': 6, 'to': 7, 'in': 8, 'what': 9, 'you': 10, 'do': 11, 'and': 12, 'by': 13, 'that': 14, 'an': 15, 'for': 16, 'are': 17, 'how': 18, 'define': 19, 'mean': 20, 'explain': 21, 'it': 22, 'or': 23, 'process': 24, 'tree': 25, 'search': 26, 'system': 27, 'time': 28, 'sort': 29, 'as': 30, 'which': 31, 'graph': 32, 'data': 33, 'be': 34, 'with': 35, 'this': 36, 'node': 37, 'list': 38, 'memory': 39, 'operating': 40, 'can': 41, 'called': 42, 'used': 43, 'one': 44, 'binary': 45, 'on': 46, 'between': 47, 'algorithms': 48, 'case': 49, 'from': 50, 'not': 51, 'set': 52, 'method': 53, 'when': 54, 'two': 55, 'each': 56, 'at': 57, 'kernel': 58, 'all': 59, 'problem': 60, 'nodes': 61, 'its': 62, 'number': 63, 'path': 64, 'program': 65, 'also': 66, 'order': 67, 'sorting': 68, 'address': 69, 'other': 70, 'bubble': 71, 'processes': 72, 'space': 73, 'any': 74, 'performance': 75, 'where': 76, 'linear': 77, 'if': 78, 'cpu': 79, 'state': 80, 'minimum': 81, 'has': 82, 'spanning': 83, 'thread': 84, 'value': 85, 'such': 86, 'selection': 87, 'queue': 88, 'points': 89, 'finding': 90, 'more': 91, 'user': 92, 'root': 93, 'systems': 94, 'linked': 95, 'they': 96, 'elements': 97, 'scheduling': 98, 'known': 99, 'find': 100, 'first': 101, 'have': 102, 'does': 103, 'structure': 104, 'only': 105, 'into': 106, 'processor': 107, 'access': 108, 'point': 109, 'worst': 110, 'stack': 111, 'computer': 112, 'function': 113, 'connected': 114, 'every': 115, 'may': 116, 'given': 117, 'no': 118, 'complexity': 119, 'edge': 120, 'most': 121, 'best': 122, 'some': 123, 'n': 124, 'same': 125, 'basic': 126, 'sequence': 127, 'file': 128, 'using': 129, 'directed': 130, 'computing': 131, 'applications': 132, 'then': 133, 'array': 134, 'programs': 135, 'execute': 136, 'distance': 137, 'but': 138, 'difference': 139, 'type': 140, 'finds': 141, 'execution': 142, 'size': 143, 'input': 144, 'shortest': 145, 'there': 146, 'without': 147, 'maximum': 148, 'page': 149, 'paging': 150, 'solution': 151, 'than': 152, 'part': 153, 'code': 154, 'conquer': 155, 'virtual': 156, 'semaphore': 157, 'sorted': 158, 'vertex': 159, 'term': 160, 'programming': 161, 'different': 162, 'convex': 163, 'possible': 164, 'items': 165, 'dynamic': 166, 'common': 167, 'main': 168, 'technique': 169, 'key': 170, 'os': 171, 'vertices': 172, 'multiple': 173, 'on2': 174, 'allows': 175, 'element': 176, 'run': 177, 'compute': 178, 'physical': 179, 'particular': 180, 'usually': 181, 'machine': 182, 'multitasking': 183, 'waiting': 184, 'operation': 185, 'provides': 186, 'efficient': 187, 'way': 188, 'average': 189, 'problems': 190, 'disk': 191, 'software': 192, 'efficiency': 193, 'smp': 194, 'their': 195, 'structures': 196, 'swapping': 197, 'management': 198, 'fast': 199, 'real': 200, 'use': 201, 'end': 202, 'threads': 203, 'contains': 204, 'mode': 205, 'purpose': 206, 'lists': 207, 'operations': 208, 'types': 209, 'level': 210, 'short': 211, 'we': 212, 'amount': 213, 'executing': 214, 'them': 215, 'out': 216, 'io': 217, 'simple': 218, 'will': 219, 'hull': 220, 'divide': 221, 'undirected': 222, 'discrete': 223, 'so': 224, 'network': 225, 'strings': 226, 'until': 227, 'allocated': 228, 'based': 229, 'internal': 230, 'required': 231, 'addresses': 232, 'because': 233, 'takes': 234, 'information': 235, 'condition': 236, 'while': 237, 'heuristic': 238, 'device': 239, 'solve': 240, 'complete': 241, 'pages': 242, 'runs': 243, 'useful': 244, 'processors': 245, 'hardware': 246, 'next': 247, 'strongly': 248, 'preemptive': 249, 'pointer': 250, 'polynomial': 251, 'being': 252, 'instructions': 253, 'resource': 254, 'socket': 255, 'traversing': 256, 'scheduler': 257, 'unit': 258, 'needed': 259, 'sequences': 260, 'once': 261, 'these': 262, 'depth': 263, 'new': 264, 'important': 265, 'optimal': 266, 'phonetic': 267, 'design': 268, 'substring': 269, 'commands': 270, 'nt': 271, 'control': 272, 'mathematical': 273, 'longest': 274, 'multiplication': 275, 'windows': 276, 'leaf': 277, 'over': 278, 'variable': 279, 'smallest': 280, 'another': 281, 'field': 282, 'resources': 283, 'thrashing': 284, 'degree': 285, 'fragmentation': 286, 'small': 287, 'deadlock': 288, 'micro': 289, 'item': 290, 'second': 291, 'available': 292, 'numerical': 293, 'associated': 294, 'plane': 295, 'should': 296, 'children': 297, 'string': 298, 'logical': 299, 'give': 300, 'during': 301, 'refers': 302, 'jobs': 303, 'referred': 304, 'solutions': 305, 'result': 306, 'traversal': 307, 'right': 308, 'processing': 309, 'output': 310, 'contain': 311, 'growth': 312, 'functions': 313, 'external': 314, 'components': 315, 'occur': 316, 'register': 317, 'monolithic': 318, 'considered': 319, 'hash': 320, 'table': 321, 'left': 322, 'parallel': 323, 'create': 324, 'finite': 325, 'eg': 326, 'means': 327, 'line': 328, 'example': 329, 'long': 330, 'comparison': 331, 'matching': 332, 'multiprocessing': 333, 'uses': 334, 'euclidean': 335, 'o1': 336, 'certain': 337, 'p': 338, 'edges': 339, 'performed': 340, 'object': 341, 'scheme': 342, 'several': 343, 'total': 344, 'very': 345, 'communicate': 346, 'recursive': 347, 'many': 348, '1': 349, 'merge': 350, 'quadratic': 351, 'trees': 352, 'files': 353, 'subtree': 354, 'stored': 355, 'theory': 356, 'numbers': 357, 'reliability': 358, 'collection': 359, 'utilization': 360, 'server': 361, 'direct': 362, 'height': 363, 'demand': 364, 'expression': 365, 'pair': 366, 'recursion': 367, 'weighted': 368, 'null': 369, 'adjacent': 370, 'within': 371, 'weight': 372, 'services': 373, 'like': 374, 'connects': 375, 'form': 376, 'ram': 377, 'daemon': 378, 'soundex': 379, 'interpolation': 380, 'sweep': 381, 'division': 382, 'status': 383, 'ubuntu': 384, 'assembler': 385, 'spooling': 386, 'clique': 387, 'resident': 388, 'about': 389, 'starvation': 390, 'trap': 391, 'trapdoor': 392, 'insertion': 393, 'storage': 394, 'relationship': 395, 'including': 396, 'single': 397, 'executed': 398, 'proportional': 399, 'language': 400, 'active': 401, 'clustering': 402, 'synchronization': 403, 'realtime': 404, 'back': 405, 'make': 406, 'found': 407, 'interrupt': 408, 'running': 409, 'values': 410, 'sometimes': 411, 'actually': 412, 'always': 413, 'work': 414, 'queues': 415, 'sharing': 416, 'folder': 417, 'large': 418, 'methods': 419, 'b': 420, 'heap': 421, 'allocation': 422, 'well': 423, 'job': 424, 'fit': 425, 'portion': 426, 'approach': 427, 'hashing': 428, 'write': 429, 'threaded': 430, 'switch': 431, 'serial': 432, 'analysis': 433, 'reduces': 434, 'whose': 435, 'specifies': 436, 'pointers': 437, 'devices': 438, 'up': 439, 'integer': 440, 'ready': 441, 'computes': 442, 'goal': 443, 'least': 444, 'n2': 445, 'completed': 446, 'bestfirst': 447, 'subsequence': 448, 'caching': 449, 'cycle': 450, 'rule': 451, 'collision': 452, 'beam': 453, 'box': 454, 'separate': 455, 'those': 456, 'need': 457, 'switching': 458, 'schedulers': 459, 'greedy': 460, 'implementation': 461, 'under': 462, 'speed': 463, 'pairs': 464, 'defined': 465, 'current': 466, 'kth': 467, 'digits': 468, 'v': 469, 'equation': 470, 'class': 471, 'remainder': 472, 'symmetric': 473, 'assigned': 474, 'subset': 475, 'record': 476, 'preceding': 477, 'priority': 478, 'application': 479, 'circular': 480, 'situation': 481, 'determine': 482, 'command': 483, 'minimal': 484, 'various': 485, 'techniques': 486, 'front': 487, 'terminal': 488, 'general': 489, 'stacks': 490, 'parts': 491, 'abstract': 492, 'g': 493, 'store': 494, 'limited': 495, 'computational': 496, 'both': 497, 'units': 498, 'modular': 499, 'square': 500, 'advantage': 501, 'empty': 502, 'id': 503, 'determines': 504, 'working': 505, 'throughput': 506, 'completion': 507, 'property': 508, 'loop': 509, 'designed': 510, 'computers': 511, 'model': 512, 'corresponding': 513, 'ie': 514, 'combination': 515, 'flow': 516, 'environment': 517, 'x': 518, 'integers': 519, 'constraints': 520, 'determining': 521, 'science': 522, 'global': 523, 'singlylinked': 524, 'must': 525, 'delaunay': 526, 'constant': 527, 'exponential': 528, 'parent': 529, 'sequential': 530, 'measure': 531, 'start': 532, 'indexing': 533, 'length': 534, 'prime': 535, 'cache': 536, 'high': 537, 'interface': 538, 'polynomials': 539, 'positive': 540, 'area': 541, 'triangulation': 542, 'traverse': 543, 'get': 544, 'basis': 545, 'acts': 546, 'written': 547, 'blocks': 548, 'read': 549, 'instance': 550, 'counter': 551, 'inserted': 552, 'polygon': 553, 'nearest': 554, 'partition': 555, 'topological': 556, 'euler': 557, 'rr': 558, 'idle': 559, 'incremental': 560, 'asymmetric': 561, 'c': 562, 'precision': 563, 'distributed': 564, 'increasing': 565, 'bounding': 566, 'nos': 567, 'prefix': 568, 'cannibalizing': 569, 'factor': 570, 'multiprocessor': 571, 'permutation': 572, 'logarithm': 573, 'calls': 574, '2': 575, 'viewed': 576, 'users': 577, 'interaction': 578, 'child': 579, 'similarity': 580, 'figure': 581, '7': 582, 'diagram': 583, 'interval': 584, 'makes': 585, 'phenomenon': 586, 'spends': 587, 'rather': 588, 'connection': 589, 'ordering': 590, 'graphs': 591, 'computation': 592, 'equal': 593, 'timesharing': 594, 'around': 595, 'printer': 596, 'core': 597, 'pronounced': 598, 'occurs': 599, 'request': 600, 'identical': 601, 'copy': 602, 'olog': 603, 'similar': 604, 'having': 605, 'efficiently': 606, 'image': 607, 'sum': 608, 'manner': 609, 'solves': 610, 'dealing': 611, 'randomized': 612, 'entry': 613, 'wait': 614, 'export': 615, 'concept': 616, 'index': 617, 'backtracking': 618, 'fault': 619, 'error': 620, 'generated': 621, 'initial': 622, 'service': 623, 'increased': 624, 'support': 625, 'through': 626, 'mutual': 627, 'exclusion': 628, 'especially': 629, 'requires': 630, 'requirements': 631, 'containing': 632, 'return': 633, 'response': 634, 'paradigm': 635, 'quick': 636, 'disadvantages': 637, 'quantum': 638, 'local': 639, 'searching': 640, 'notations': 641, 'arithmetic': 642, 'bankers': 643, 'represent': 644, 'behind': 645, 'generation': 646, 'counting': 647, 'monitor': 648, 'designing': 649, 'related': 650, 'specified': 651, 'critical': 652, 'subtrees': 653, '10': 654, 'would': 655, 'includes': 656, '3': 657, 'text': 658, 'keep': 659, 'info': 660, 'either': 661, 'exist': 662, 'distinct': 663, 'less': 664, 'visiting': 665, 'special': 666, 'considerable': 667, 'instruction': 668, 'actual': 669, 'communication': 670, 'optimization': 671, 'component': 672, 'double': 673, 'primary': 674, 'whether': 675, 'done': 676, 'parameters': 677, 'postfix': 678, 'relative': 679, 'compression': 680, 'sorts': 681, 'approximation': 682, 'logarithmic': 683, 'suitable': 684, 'registers': 685, 'auxiliary': 686, 'words': 687, 'roots': 688, 'lifo': 689, 'procedure': 690, 'submitted': 691, 'strategy': 692, 'include': 693, 'andor': 694, 'patterns': 695, 'build': 696, 'ability': 697, 'solving': 698, 'driver': 699, 'log': 700, 'want': 701, 'copies': 702, 'dividing': 703, 'notation': 704, '0': 705, 'relatively': 706, 'stands': 707, 'been': 708, 'normal': 709, 'insertions': 710, 'wrapping': 711, 'match': 712, 'cubic': 713, 'neighbour': 714, 'fcfs': 715, 'triangularisation': 716, 'nth': 717, 'select': 718, 'maximal': 719, 'cliques': 720, 'tarjans': 721, 'lowest': 722, 'pollards': 723, 'load': 724, 'metaphone': 725, 'turnaround': 726, 'online': 727, 'multiprogramming': 728, 'examples': 729, 'avl': 730, 'macro': 731, 'fuzzy': 732, 'wildcards': 733, 'salesman': 734, 'jump': 735, 'euclids': 736, 'beginning': 737, 'spawning': 738, 'aging': 739, 'scan': 740, 'closure': 741, 'calculus': 742, 'library': 743, 'advantages': 744, 'applied': 745, 'inverse': 746, 'nonpreemptive': 747, 'principle': 748, 'perform': 749, 'smooth': 750, 'gcd': 751, 'oriented': 752, 'bucket': 753, 'works': 754, 'simplest': 755, 'triangles': 756, 'void': 757, 'consists': 758, 'appear': 759, 'bfs': 760, 'convert': 761, 'according': 762, 'down': 763, 'names': 764, 'sound': 765, 'hermite': 766, '100': 767, 'triangulations': 768, 'action': 769, 'due': 770, 'surface': 771, 'differential': 772, 'explicit': 773, 'equations': 774, 'turn': 775, 'group': 776, 'organized': 777, 'minimized': 778, 'puts': 779, 'shows': 780, 'taking': 781, 'generate': 782, 'obtain': 783, 'goes': 784, 'allocating': 785, 'codes': 786, 'extension': 787, 'event': 788, 'period': 789, 'dispatcher': 790, 'drives': 791, 'objects': 792, 'drawing': 793, 'variant': 794, 'cost': 795, 'alignment': 796, 'fixed': 797, 'weights': 798, 'inputs': 799, 'digit': 800, 'avoid': 801, 'realmemory': 802, 'logarithms': 803, 'outside': 804, 'stable': 805, 'taken': 806, 'last': 807, 'caches': 808, 'secret': 809, 'undocumented': 810, 'grant': 811, 'authentication': 812, 'siblings': 813, 'classified': 814, 'forest': 815, 'comparisons': 816, 'static': 817, 'compiler': 818, 'member': 819, 'implement': 820, 'tasks': 821, 'approximate': 822, 'decrease': 823, 'context': 824, 'block': 825, 'achieve': 826, 'onto': 827, 'following': 828, 'criteria': 829, 'insert': 830, 'terms': 831, 'stores': 832, 'repeatedly': 833, 'fifo': 834, 'performs': 835, 'smaller': 836, 'iterations': 837, '4': 838, 'resulting': 839, 'manipulation': 840, 'simultaneously': 841, 'activity': 842, 'independent': 843, 'backing': 844, 'times': 845, 'preemption': 846, 'ordered': 847, 'specific': 848, 'allocate': 849, 'ensures': 850, 'overall': 851, 'position': 852, 'subproblems': 853, 'randomised': 854, 'uniform': 855, 'classify': 856, 'assignment': 857, 'said': 858, 'name': 859, 'replacements': 860, 'geometric': 861, 'lead': 862, 'factors': 863, 'loading': 864, 'representation': 865, 'before': 866, 'mechanisms': 867, 'never': 868, 'idea': 869, 'zombie': 870, 'batch': 871, 'fields': 872, 'raid': 873, 'd': 874, 'transform': 875, 'hierarchical': 876, 'represented': 877, 'unix': 878, 'logic': 879, 'send': 880, 'u': 881, 'purposes': 882, 'seen': 883, 'see': 884, 'directory': 885, 'together': 886, 'entire': 887, 'range': 888, 'necessarily': 889, 'although': 890, 'advance': 891, 'often': 892, 'involves': 893, 'sets': 894, 'replaced': 895, 'records': 896, 'drive': 897, 'creates': 898, 'bash': 899, 'subprocess': 900, 'executes': 901, 'among': 902, 'whereas': 903, 'whenever': 904, 'nonlinear': 905, 'voronoi': 906, 'exhaustive': 907, 'chain': 908, 'steps': 909, 'hybrid': 910, 'shell': 911, 'busy': 912, 'non': 913, 'pool': 914, 'backward': 915, 'conditions': 916, 'meaning': 917, 'brute': 918, 'force': 919, 'executive': 920, 'lock': 921, 'bidirectional': 922, 'place': 923, 'storing': 924, 'leaves': 925, 'your': 926, 'typically': 927, 'explores': 928, 'route': 929, 'organizing': 930, 'track': 931, 'much': 932, 'itself': 933, 'target': 934, 'calculating': 935, 'try': 936, 'above': 937, 'improve': 938, 'message': 939, 'progress': 940, 'searches': 941, 'arbitrary': 942, 'predecessor': 943, 'successor': 944, 'happens': 945, 'transformation': 946, 'concurrent': 947, 'bound': 948, 'characters': 949, 'avoids': 950, 'sized': 951, 'frequently': 952, 'strictly': 953, 'generally': 954, 'currently': 955, 'source': 956, 'intermediate': 957, 'wasted': 958, 'needs': 959, 'compared': 960, 'correct': 961, 'decision': 962, 'keys': 963, 'deletions': 964, 'rating': 965, 'acyclic': 966, 'strong': 967, 'migration': 968, 'circuit': 969, 'ancestors': 970, 'graceful': 971, 'degradation': 972, 'unrestricted': 973, 'introselect': 974, 'ftdisk': 975, 'reversedelete': 976, 'maxcliquedyn': 977, 'meant': 978, 'scsi': 979, 'bronkerbosch': 980, 'link': 981, 'fibonacci': 982, 'h': 983, 'bitonic': 984, 'why': 985, 'boyer': 986, 'moore': 987, 'doublylinked': 988, 'bentleyottmann': 989, 'memorymanagement': 990, 'mmu': 991, 'nonblocking': 992, 'lagrange': 993, 'burst': 994, 'fordfulkerson': 995, 'karatsuba': 996, 'intersection': 997, 'pancake': 998, 'absolute': 999, 'depthfirst': 1000, 'shuffle': 1001, 'transitive': 1002, 'dijkstras': 1003, 'breadthfirst': 1004, 'spectral': 1005, 'layout': 1006, 'drawback': 1007, 'mvt': 1008, 'splaying': 1009, 'christofides': 1010, 'after': 1011, 'gets': 1012, 'cipollas': 1013, 'spigot': 1014, 'unity': 1015, 'continuous': 1016, 'boruvkas': 1017, 'bead': 1018, 'las': 1019, 'vegas': 1020, 'cachecoherency': 1021, 'multiplicative': 1022, 'tracking': 1023, 'tonellishanks': 1024, 'pigeonhole': 1025, 'min': 1026, 'monte': 1027, 'carlo': 1028, 'pcb': 1029, 'booths': 1030, 'mutant': 1031, 'gnome': 1032, 'medium': 1033, 'gift': 1034, 'infix': 1035, 'full': 1036, 'extended': 1037, 'babystep': 1038, 'open': 1039, 'addressing': 1040, 'simplex': 1041, 'selecting': 1042, 'safe': 1043, 'section': 1044, 'states': 1045, 'expanding': 1046, 'promising': 1047, 'chosen': 1048, 'background': 1049, 'vary': 1050, 'developed': 1051, 'cycles': 1052, 'spline': 1053, 'perfect': 1054, 'statistic': 1055, 'calling': 1056, 'modulo': 1057, 'utilizing': 1058, 'region': 1059, 'quality': 1060, 'travelling': 1061, 'requests': 1062, 'transfer': 1063, 'sufficient': 1064, 'schemes': 1065, 'inordinate': 1066, 'faults': 1067, 'elapsed': 1068, 'located': 1069, 'potentially': 1070, 'mounted': 1071, 'boot': 1072, 'widely': 1073, 'opensource': 1074, 'principal': 1075, 'modifiable': 1076, 'modified': 1077, 'algorithmic': 1078, 'essence': 1079, 'quickselect': 1080, 'larger': 1081, 'integration': 1082, 'ordinary': 1083, 'naive': 1084, 'trying': 1085, 'generating': 1086, 'randomly': 1087, 'failure': 1088, 'classic': 1089, 'tolerance': 1090, 'opened': 1091, 'crashes': 1092, 'permutations': 1093, 'runningexample': 1094, 'edgeweighted': 1095, 'implicit': 1096, 'quicksort': 1097, 'roundrobin': 1098, 'primarily': 1099, 'aimed': 1100, 'setup': 1101, 'milliseconds': 1102, 'subgraph': 1103, 'everything': 1104, 'translator': 1105, 'low': 1106, 'assembly': 1107, 'mnemonic': 1108, 'translated': 1109, 'admitted': 1110, 'becomes': 1111, 'however': 1112, 'scene': 1113, 'just': 1114, 'enables': 1115, 'considers': 1116, 'knowledge': 1117, 'normally': 1118, 'printing': 1119, 'print': 1120, 'accordingly': 1121, 'subdivision': 1122, 'repeated': 1123, 'busywaiting': 1124, 'engaged': 1125, 'productive': 1126, 'toward': 1127, 'english': 1128, 'magnitude': 1129, 'operator': 1130, 'final': 1131, 'amortized': 1132, 'sublinear': 1133, 'multipleprocessor': 1134, 'checking': 1135, 'updating': 1136, 'modulus': 1137, 'change': 1138, 'dynamically': 1139, 'fashion': 1140, 'hot': 1141, 'standby': 1142, 'nothing': 1143, 'servers': 1144, 'role': 1145, 'fails': 1146, 'numbered': 1147, 'twodimensional': 1148, 'affine': 1149, 'heapsort': 1150, 'synchronize': 1151, 'improves': 1152, 'levenshtein': 1153, 'desired': 1154, 'permits': 1155, 'noncontiguous': 1156, 'varied': 1157, 'chunks': 1158, 'processormacro': 1159, 'executable': 1160, 'letter': 1161, 'decimal': 1162, 'deleted': 1163, 'share': 1164, 'specialpurpose': 1165, 'cities': 1166, 'city': 1167, 'manages': 1168, 'communications': 1169, 'ensure': 1170, 'usability': 1171, 'shapes': 1172, 'dtp': 1173, 'grbner': 1174, 'swapped': 1175, 'specialized': 1176, 'allow': 1177, 'filefolder': 1178, 'location': 1179, 'fixedsized': 1180, 'variablesized': 1181, 'intersect': 1182, 'instant': 1183, 'relate': 1184, 'variablewindow': 1185, 'signal': 1186, 'pancakes': 1187, 'turtles': 1188, 'letting': 1189, 'scheduled': 1190, 'reduce': 1191, 'composed': 1192, 'processorsvirtual': 1193, 'storagesource': 1194, 'accessing': 1195, 'congruence': 1196, 'knowing': 1197, 'processs': 1198, 'brings': 1199, 'missingand': 1200, 'hypergeometric': 1201, 'hang': 1202, 'endpoint': 1203, 'squareroot': 1204, 'squares': 1205, 'incrementally': 1206, 'valid': 1207, 'interruption': 1208, 'star': 1209, 'subproblem': 1210, 'approximately': 1211, 'inplace': 1212, 'viz': 1213, 'interview': 1214, 'candidate': 1215, 'geometry': 1216, 'convenient': 1217, 'instances': 1218, 'preorder': 1219, 'breadth': 1220, 'iterative': 1221, 'necessary': 1222, 'representing': 1223, 'expressions': 1224, 'resolution': 1225, 'huffman': 1226, 'balance': 1227, 'probing': 1228, 'calculated': 1229, 'push': 1230, 'top': 1231, 'add': 1232, 'sparse': 1233, 'identify': 1234, 'step': 1235, 'complex': 1236, 'definition': 1237, 'determined': 1238, 'construction': 1239, 'cells': 1240, 'ways': 1241, 'solved': 1242, 'made': 1243, 'managing': 1244, 'r': 1245, 'task': 1246, 'n1': 1247, 'syntax': 1248, 'blocked': 1249, 'spending': 1250, 'instead': 1251, 'hard': 1252, 'previous': 1253, 'calculation': 1254, 'rear': 1255, 'go': 1256, 'exact': 1257, 'placed': 1258, 'represents': 1259, 'starting': 1260, 'free': 1261, 'take': 1262, 'exactly': 1263, 'easier': 1264, 'ones': 1265, 'comparing': 1266, 'distribution': 1267, 'requirement': 1268, 'identifier': 1269, 'addition': 1270, 'implementing': 1271, 'pass': 1272, 'adt': 1273, 'aid': 1274, 'locks': 1275, 'differentiate': 1276, 'chaining': 1277, 'inserting': 1278, 'three': 1279, 'know': 1280, 'reset': 1281, 'dead': 1282, 'returns': 1283, 'test': 1284, 'relation': 1285, 'randomness': 1286, 'places': 1287, 'vfs': 1288, 'overlays': 1289, 'implemented': 1290, 'gain': 1291, 'booting': 1292, 'appropriate': 1293, 'named': 1294, 'dfs': 1295, 'further': 1296, 'programmer': 1297, 'managed': 1298, 'sure': 1299, 'development': 1300, 'hand': 1301, 'builtin': 1302, '5': 1303, '6': 1304, 'directly': 1305, 'subtreetraverse': 1306, 'controls': 1307, 'check': 1308, 't': 1309, 'regular': 1310, 'copied': 1311, 'applicable': 1312, 'singly': 1313, 'standard': 1314, 'amounts': 1315, 'provide': 1316, 'formed': 1317, 'segments': 1318, 'added': 1319, '23': 1320, 'variables': 1321, 'exists': 1322, 'operators': 1323, 'across': 1324, 'offset': 1325, 'accessed': 1326, 'hence': 1327, 'even': 1328, 'though': 1329, 'events': 1330, 'enough': 1331, 'terminated': 1332, 'making': 1333, 'moving': 1334, 'here': 1335, 'follows': 1336, 'easily': 1337, 'rich': 1338, 'splay': 1339, 'microkernel': 1340, 'few': 1341, 'assign': 1342, 'exploration': 1343, 'reasons': 1344, 'balancing': 1345, 'walk': 1346, 'tests': 1347, 'isempty': 1348, 'segment': 1349, 'formula': 1350, 'goals': 1351, 'straight': 1352, 'forward': 1353, 'drivers': 1354, 'areas': 1355, 'interrupts': 1356, 'fundamental': 1357, 'floydwarshall': 1358, 'merit': 1359, 'secondary': 1360, 'random': 1361, 'calculate': 1362, 'm': 1363, 'traversals': 1364, 'levels': 1365, 'e': 1366, 'uniformly': 1367, 'choices': 1368, 'pronunciation': 1369, 'unique': 1370, 'reference': 1371, 'obtained': 1372, 'uv': 1373, 'dependencies': 1374, 'capacity': 1375, 'branch': 1376, 'leads': 1377, 'demanded': 1378, 'traversed': 1379, 'operate': 1380, 'maintained': 1381, 'median': 1382, 'delete': 1383, 'kruskals': 1384, 'essential': 1385, 'versus': 1386, 'maps': 1387, 'reads': 1388, 'constructs': 1389, 'inherently': 1390, 'largest': 1391, 'nonempty': 1392, 'replacement': 1393, 'brought': 1394, 'mechanism': 1395, 'close': 1396, 'artificial': 1397, 'intelligence': 1398, 'successive': 1399, 'true': 1400, 'visible': 1401, 'exported': 1402, 'started': 1403, 'limit': 1404, 'unsorted': 1405, 'unless': 1406, 'inside': 1407, 'gives': 1408, 'deadlockavoidance': 1409, 'banking': 1410, 'bank': 1411, 'allocates': 1412, 'cash': 1413, 'longer': 1414, 'satisfy': 1415, 'customers': 1416, 'nodeassign': 1417, 'parsing': 1418, 'were': 1419, 'effect': 1420, 'controlled': 1421, 'game': 1422, 'processwaiting': 1423, 'interact': 1424, 'paths': 1425, 'adding': 1426, 'heuristics': 1427, 'maintaining': 1428, 'half': 1429, 'require': 1430, 'pi': 1431, 'positions': 1432, 'memoization': 1433, 'results': 1434, 'produces': 1435, 'cell': 1436, 'unambiguous': 1437, 'specification': 1438, 'operands': 1439, 'simpler': 1440, 'mod': 1441, 'additional': 1442, 'increases': 1443, 'additionally': 1444, 'discussed': 1445, 'assumption': 1446, 'come': 1447, 'series': 1448, 'kept': 1449, 'choice': 1450, 'operates': 1451, 'equality': 1452, 'ni': 1453, 'costsearch': 1454, 'metrics': 1455, 'ruperts': 1456, 'chudnovsky': 1457, 'dinics': 1458, 'cantorzassenhaus': 1459, 'salz': 1460, 'wildcat': 1461, 'rounding': 1462, 'kirkpatrickseidel': 1463, 'fortunes': 1464, 'offline': 1465, 'schreiersims': 1466, 'pattern': 1467, 'edmondsedmondskara': 1468, 'componets': 1469, 'exponentiation': 1470, 'kangaroo': 1471, 'toddcoxeter': 1472, 'schonhagestrassen': 1473, 'bogosort': 1474, 'dedicated': 1475, 'warnsdorffs': 1476, 'detection': 1477, 'newtonraphson': 1478, 'chans': 1479, 'lexicographic': 1480, 'predictive': 1481, 'schensted': 1482, 'better': 1483, 'rabinkarp': 1484, 'borweins': 1485, 'forcebased': 1486, 'introsoft': 1487, 'patience': 1488, 'sorter': 1489, 'partitioning': 1490, 'formatting': 1491, 'hors': 1492, 'dameraulaenshtein': 1493, 'heapnsort': 1494, 'hungarian': 1495, 'super': 1496, 'radix': 1497, 'hirschberhs': 1498, 'laplacian': 1499, 'smoothing': 1500, 'ternary': 1501, 'krauss': 1502, 'smithwaterman': 1503, 'timsort': 1504, 'johnsons': 1505, 'p1': 1506, 'traveling': 1507, 'hopcroft': 1508, 'karp': 1509, 'gilbertjohnsonkeerthi': 1510, 'describe': 1511, 'objective': 1512, 'chakravala': 1513, 'batched': 1514, 'toomcook': 1515, 'faugere': 1516, 'f4': 1517, 'shifting': 1518, 'nthroot': 1519, 'primality': 1520, 'floyd': 1521, 'warshall': 1522, 'kruscals': 1523, 'dualmode': 1524, 'jarowinkler': 1525, 'comb': 1526, 'deepening': 1527, 'fischeryates': 1528, 'baileyborwein': 1529, 'plouffe': 1530, 'oddeven': 1531, 'graham': 1532, 'kargerstein': 1533, 'marshalling': 1534, 'galegaleshapely': 1535, 'truncation': 1536, 'registration': 1537, 'gang': 1538, 'bkm': 1539, 'polling': 1540, 'hellman': 1541, 'kasanes': 1542, 'floyds': 1543, 'cyclefinding': 1544, 'gausslegendre': 1545, 'dram': 1546, 'configuration': 1547, 'birkhoff': 1548, 'gospers': 1549, 'knuth': 1550, 'morris': 1551, 'pratt': 1552, 'closest': 1553, 'turtle': 1554, 'ipc': 1555, 'hamming': 1556, 'spaghetti': 1557, 'heaps': 1558, 'ancestor': 1559, 'cone': 1560, 'exponentiating': 1561, 'squaring': 1562, 'zhu': 1563, 'takaoka': 1564, 'shoe': 1565, 'lace': 1566, 'knuthbendix': 1567, 'steinhausjohnsontrotter': 1568, 'chews': 1569, 'sibling': 1570, 'relabel': 1571, 'alpha': 1572, 'max': 1573, 'plus': 1574, 'beta': 1575, 'aspects': 1576, 'risch': 1577, 'solver': 1578, 'cocktail': 1579, 'shaker': 1580, 'sample': 1581, 'flash': 1582, 'primss': 1583, 'ukkonens': 1584, 'sss': 1585, 'ahocorasick': 1586, 'needle': 1587, 'manwunsch': 1588, 'launcher': 1589, 'buchbergers': 1590, 'ditchmokotoff': 1591, 'sounded': 1592, 'deterministic': 1593, 'lavenshtein': 1594, 'edit': 1595, 'filtered': 1596, 'projection': 1597, 'properties': 1598, 'coloring': 1599, 'rho': 1600, 'bitap': 1601, 'security': 1602, 'attributes': 1603, 'nysiis': 1604, 'bowyerwatson': 1605, 'dices': 1606, 'coefficient': 1607, 'kosrajus': 1608, 'brents': 1609, 'postman': 1610, 'rdbms': 1611, 'dos': 1612, 'strategies': 1613, 'girvannewman': 1614, 'terminate': 1615, 'shut': 1616, 'lowestcost': 1617, 'costs': 1618, 'query': 1619, 'mra': 1620, 'western': 1621, 'airlines': 1622, '1977': 1623, 'indexation': 1624, 'homophonous': 1625, 'interpolator': 1626, 'piece': 1627, 'thirddegree': 1628, 'form1': 1629, 'derivatives': 1630, 'domain': 1631, 'dissimilarity': 1632, 'score': 1633, 'consider': 1634, 'percentage': 1635, 'doing': 1636, 'callsprocess': 1637, 'invokes': 1638, 'was': 1639, 'clients': 1640, 'dinicsalgorithm': 1641, 'originates': 1642, 'ends': 1643, 'problemsolving': 1644, 'engineering': 1645, 'endpoints': 1646, 'comes': 1647, 'decompose': 1648, 'locates': 1649, 'conceptual': 1650, 'quotient': 1651, 'wastage': 1652, 'inefficiently': 1653, 'curve': 1654, 'fitting': 1655, 'unordered': 1656, 'stringsearching': 1657, 'stringmatching': 1658, 'eulers': 1659, 'rungekutta': 1660, 'base': 1661, 'bsgs': 1662, 'designs': 1663, 'pseudorandomly': 1664, 'continue': 1665, 'providing': 1666, 'hardwaresystems': 1667, 'tolerantif': 1668, 'stop': 1669, 'systemthen': 1670, 'slowerthis': 1671, 'reports': 1672, 'restrictions': 1673, 'argument': 1674, 'round': 1675, 'cosets': 1676, 'selects': 1677, 'note': 1678, 'permanent': 1679, 'introspective': 1680, 'medians': 1681, 'worstcase': 1682, 'schnhagestrassen': 1683, 'asymptotically': 1684, 'highly': 1685, 'ineffective': 1686, 'successively': 1687, 'generates': 1688, 'educational': 1689, 'contrast': 1690, 'qnxrealtime': 1691, 'arbitrarily': 1692, 'subject': 1693, 'orientation': 1694, 'duration': 1695, 'warnsdorfs': 1696, 'knights': 1697, 'tour': 1698, 'partitionexchange': 1699, 'serving': 1700, 'systematic': 1701, 'placing': 1702, 'cant': 1703, 'systemit': 1704, 'activitiesit': 1705, 'klik': 1706, 'klk': 1707, 'induced': 1708, 'combines': 1709, 'aspect': 1710, 'microkernelexample': 1711, 'microsoft': 1712, 'included': 1713, 'attempt': 1714, 'indices': 1715, 'swap': 1716, 'solids': 1717, 'powers': 1718, 'facilitates': 1719, 'switches': 1720, 'pace': 1721, 'outputsensitive': 1722, '3dimensional': 1723, 'planar': 1724, 'higherdimension': 1725, 'simplices': 1726, 'binarylike': 1727, 'dictionary': 1728, 'interpolated': 1729, 'submission': 1730, 'threeway': 1731, 'young': 1732, 'tableaux': 1733, 'seem': 1734, '1p': 1735, 'diconnected': 1736, 'reachable': 1737, 'visited': 1738, 'combine': 1739, 'domains': 1740, 'incompletely': 1741, 'piecebypiece': 1742, 'fed': 1743, 'optical': 1744, 'scanners': 1745, 'tape': 1746, 'competing': 1747, 'technology': 1748, 'ide': 1749, 'integrated': 1750, 'electronics': 1751, 'undergone': 1752, 'inwhich': 1753, 'forcedirected': 1754, 'aestheticallypleasing': 1755, 'begin': 1756, 'exceeds': 1757, 'narrows': 1758, 'locations': 1759, 'sh': 1760, 'shsh1sh21': 1761, 'h0': 1762, 'sh1': 1763, 'mergesort': 1764, 'building': 1765, 'creating': 1766, 'infinite': 1767, 'simplification': 1768, 'boyermoore': 1769, 'dameraulevenshtein': 1770, 'scientific': 1771, 'pick': 1772, 'remaining': 1773, 'integrates': 1774, 'ai': 1775, 'configurations': 1776, 'intention': 1777, 'physicaladdress': 1778, 'routine': 1779, 'cases': 1780, 'routines': 1781, 'supersequence': 1782, 'subsequences': 1783, 'degrees': 1784, 'truth': 1785, 'usual': 1786, 'false': 1787, 'measured': 1788, 'polygonal': 1789, 'mesh': 1790, 'accuracy': 1791, 'allowed': 1792, 'processprocesses': 1793, 'decreasing': 1794, 'vice': 1795, 'versa': 1796, 'endit': 1797, 'obeys': 1798, 'listing': 1799, 'crossings': 1800, 'constituent': 1801, 'affecting': 1802, 'nonrecursive': 1803, 'relocation': 1804, 'sent': 1805, 'memorythe': 1806, 'deals': 1807, 'sees': 1808, 'adaptative': 1809, 'derived': 1810, 'python': 1811, 'java': 1812, 'se': 1813, 'enclosing': 1814, 'algebraicgroup': 1815, 'factorisation': 1816, '12': 1817, 'retrieving': 1818, 'connect': 1819, 'outputs': 1820, 'slow': 1821, 'distances': 1822, 'visits': 1823, 'origin': 1824, 'reliable': 1825, 'computationally': 1826, 'inefficient': 1827, 'bipartite': 1828, 'cardinality': 1829, 'controlling': 1830, 'mutexsemaphoresmonitorscondition': 1831, 'regions': 1832, 'delone': 1833, 'circumcircle': 1834, 'triangle': 1835, 'envelope': 1836, 'reals': 1837, 'cyclic': 1838, 'indeterminate': 1839, 'pells': 1840, 'compact': 1841, 'trie': 1842, 'protected': 1843, 'indicates': 1844, 'mentions': 1845, 'f5': 1846, 'room': 1847, 'extraction': 1848, 'utilizes': 1849, 'polish': 1850, 'nature': 1851, 'greatest': 1852, 'divisor': 1853, 'converts': 1854, 'compilation': 1855, 'lexical': 1856, 'optimized': 1857, 'minimumspanningtree': 1858, 'protect': 1859, 'malfunctioning': 1860, 'evolvedsystem': 1861, 'pop': 1862, 'lines': 1863, 'regardless': 1864, 'colloquial': 1865, 'disordered': 1866, 'spatula': 1867, 'flip': 1868, 'eliminate': 1869, 'near': 1870, 'elementary': 1871, 'suppose': 1872, 'findx': 1873, 'changed': 1874, 'bruteforce': 1875, 'obstacle': 1876, 'doesnt': 1877, 'initiated': 1878, 'originally': 1879, 'interconnections': 1880, 'grahams': 1881, 'per': 1882, 'unitturnaround': 1883, 'queueresponse': 1884, 'nternal': 1885, '736': 1886, '9': 1887, 'kargers': 1888, 'cut': 1889, 'packaging': 1890, 'sending': 1891, 'boundaries': 1892, 'marriage': 1893, 'probabilistic': 1894, 'subroutines': 1895, 'numeric': 1896, 'rigidtime': 1897, 'optimally': 1898, 'align': 1899, 'removing': 1900, 'lightweight': 1901, 'comprises': 1902, '1to1': 1903, 'closely': 1904, 'blocking': 1905, 'minimize': 1906, 'predated': 1907, 'processesaging': 1908, 'reciprocal': 1909, 'abelian': 1910, 'features': 1911, 'debuggingwhen': 1912, 'separately': 1913, 'appears': 1914, 'actively': 1915, 'moved': 1916, 'towards': 1917, 'maintain': 1918, 'regarding': 1919, 'saves': 1920, 'simplifies': 1921, 'extent': 1922, 'subarray': 1923, 'quickhull': 1924, 'capacitance': 1925, 'voltages': 1926, 'hit': 1927, 'quantities': 1928, 'approximationssuch': 1929, 'studied': 1930, 'interfaces': 1931, 'sums': 1932, 'themselves': 1933, 'bypasses': 1934, 'reexamination': 1935, 'matched': 1936, 'organization': 1937, 'beads': 1938, 'slide': 1939, 'poles': 1940, 'abacus': 1941, 'straightforward': 1942, 'gapped': 1943, 'gaps': 1944, 'accelerate': 1945, 'subsequent': 1946, 'informs': 1947, 'immediately': 1948, 'reflected': 1949, 's': 1950, 'held': 1951, 'requiring': 1952, 'lowlevel': 1953, 'interchange': 1954, 'built': 1955, 'abandoned': 1956, 'finestgrained': 1957, 'invoked': 1958, 'prioritized': 1959, 'highest': 1960, 'utilizednonpreemptive': 1961, 'enters': 1962, 'finishes': 1963, 'leastcost': 1964, 'bigger': 1965, 'variety': 1966, 'described': 1967, 'rewriting': 1968, 'pathfinding': 1969, 'shanks': 1970, 'ressol': 1971, 'r2': 1972, 'transferring': 1973, 'saving': 1974, 'old': 1975, 'saved': 1976, 'transposing': 1977, 'quickly': 1978, 'constrained': 1979, 'remembers': 1980, 'caller': 1981, 'knows': 1982, 'whom': 1983, 'siblingsbrothers': 1984, 'figurenodes': 1985, 'othernodes': 1986, 'balanced': 1987, 'smoothsort': 1988, 'upper': 1989, 'searched': 1990, 'family': 1991, 'produce': 1992, 'indefinite': 1993, 'antiderivatives': 1994, 'belongs': 1995, 'globbing': 1996, 'wildcard': 1997, 'expressed': 1998, 'wellformed': 1999, 'formulas': 2000, 'wffs': 2001, 'horn': 2002, 'clauses': 2003, 'constitute': 2004, 'sources': 2005, 'axioms': 2006, 'sinks': 2007, 'conclusions': 2008, 'incorrect': 2009, 'probability': 2010, 'alternately': 2011, 'power': 2012, 'already': 2013, 'samplesort': 2014, 'logb': 2015, 'k': 2016, 'bk': 2017, 'flashsort': 2018, 'showing': 2019, 'little': 2020, 'prims': 2021, 'jarnks': 2022, 'lineartime': 2023, 'constructing': 2024, 'suffix': 2025, 'lower': 2026, 'overlap': 2027, 'employs': 2028, 'allotted': 2029, 'pertaining': 2030, 'military': 2031, 'satellites': 2032, 'matches': 2033, 'advantageous': 2034, 'whole': 2035, 'fullfledged': 2036, 'respond': 2037, 'successfully': 2038, 'multiplies': 2039, 'signed': 2040, 'twos': 2041, 'complement': 2042, 'treebased': 2043, 'nodeanode': 2044, 'figure2511': 2045, 'sling': 2046, 'increment': 2047, 'effective': 2048, 'notion': 2049, 'ownership': 2050, 'daitchmokotoff': 2051, 'dm': 2052, 'questions': 2053, 'asked': 2054, 'redundant': 2055, 'disks': 2056, 'redundantly': 2057, 'comparisonbased': 2058, 'keeps': 2059, 'served': 2060, 'proper': 2061, 'swaps': 2062, 'de': 2063, 'metric': 2064, '2dimensional': 2065, 'radon': 2066, 'notably': 2067, 'constraint': 2068, 'satisfaction': 2069, 'builds': 2070, 'candidates': 2071, 'abandons': 2072, 'backtracks': 2073, 'soon': 2074, 'possibly': 2075, 'relates': 2076, 'suspended': 2077, 'swappingin': 2078, 'colouring': 2079, 'locally': 2080, 'stage1': 2081, 'intent': 2082, 'optimum': 2083, 'expected': 2084, 'composite': 2085, 'factorized': 2086, 'mst': 2087, 'theability': 2088, 'debugging': 2089, 'intermediary': 2090, 'bin': 2091, 'distributing': 2092, 'buckets': 2093, 'recursively': 2094, 'dimensions': 2095, 'substrings': 2096, 'jaccard': 2097, 'ax': 2098, 'giantstep': 2099, 'meetinthemiddle': 2100, 'kosarajus': 2101, 'kosarajusharir': 2102, 'inequality': 2103, 'producing': 2104, 'reconstruct': 2105, 'unstructured': 2106, 'cloud': 2107, 'iterators': 2108, 'grid': 2109, 'variablesvoid': 2110, 'sizenull': 2111, 'ptr': 2112, 'theoretically': 2113, 'writes': 2114, 'rational': 2115, 'causes': 2116, 'canonical': 2117, 'rabbits': 2118, 'itselfis': 2119, '6a': 2120, 'dispatchable': 2121, 'temporal': 2122, 'encoding': 2123, 'detect': 2124, 'communities': 2125, 'rendezvous': 2126, 'arise': 2127, 'disjoint': 2128, 'enumeration': 2129, 'paradigms': 2130, 'optimisation': 2131, 'parenthesis': 2132, 'actions': 2133, 'descendant': 2134, 'overflow': 2135, 'semaphores': 2136, 'multithreaded': 2137, 'entries': 2138, 'manager': 2139, 'articulation': 2140, 'draw': 2141, 'four': 2142, 'malloc': 2143, 'c2': 2144, 'btree': 2145, 'f': 2146, 'equivalent': 2147, 'statement': 2148, 'typical': 2149, 'ddks': 2150, 'functional': 2151, 'tablesize': 2152, 'generic': 2153, 'difficult': 2154, 'almost': 2155, 'reach': 2156, 'upon': 2157, 'character': 2158, 'roottraverse': 2159, 'passing': 2160, 'sender': 2161, 'receiver': 2162, 'delivered': 2163, 'protection': 2164, 'responsiveness': 2165, 'architecture': 2166, 'guessing': 2167, 'hold': 2168, 'depends': 2169, 'etc': 2170, 'handle': 2171, 'simultaneous': 2172, 'unlike': 2173, 'holds': 2174, 'involved': 2175, 'closer': 2176, 'occupied': 2177, 'nodemake': 2178, 'notationpostfix': 2179, 'except': 2180, 'closed': 2181, 'entities': 2182, 'removed': 2183, 'runtime': 2184, 'correctness': 2185, 'rules': 2186, 'anywhere': 2187, 'biconnected': 2188, 'automated': 2189, 'reasoning': 2190, 'creation': 2191, 'deletion': 2192, 'alternative': 2193, 'fg': 2194, 'managementmemory': 2195, 'merging': 2196, 'help': 2197, 'easy': 2198, 'nonleaf': 2199, 'wrong': 2200, 'w': 2201, 'vw': 2202, 'nodetraverse': 2203, 'parityraid': 2204, '8': 2205, 'timestorage': 2206, 'spaceprogramming': 2207, 'effort': 2208, 'currentnode': 2209, 'restricted': 2210, 'tr': 2211, 'rightskewed': 2212, 'issues': 2213, 'briefly': 2214, 'rabbit': 2215, 'datastructure': 2216, 'weakly': 2217, 'suspension': 2218, 'rings': 2219, 'benefits': 2220, 'multi': 2221, 'prerequisite': 2222, 'installing': 2223, 'could': 2224, 'detectionalgorithm': 2225, 'utilized': 2226, 'avoidance': 2227, 'readwrite': 2228, 'differ': 2229, 'postorder': 2230, 'interpreter': 2231, 'evaluation': 2232, 'forms': 2233, 'persistent': 2234, 'ephemeral': 2235, 'employee': 2236, 'nonterminal': 2237, 'variants': 2238, 'pipe': 2239, 'reduced': 2240, 'termination': 2241, 'mention': 2242, 'extensively': 2243, 'reached': 2244, 'underflow': 2245, 'indegree': 2246, 'prepaging': 2247, 'approximations': 2248, 'removes': 2249, 'implementations': 2250, 'subcomponents': 2251, 'multilinked': 2252, 'matrix': 2253, 'carried': 2254, 'frames': 2255, 'bellmanford': 2256, 'rightin': 2257, 'cursor': 2258, 'major': 2259, 'primitive': 2260, 'nonprimitive': 2261, 'kinds': 2262, 'processed': 2263, 'arrays': 2264, 'inorder': 2265, 'microkernels': 2266, 'reduction': 2267, 'examplefiletxt': 2268, 'console': 2269, '98': 2270, 'coupled': 2271, 'leak': 2272, 'leftin': 2273, 'daemons': 2274, 'ntfs': 2275, 'nondeterministic': 2276, 'residence': 2277, 'monitors': 2278, 'feature': 2279, 'folding': 2280, 'bits': 2281, 'attached': 2282, 'simulation': 2283, 'computerserver': 2284, 'provisions': 2285, 'update': 2286, 'firstcome': 2287, 'firstserved': 2288, 'dont': 2289, 'elementseg': 2290, 'activities': 2291, 'probe': 2292, 'constants': 2293, 'symbol': 2294, 'followsvisit': 2295, 'spent': 2296, 'intervals': 2297, 'later': 2298, 'followstraverse': 2299, 'subtreevisit': 2300, 'incoming': 2301, 'relevant': 2302, 'policy': 2303, 'frame': 2304, 'latter': 2305, 'partitions': 2306, 'swappinginteractive': 2307, 'lista': 2308, 'preparatory': 2309, 'installed': 2310, 'properly': 2311, 'designating': 2312, 'arenumber': 2313, 'listsapplications': 2314, 'contiguous': 2315, 'situations': 2316, 'likely': 2317, 'affected': 2318, 'loaded': 2319, 'infrequently': 2320, 'occurring': 2321, 'stays': 2322, 'understood': 2323, 'greater': 2324, 'evenly': 2325, 'maximized': 2326, 'occupies': 2327, 'getting': 2328, 'compactness': 2329, 'reverse': 2330, 'nonsharable': 2331, 'retain': 2332, 'performing': 2333, 'nullmake': 2334, 'display': 2335, 'returning': 2336, 'notationprefix': 2337, 'helps': 2338, 'rigid': 2339, 'isallocate': 2340, 'subtreeprocess': 2341, 'increase': 2342, 'save': 2343, 'money': 2344, 'finally': 2345, 'union': 2346, 'atlf2': 2347, '2345': 2348, 'createdrunning': 2349, 'executedwaiting': 2350, 'occurready': 2351, 'processorterminate': 2352, 'maybe': 2353, 'manufactured': 2354, 'companies': 2355, 'prevents': 2356, 'conflicts': 2357, 'incorporated': 2358, 'nearly': 2359, 'designoperating': 2360, 'systemdatabase': 2361, 'sends': 2362, 'notification': 2363, 'wants': 2364, 'handler': 2365, 'receives': 2366, 'tells': 2367, 'client': 2368, 'shown': 2369, 'figureeach': 2370, 'topmost': 2371, 'yes': 2372, 'descending': 2373, 'now': 2374, 'retrieve': 2375, 'exception': 2376, 'involve': 2377, 'worry': 2378, 'movement': 2379, 'messages': 2380, 'treearithmetic': 2381, 'evaluationsorting': 2382, 'appendnode': 2383, 'side': 2384, 'distinguished': 2385, 'redirector': 2386, 'servercache': 2387, 'managerfile': 2388, 'systemsnetwork': 2389, 'defining': 2390, 'clean': 2391, 'filerepresentation': 2392, 'vnode': 2393, 'designator': 2394, 'removal': 2395, 'abc': 2396, 'ab': 2397, 'enable': 2398, 'coordinates': 2399, 'functionalities': 2400, 'systemresource': 2401, 'utilizationresource': 2402, 'allocationprocess': 2403, 'managementfile': 2404, 'managementio': 2405, 'divided': 2406, 'provided': 2407, 'utilize': 2408, 'subtraction': 2409, 'naming': 2410, 'supported': 2411, 'zero': 2412, 'definitiondevelopment': 2413, 'modelspecification': 2414, 'algorithmdesigning': 2415, 'algorithmchecking': 2416, 'algorithmanalysis': 2417, 'algorithmimplementation': 2418, 'algorithmprogram': 2419, 'testingdocumentation': 2420, 'preparation': 2421, 'decide': 2422, 'identifying': 2423, 'assures': 2424, 'managementdevice': 2425, 'structuresnetwork': 2426, 'graphhierarchical': 2427, 'tried': 2428, 'big': 2429, 'areit': 2430, 'computeit': 2431, 'corresponds': 2432, 'shall': 2433, 'int': 2434, 'systemsmultiprogrammed': 2435, 'systemstimesharing': 2436, 'expensive': 2437, 'childrenall': 2438, 'hashes': 2439, 'cluster': 2440, 'dequeue': 2441, '1014': 2442, 'nodesn3': 2443, 'blockinterleaved': 2444, 'causing': 2445, 'kb': 2446, 'filename': 2447, 'exampl1txt': 2448, 'reason': 2449, 'filenames': 2450, 'processthey': 2451, 'peer': 2452, 'algorithminorderrootifrootnull': 2453, 'exitinorderleft': 2454, 'rootvisitrootinorderright': 2455, 'adts': 2456, 'via': 2457, 'functiontruncation': 2458, 'methodmodular': 2459, 'methodmid': 2460, 'methodfolding': 2461, 'conceptions': 2462, 'mark': 2463, 'remains': 2464, 'contained': 2465, 'goto': 2466, 'marked': 2467, 'accumulatorsindex': 2468, 'registersstack': 2469, 'prior': 2470, 'occurred': 2471, 'deal': 2472, 'transaction': 2473, 'iteratively': 2474, 'filled': 2475, 'tl': 2476, 'hr': 2477, 'trewe': 2478, 'hamper': 2479, 'diagrams': 2480, 'importance': 2481, 'algorithmhow': 2482, 'trashing': 2483, 'complier': 2484, 'treeat': 2485, 'circularlinked': 2486, 'arrayhint': 2487, 'kind': 2488, 'unionbyweight': 2489, 'disadvantage': 2490, 'triggered': 2491, 'pcs': 2492, 'objectives': 2493, 'studying': 2494, 'modularity': 2495, 'chess': 2496, 'challenging': 2497, 'waitsignal': 2498, 'compactions': 2499, 'demandpaging': 2500, 'ship': 2501, 'faster': 2502, 'trigram': 2503, 'demerits': 2504, 'dijkstra': 2505, 'layers': 2506, 'independence': 2507, 'calloc': 2508, 'blown': 2509, 'meets': 2510, 'indexed': 2511, 'concepts': 2512, 'logics': 2513, 'rdbmsnetwork': 2514, 'stipulations': 2515, 'merits': 2516, 'constituting': 2517, 'oss': 2518, 'throw': 2519, 'light': 2520, 'bootstrap': 2521, 'enumerate': 2522, 'loosely': 2523, 'tell': 2524, 'sections': 2525, 'structurea': 2526, 'none': 2527, 'consisting': 2528, 'unused': 2529, 'own': 2530, 'limitations': 2531, 'declaration': 2532, 'biconnectivity': 2533, 'involving': 2534, 'answer': 2535, 'handled': 2536, 'recover': 2537, 'crash': 2538, 'demerit': 2539, 'outdegree': 2540, 'deleting': 2541, 'understand': 2542, 'guide': 2543, 'behavior': 2544, 'hope': 2545, 'achieving': 2546, 'good': 2547, 'coding': 2548, 'programamount': 2549, 'programthe': 2550, 'problemevent': 2551, 'fiihash2x': 2552, 'says': 2553, 'apply': 2554, 'hash2x2hash2xand': 2555, 'hash2xrxmodr': 2556, 'underlies': 2557, 'dual': 2558, 'consuminga': 2559, 'predecessors': 2560, '61234': 2561, 'precede': 2562, 'pif': 2563, 'persevered': 2564, 'again': 2565, 'floatingpoint': 2566, 'constantsstring': 2567, 'restructuring': 2568, 'moves': 2569, 'rotations': 2570, 'processesoperating': 2571, 'processesuser': 2572, 'backwardif': 2573, 'directedgraph': 2574, 'underlying': 2575, 'algorithmprims': 2576, 'functionhash': 2577, 'tables': 2578, 'ampersand': 2579, 'ptemployee0': 2580, 'projects2': 2581, 'ss1s2sk': 2582, 'ieeach': 2583, 'si': 2584, 'sj': 2585, 'sisj': 2586, 'identified': 2587, 'representative': 2588, 'requesttimingparent': 2589, 'separation': 2590, 'processeconomy': 2591, 'superposition': 2592, 'entanglement': 2593, 'category': 2594, 'gameword': 2595, 'repetitions': 2596, 'protecting': 2597, 'slower': 2598, 'mutexes': 2599, 'post': 2600, 'methodmethod': 2601, 'carries': 2602, 'implied': 2603, 'translation': 2604, 'translates': 2605, 'tower': 2606, 'hanoi': 2607, 'pivotal': 2608, 'extract': 2609, 'sortif': 2610, 'frequent': 2611, 'filethus': 2612, 'anythingit': 2613, 'bit': 2614, 'essentially': 2615, 'arrayadditional': 2616, 'who': 2617, 'consuming': 2618, 'holding': 2619, 'preempt': 2620, 'listallocate': 2621, 'graphical': 2622, 'modifications': 2623, 'searchedset': 2624, 'i0repeat': 2625, 'arriemployee': 2626, 'idincrement': 2627, 'i': 2628, '1if': 2629, 'foundelse': 2630, 'checks': 2631, 'evaluating': 2632, 'arestrictly': 2633, 'wish': 2634, 'oneway': 2635, 'hashingopen': 2636, 'word': 2637, 'feasible': 2638, 'priorities': 2639, 'requesttiming': 2640, 'graphmaintain': 2641, 'duplicate': 2642, 'web': 2643, 'pagesconstructing': 2644, 'graphdefine': 2645, 'equivalence': 2646, 'minus': 2647, 'treethe': 2648, '1the': 2649, '14': 2650, 'append': 2651, 'asinorderpreorderpostorder': 2652, 'inter': 2653, 'socketspipesshared': 2654, 'memorysignals': 2655, 'reflect': 2656, 'world': 2657, 'exceededmemory': 2658, 'unavailablebounds': 2659, 'violationprotection': 2660, 'errorarithmetic': 2661, 'errortime': 2662, 'overrunio': 2663, 'failureinvalid': 2664, 'instructionprivileged': 2665, 'instructiondata': 2666, 'misuseoperator': 2667, 'interventionparent': 2668, 'eliminateddisadvantage': 2669, 'guarantee': 2670, 'unoccupied': 2671, 'systemstatistical': 2672, 'packagenumerical': 2673, 'analysisgraphicsartificial': 2674, 'intelligencesimulation': 2675, 'retrievedfunctions': 2676, 'freedbranch': 2677, 'microprocessors': 2678, 'fir': 2679, 'front1': 2680, 'practical': 2681, 'knapsack': 2682, 'matrices': 2683, 'ramsecondary': 2684, 'subbranches': 2685, 'subbrancheshere': 2686, 'classes': 2687, 'operationsto': 2688, 'concrete': 2689, 'debug': 2690, 'routinesit': 2691, 'people': 2692, 'simultaneouslya': 2693, 'wellwritten': 2694, 'changes': 2695, 'tightly': 2696, 'semaphorescounting': 2697, 'menu': 2698, 'accessories': 2699, 'yet': 2700, 'still': 2701, 'overflowwhen': 2702, 'proof': 2703, 'induction': 2704, 'lost': 2705, 'affects': 2706, 'perfectly': 2707, 'compaction': 2708, 'collected': 2709, 'chunk': 2710, 'referenced': 2711, 'fastest': 2712, 'userresource': 2713, 'processeconomyutilization': 2714, 'stopped': 2715, 'abruptly': 2716, 'returned': 2717, 'precedenceneed': 2718, 'associativityneed': 2719, 'override': 2720, 'rearrangement': 2721, 'spelling': 2722, 'precisely': 2723, 'followsindexingencoding': 2724, 'symmetrical': 2725, 'asymmetrical': 2726, 'collect': 2727, 'nodememory': 2728, 'spaces': 2729, 'subtreesit': 2730, 'residessecondary': 2731, 'cd': 2732, 'floppy': 2733, 'magnetic': 2734, 'discs': 2735, 'listadvantages': 2736, 'default': 2737, 'introduces': 2738, 'dash': 2739, 'programsin': 2740, 'desktop': 2741, 'drag': 2742, 'requiredreadability': 2743, 'simplicity': 2744, 'classifying': 2745, 'methodology': 2746, 'separates': 2747, 'disconnect': 2748, 'processescreation': 2749, 'userscpu': 2750, 'andprocess': 2751, 'road': 2752, 'networks': 2753, 'elimnates': 2754, 'includecreation': 2755, 'listinsertion': 2756, 'nodedeletion': 2757, 'nodemodification': 2758, 'nodetraversal': 2759, 'abstraction': 2760, 'layerkernelsubsystems': 2761, 'andsystem': 2762, 'direction': 2763, 'propertyheap': 2764, 'digraph': 2765, 'natural': 2766, 'polyphase': 2767, 'replace': 2768, 'mediator': 2769, 'api': 2770, 'invoke': 2771, 'behalf': 2772, 'enhance': 2773, 'usersresource': 2774, 'processeconomicalcompletely': 2775, 'bytescalloc': 2776, 'bytes': 2777, 'initialized': 2778, 'fetching': 2779, 'converted': 2780, 'loader': 2781, 'examining': 2782, 'substructures': 2783, 'expressionit': 2784, 'visually': 2785, 'reside': 2786, 'capabilities': 2787, 'modulodivision': 2788, 'digitextraction': 2789, 'midsquare': 2790, 'pseudorandom': 2791, 'generalised': 2792, 'counts': 2793, 'languages': 2794, 'fortran': 2795, 'wherein': 2796, 'doubly': 2797, 'waits': 2798, 'resourceno': 2799, 'preempted': 2800, 'pj': 2801, 'release': 2802, 'otherwise': 2803, 'sub': 2804, 't1': 2805, 't2tk': 2806, 'repetitive': 2807, 'loops': 2808, 'enqueue': 2809, 'broadly': 2810, 'algorithmsround': 2811, 'robin': 2812, 'schedulingshortest': 2813, 'bothpriority': 2814, 'bothnonpreemptive': 2815, 'encapsulation': 2816, 'deduction': 2817, 'merely': 2818, 'mapped': 2819, 'tablesize1': 2820, 'towers': 2821, 'hanoireversing': 2822, 'stringbalanced': 2823, 'parenthesisrecursion': 2824, 'stackevaluation': 2825, 'repetition': 2826, 'stableo1': 2827, 'extra': 2828, 'spaceon2': 2829, 'swapsadaptive': 2830, 'recomputing': 2831, 'computed': 2832, 'minimalspanning': 2833, 'o': 2834, 'resolving': 2835, 'h0x': 2836, 'h1x': 2837, 'h2x': 2838, 'succession': 2839, 'hixhashxfimod': 2840, 'f00': 2841, 'definitionoperation': 2842, 'definitionexamplethe': 2843, 'zerothe': 2844, 'divides': 2845, 'stage': 2846, 'float': 2847, 'char': 2848, 'enumerated': 2849, 'discretionary': 2850, 'controlidentification': 2851, 'authenticationauditingresource': 2852, 'reuse': 2853, 'managementinterrupt': 2854, 'handlingio': 2855, 'predicted': 2856, 'writtenthe': 2857, 'declared': 2858, 'remain': 2859, 'throughout': 2860, 'indexingencoding': 2861, 'arrayone': 2862, 'triple': 2863, 'structural': 2864, 'propertiesthe': 2865, 'm2': 2866, 'forming': 2867, 'attempts': 2868, 'resolve': 2869, 'defines': 2870, 'arguments': 2871, 'passedlocal': 2872, 'initializedtransferring': 2873, 'impractical': 2874, 'traversalinorder': 2875, 'traversalpostorder': 2876, 'traversallevelorder': 2877, 'arrayswhen': 2878, 'parentchild': 2879, 'easilyit': 2880, 'undiscovered': 2881, 'explored': 2882, 'deallocation': 2883, 'integrity': 2884, 'maintenanceswapping': 2885, 'highspeed': 2886, 'temporary': 2887, 'mentioned': 2888, 'necessory': 2889, 'leaveshere': 2890, 'leave': 2891, 'elegance': 2892, 'goodness': 2893, 'call': 2894, 'basedlarger': 2895, 'footprint': 2896, 'loss': 2897, 'interfacingdifficulty': 2898, 'fixing': 2899, 'messaging': 2900, 'bugs': 2901, 'complicated': 2902, 'visit': 2903, 'transforming': 2904, 'betterknown': 2905, 'nonredundant': 2906, 'stripingraid': 2907, 'mirrored': 2908, 'disksraid': 2909, 'memorystyle': 2910, 'errorcorrecting': 2911, 'codesraid': 2912, 'bitinterleaved': 2913, 'pq': 2914, 'redundancy': 2915, 'handlers': 2916, 'vector': 2917, 'pieces': 2918, 'depending': 2919, 'reused': 2920, 'corrupt': 2921, 'systemsit': 2922, 'consist': 2923, 'clockthe': 2924, 'buses': 2925, 'telephone': 2926, 'linesit': 2927, 'centralized': 2928, 'responds': 2929, 'requestsit': 2930, 'loses': 2931, 'abstractions': 2932, 'along': 2933, 'altered': 2934, 'managementinput': 2935, 'managementstorage': 2936, 'atleast': 2937, 'addressheap': 2938, 'callocreallocdata': 2939, 'variablescode': 2940, 'content': 2941, 'sharedload': 2942, 'sharedreliability': 2943, 'improvedprovide': 2944, 'interprocess': 2945, 'systemsdistributed': 2946, 'systemsrealtime': 2947, 'refer': 2948, 'typeit': 2949, 'tool': 2950, 'specifying': 2951, 'declaring': 2952, 'arrayfor': 2953, 'grades': 2954, 'int10': 2955, 'garbage': 2956, 'minimumspanning': 2957, 'processrunning': 2958, 'processready': 2959, 'processterminated': 2960, 'pulling': 2961, 'middle': 2962, 'cheap': 2963, 'links': 2964, 'httpd': 2965, 'lpd': 2966, 'areinfix': 2967, 'explorations': 2968, 'spreading': 2969, 'independently': 2970, 'stopping': 2971, 'meet': 2972, 'functionsome': 2973, 'alternate': 2974, 'usedalternate': 2975, 'constitutes': 2976, 'largein': 2977, 'fgpostfix': 2978, 'third': 2979, 'optional': 2980, 'qualifier': 2981, 'signedunsigned': 2982, 'listidentify': 2983, 'th': 2984, 'locate': 2985, 'graphare': 2986, 'say': 2987, 'probingquadratic': 2988, 'probingdouble': 2989, 'unknowns': 2990, 'definitions': 2991, 'linkedlistcpp': 2992, 'continuously': 2993, 'costly': 2994, 'sleep': 2995, 'guaranteed': 2996, 'timesoft': 2997, 'receive': 2998, 'fortunate': 2999, 'algorithmsome': 3000, 'conditional': 3001, 'unconditional': 3002, 'exploring': 3003, 'edgeif': 3004, 'deepest': 3005, 'bak': 3006, 'kruskal': 3007, 'prim': 3008, 'sollin': 3009, 'followsmake': 3010, 'listrepeat': 3011, 'nulldisplay': 3012, 'currentnodemake': 3013, 'thr': 3014, 'directoriessupport': 3015, 'primitives': 3016, 'directories': 3017, 'manipulationbacking': 3018, 'media': 3019, 'mapping': 3020, 'arepush': 3021, 'operationpop': 3022, 'operationpeek': 3023, 'operationempty': 3024, 'checkfully': 3025, 'oneaccording': 3026, 'pointergeneral': 3027, 'seek': 3028, 'searchdepth': 3029, 'partsan': 3030, 'nodeleft': 3031, 'sideright': 3032, 'pure': 3033, 'head': 3034, 'threading': 3035, 'ever': 3036, 'combinatorial': 3037, 'medical': 3038, 'learning': 3039, 'cryptography': 3040, 'phase': 3041, 'supposed': 3042, 'alevel': 3043, 'orderd': 3044, 'scenario': 3045, 'underallocation': 3046, 'extremely': 3047, 'leading': 3048, 'poor': 3049, 'incident': 3050, 'firstinfirstout': 3051, 'starts': 3052, 'key1': 3053, 'neighbor': 3054, 'present': 3055, 'variablesize': 3056, 'piles': 3057, 'pushdown': 3058, 'lastinfirstout': 3059, 'explanation': 3060, 'transactions': 3061, 'updates': 3062, 'alteration': 3063, 'redo': 3064, 'undo': 3065, 'commit': 3066, 'logs': 3067, 'scans': 3068, 'listnote': 3069, 'guesses': 3070, 'accurate': 3071, 'statistical': 3072, 'package': 3073, 'graphics': 3074, 'excessive': 3075, 'early': 3076, 'distribute': 3077, 'hashkeykey': 3078, 'database': 3079, 'implementationindexing': 3080, 'runnin': 3081, 'waitingready': 3082, 'kits': 3083, 'sdks': 3084, 'writing': 3085, 'completely': 3086, 'bottom': 3087, 'printerreal': 3088, 'life': 3089, 'linecalls': 3090, 'companiesaccess': 3091, 'universitiesaccessing': 3092, 'iftl': 3093, 'andhl': 3094, '1where': 3095, 'hl': 3096, 'heights': 3097, 'respectively': 3098, 'architectures': 3099, 'machines': 3100, 'tabu': 3101, 'simulated': 3102, 'annealing': 3103, 'genetic': 3104, 'algorithmsapproximation': 3105, 'currentmake': 3106, 'sequencerelease': 3107, 'he': 3108, 'breaking': 3109, 'keys47669345656975468563735478077569664': 3110}, 'idx2w': ['_', 'unk', 'the', 'a', 'is', 'of', 'algorithm', 'to', 'in', 'what', 'you', 'do', 'and', 'by', 'that', 'an', 'for', 'are', 'how', 'define', 'mean', 'explain', 'it', 'or', 'process', 'tree', 'search', 'system', 'time', 'sort', 'as', 'which', 'graph', 'data', 'be', 'with', 'this', 'node', 'list', 'memory', 'operating', 'can', 'called', 'used', 'one', 'binary', 'on', 'between', 'algorithms', 'case', 'from', 'not', 'set', 'method', 'when', 'two', 'each', 'at', 'kernel', 'all', 'problem', 'nodes', 'its', 'number', 'path', 'program', 'also', 'order', 'sorting', 'address', 'other', 'bubble', 'processes', 'space', 'any', 'performance', 'where', 'linear', 'if', 'cpu', 'state', 'minimum', 'has', 'spanning', 'thread', 'value', 'such', 'selection', 'queue', 'points', 'finding', 'more', 'user', 'root', 'systems', 'linked', 'they', 'elements', 'scheduling', 'known', 'find', 'first', 'have', 'does', 'structure', 'only', 'into', 'processor', 'access', 'point', 'worst', 'stack', 'computer', 'function', 'connected', 'every', 'may', 'given', 'no', 'complexity', 'edge', 'most', 'best', 'some', 'n', 'same', 'basic', 'sequence', 'file', 'using', 'directed', 'computing', 'applications', 'then', 'array', 'programs', 'execute', 'distance', 'but', 'difference', 'type', 'finds', 'execution', 'size', 'input', 'shortest', 'there', 'without', 'maximum', 'page', 'paging', 'solution', 'than', 'part', 'code', 'conquer', 'virtual', 'semaphore', 'sorted', 'vertex', 'term', 'programming', 'different', 'convex', 'possible', 'items', 'dynamic', 'common', 'main', 'technique', 'key', 'os', 'vertices', 'multiple', 'on2', 'allows', 'element', 'run', 'compute', 'physical', 'particular', 'usually', 'machine', 'multitasking', 'waiting', 'operation', 'provides', 'efficient', 'way', 'average', 'problems', 'disk', 'software', 'efficiency', 'smp', 'their', 'structures', 'swapping', 'management', 'fast', 'real', 'use', 'end', 'threads', 'contains', 'mode', 'purpose', 'lists', 'operations', 'types', 'level', 'short', 'we', 'amount', 'executing', 'them', 'out', 'io', 'simple', 'will', 'hull', 'divide', 'undirected', 'discrete', 'so', 'network', 'strings', 'until', 'allocated', 'based', 'internal', 'required', 'addresses', 'because', 'takes', 'information', 'condition', 'while', 'heuristic', 'device', 'solve', 'complete', 'pages', 'runs', 'useful', 'processors', 'hardware', 'next', 'strongly', 'preemptive', 'pointer', 'polynomial', 'being', 'instructions', 'resource', 'socket', 'traversing', 'scheduler', 'unit', 'needed', 'sequences', 'once', 'these', 'depth', 'new', 'important', 'optimal', 'phonetic', 'design', 'substring', 'commands', 'nt', 'control', 'mathematical', 'longest', 'multiplication', 'windows', 'leaf', 'over', 'variable', 'smallest', 'another', 'field', 'resources', 'thrashing', 'degree', 'fragmentation', 'small', 'deadlock', 'micro', 'item', 'second', 'available', 'numerical', 'associated', 'plane', 'should', 'children', 'string', 'logical', 'give', 'during', 'refers', 'jobs', 'referred', 'solutions', 'result', 'traversal', 'right', 'processing', 'output', 'contain', 'growth', 'functions', 'external', 'components', 'occur', 'register', 'monolithic', 'considered', 'hash', 'table', 'left', 'parallel', 'create', 'finite', 'eg', 'means', 'line', 'example', 'long', 'comparison', 'matching', 'multiprocessing', 'uses', 'euclidean', 'o1', 'certain', 'p', 'edges', 'performed', 'object', 'scheme', 'several', 'total', 'very', 'communicate', 'recursive', 'many', '1', 'merge', 'quadratic', 'trees', 'files', 'subtree', 'stored', 'theory', 'numbers', 'reliability', 'collection', 'utilization', 'server', 'direct', 'height', 'demand', 'expression', 'pair', 'recursion', 'weighted', 'null', 'adjacent', 'within', 'weight', 'services', 'like', 'connects', 'form', 'ram', 'daemon', 'soundex', 'interpolation', 'sweep', 'division', 'status', 'ubuntu', 'assembler', 'spooling', 'clique', 'resident', 'about', 'starvation', 'trap', 'trapdoor', 'insertion', 'storage', 'relationship', 'including', 'single', 'executed', 'proportional', 'language', 'active', 'clustering', 'synchronization', 'realtime', 'back', 'make', 'found', 'interrupt', 'running', 'values', 'sometimes', 'actually', 'always', 'work', 'queues', 'sharing', 'folder', 'large', 'methods', 'b', 'heap', 'allocation', 'well', 'job', 'fit', 'portion', 'approach', 'hashing', 'write', 'threaded', 'switch', 'serial', 'analysis', 'reduces', 'whose', 'specifies', 'pointers', 'devices', 'up', 'integer', 'ready', 'computes', 'goal', 'least', 'n2', 'completed', 'bestfirst', 'subsequence', 'caching', 'cycle', 'rule', 'collision', 'beam', 'box', 'separate', 'those', 'need', 'switching', 'schedulers', 'greedy', 'implementation', 'under', 'speed', 'pairs', 'defined', 'current', 'kth', 'digits', 'v', 'equation', 'class', 'remainder', 'symmetric', 'assigned', 'subset', 'record', 'preceding', 'priority', 'application', 'circular', 'situation', 'determine', 'command', 'minimal', 'various', 'techniques', 'front', 'terminal', 'general', 'stacks', 'parts', 'abstract', 'g', 'store', 'limited', 'computational', 'both', 'units', 'modular', 'square', 'advantage', 'empty', 'id', 'determines', 'working', 'throughput', 'completion', 'property', 'loop', 'designed', 'computers', 'model', 'corresponding', 'ie', 'combination', 'flow', 'environment', 'x', 'integers', 'constraints', 'determining', 'science', 'global', 'singlylinked', 'must', 'delaunay', 'constant', 'exponential', 'parent', 'sequential', 'measure', 'start', 'indexing', 'length', 'prime', 'cache', 'high', 'interface', 'polynomials', 'positive', 'area', 'triangulation', 'traverse', 'get', 'basis', 'acts', 'written', 'blocks', 'read', 'instance', 'counter', 'inserted', 'polygon', 'nearest', 'partition', 'topological', 'euler', 'rr', 'idle', 'incremental', 'asymmetric', 'c', 'precision', 'distributed', 'increasing', 'bounding', 'nos', 'prefix', 'cannibalizing', 'factor', 'multiprocessor', 'permutation', 'logarithm', 'calls', '2', 'viewed', 'users', 'interaction', 'child', 'similarity', 'figure', '7', 'diagram', 'interval', 'makes', 'phenomenon', 'spends', 'rather', 'connection', 'ordering', 'graphs', 'computation', 'equal', 'timesharing', 'around', 'printer', 'core', 'pronounced', 'occurs', 'request', 'identical', 'copy', 'olog', 'similar', 'having', 'efficiently', 'image', 'sum', 'manner', 'solves', 'dealing', 'randomized', 'entry', 'wait', 'export', 'concept', 'index', 'backtracking', 'fault', 'error', 'generated', 'initial', 'service', 'increased', 'support', 'through', 'mutual', 'exclusion', 'especially', 'requires', 'requirements', 'containing', 'return', 'response', 'paradigm', 'quick', 'disadvantages', 'quantum', 'local', 'searching', 'notations', 'arithmetic', 'bankers', 'represent', 'behind', 'generation', 'counting', 'monitor', 'designing', 'related', 'specified', 'critical', 'subtrees', '10', 'would', 'includes', '3', 'text', 'keep', 'info', 'either', 'exist', 'distinct', 'less', 'visiting', 'special', 'considerable', 'instruction', 'actual', 'communication', 'optimization', 'component', 'double', 'primary', 'whether', 'done', 'parameters', 'postfix', 'relative', 'compression', 'sorts', 'approximation', 'logarithmic', 'suitable', 'registers', 'auxiliary', 'words', 'roots', 'lifo', 'procedure', 'submitted', 'strategy', 'include', 'andor', 'patterns', 'build', 'ability', 'solving', 'driver', 'log', 'want', 'copies', 'dividing', 'notation', '0', 'relatively', 'stands', 'been', 'normal', 'insertions', 'wrapping', 'match', 'cubic', 'neighbour', 'fcfs', 'triangularisation', 'nth', 'select', 'maximal', 'cliques', 'tarjans', 'lowest', 'pollards', 'load', 'metaphone', 'turnaround', 'online', 'multiprogramming', 'examples', 'avl', 'macro', 'fuzzy', 'wildcards', 'salesman', 'jump', 'euclids', 'beginning', 'spawning', 'aging', 'scan', 'closure', 'calculus', 'library', 'advantages', 'applied', 'inverse', 'nonpreemptive', 'principle', 'perform', 'smooth', 'gcd', 'oriented', 'bucket', 'works', 'simplest', 'triangles', 'void', 'consists', 'appear', 'bfs', 'convert', 'according', 'down', 'names', 'sound', 'hermite', '100', 'triangulations', 'action', 'due', 'surface', 'differential', 'explicit', 'equations', 'turn', 'group', 'organized', 'minimized', 'puts', 'shows', 'taking', 'generate', 'obtain', 'goes', 'allocating', 'codes', 'extension', 'event', 'period', 'dispatcher', 'drives', 'objects', 'drawing', 'variant', 'cost', 'alignment', 'fixed', 'weights', 'inputs', 'digit', 'avoid', 'realmemory', 'logarithms', 'outside', 'stable', 'taken', 'last', 'caches', 'secret', 'undocumented', 'grant', 'authentication', 'siblings', 'classified', 'forest', 'comparisons', 'static', 'compiler', 'member', 'implement', 'tasks', 'approximate', 'decrease', 'context', 'block', 'achieve', 'onto', 'following', 'criteria', 'insert', 'terms', 'stores', 'repeatedly', 'fifo', 'performs', 'smaller', 'iterations', '4', 'resulting', 'manipulation', 'simultaneously', 'activity', 'independent', 'backing', 'times', 'preemption', 'ordered', 'specific', 'allocate', 'ensures', 'overall', 'position', 'subproblems', 'randomised', 'uniform', 'classify', 'assignment', 'said', 'name', 'replacements', 'geometric', 'lead', 'factors', 'loading', 'representation', 'before', 'mechanisms', 'never', 'idea', 'zombie', 'batch', 'fields', 'raid', 'd', 'transform', 'hierarchical', 'represented', 'unix', 'logic', 'send', 'u', 'purposes', 'seen', 'see', 'directory', 'together', 'entire', 'range', 'necessarily', 'although', 'advance', 'often', 'involves', 'sets', 'replaced', 'records', 'drive', 'creates', 'bash', 'subprocess', 'executes', 'among', 'whereas', 'whenever', 'nonlinear', 'voronoi', 'exhaustive', 'chain', 'steps', 'hybrid', 'shell', 'busy', 'non', 'pool', 'backward', 'conditions', 'meaning', 'brute', 'force', 'executive', 'lock', 'bidirectional', 'place', 'storing', 'leaves', 'your', 'typically', 'explores', 'route', 'organizing', 'track', 'much', 'itself', 'target', 'calculating', 'try', 'above', 'improve', 'message', 'progress', 'searches', 'arbitrary', 'predecessor', 'successor', 'happens', 'transformation', 'concurrent', 'bound', 'characters', 'avoids', 'sized', 'frequently', 'strictly', 'generally', 'currently', 'source', 'intermediate', 'wasted', 'needs', 'compared', 'correct', 'decision', 'keys', 'deletions', 'rating', 'acyclic', 'strong', 'migration', 'circuit', 'ancestors', 'graceful', 'degradation', 'unrestricted', 'introselect', 'ftdisk', 'reversedelete', 'maxcliquedyn', 'meant', 'scsi', 'bronkerbosch', 'link', 'fibonacci', 'h', 'bitonic', 'why', 'boyer', 'moore', 'doublylinked', 'bentleyottmann', 'memorymanagement', 'mmu', 'nonblocking', 'lagrange', 'burst', 'fordfulkerson', 'karatsuba', 'intersection', 'pancake', 'absolute', 'depthfirst', 'shuffle', 'transitive', 'dijkstras', 'breadthfirst', 'spectral', 'layout', 'drawback', 'mvt', 'splaying', 'christofides', 'after', 'gets', 'cipollas', 'spigot', 'unity', 'continuous', 'boruvkas', 'bead', 'las', 'vegas', 'cachecoherency', 'multiplicative', 'tracking', 'tonellishanks', 'pigeonhole', 'min', 'monte', 'carlo', 'pcb', 'booths', 'mutant', 'gnome', 'medium', 'gift', 'infix', 'full', 'extended', 'babystep', 'open', 'addressing', 'simplex', 'selecting', 'safe', 'section', 'states', 'expanding', 'promising', 'chosen', 'background', 'vary', 'developed', 'cycles', 'spline', 'perfect', 'statistic', 'calling', 'modulo', 'utilizing', 'region', 'quality', 'travelling', 'requests', 'transfer', 'sufficient', 'schemes', 'inordinate', 'faults', 'elapsed', 'located', 'potentially', 'mounted', 'boot', 'widely', 'opensource', 'principal', 'modifiable', 'modified', 'algorithmic', 'essence', 'quickselect', 'larger', 'integration', 'ordinary', 'naive', 'trying', 'generating', 'randomly', 'failure', 'classic', 'tolerance', 'opened', 'crashes', 'permutations', 'runningexample', 'edgeweighted', 'implicit', 'quicksort', 'roundrobin', 'primarily', 'aimed', 'setup', 'milliseconds', 'subgraph', 'everything', 'translator', 'low', 'assembly', 'mnemonic', 'translated', 'admitted', 'becomes', 'however', 'scene', 'just', 'enables', 'considers', 'knowledge', 'normally', 'printing', 'print', 'accordingly', 'subdivision', 'repeated', 'busywaiting', 'engaged', 'productive', 'toward', 'english', 'magnitude', 'operator', 'final', 'amortized', 'sublinear', 'multipleprocessor', 'checking', 'updating', 'modulus', 'change', 'dynamically', 'fashion', 'hot', 'standby', 'nothing', 'servers', 'role', 'fails', 'numbered', 'twodimensional', 'affine', 'heapsort', 'synchronize', 'improves', 'levenshtein', 'desired', 'permits', 'noncontiguous', 'varied', 'chunks', 'processormacro', 'executable', 'letter', 'decimal', 'deleted', 'share', 'specialpurpose', 'cities', 'city', 'manages', 'communications', 'ensure', 'usability', 'shapes', 'dtp', 'grbner', 'swapped', 'specialized', 'allow', 'filefolder', 'location', 'fixedsized', 'variablesized', 'intersect', 'instant', 'relate', 'variablewindow', 'signal', 'pancakes', 'turtles', 'letting', 'scheduled', 'reduce', 'composed', 'processorsvirtual', 'storagesource', 'accessing', 'congruence', 'knowing', 'processs', 'brings', 'missingand', 'hypergeometric', 'hang', 'endpoint', 'squareroot', 'squares', 'incrementally', 'valid', 'interruption', 'star', 'subproblem', 'approximately', 'inplace', 'viz', 'interview', 'candidate', 'geometry', 'convenient', 'instances', 'preorder', 'breadth', 'iterative', 'necessary', 'representing', 'expressions', 'resolution', 'huffman', 'balance', 'probing', 'calculated', 'push', 'top', 'add', 'sparse', 'identify', 'step', 'complex', 'definition', 'determined', 'construction', 'cells', 'ways', 'solved', 'made', 'managing', 'r', 'task', 'n1', 'syntax', 'blocked', 'spending', 'instead', 'hard', 'previous', 'calculation', 'rear', 'go', 'exact', 'placed', 'represents', 'starting', 'free', 'take', 'exactly', 'easier', 'ones', 'comparing', 'distribution', 'requirement', 'identifier', 'addition', 'implementing', 'pass', 'adt', 'aid', 'locks', 'differentiate', 'chaining', 'inserting', 'three', 'know', 'reset', 'dead', 'returns', 'test', 'relation', 'randomness', 'places', 'vfs', 'overlays', 'implemented', 'gain', 'booting', 'appropriate', 'named', 'dfs', 'further', 'programmer', 'managed', 'sure', 'development', 'hand', 'builtin', '5', '6', 'directly', 'subtreetraverse', 'controls', 'check', 't', 'regular', 'copied', 'applicable', 'singly', 'standard', 'amounts', 'provide', 'formed', 'segments', 'added', '23', 'variables', 'exists', 'operators', 'across', 'offset', 'accessed', 'hence', 'even', 'though', 'events', 'enough', 'terminated', 'making', 'moving', 'here', 'follows', 'easily', 'rich', 'splay', 'microkernel', 'few', 'assign', 'exploration', 'reasons', 'balancing', 'walk', 'tests', 'isempty', 'segment', 'formula', 'goals', 'straight', 'forward', 'drivers', 'areas', 'interrupts', 'fundamental', 'floydwarshall', 'merit', 'secondary', 'random', 'calculate', 'm', 'traversals', 'levels', 'e', 'uniformly', 'choices', 'pronunciation', 'unique', 'reference', 'obtained', 'uv', 'dependencies', 'capacity', 'branch', 'leads', 'demanded', 'traversed', 'operate', 'maintained', 'median', 'delete', 'kruskals', 'essential', 'versus', 'maps', 'reads', 'constructs', 'inherently', 'largest', 'nonempty', 'replacement', 'brought', 'mechanism', 'close', 'artificial', 'intelligence', 'successive', 'true', 'visible', 'exported', 'started', 'limit', 'unsorted', 'unless', 'inside', 'gives', 'deadlockavoidance', 'banking', 'bank', 'allocates', 'cash', 'longer', 'satisfy', 'customers', 'nodeassign', 'parsing', 'were', 'effect', 'controlled', 'game', 'processwaiting', 'interact', 'paths', 'adding', 'heuristics', 'maintaining', 'half', 'require', 'pi', 'positions', 'memoization', 'results', 'produces', 'cell', 'unambiguous', 'specification', 'operands', 'simpler', 'mod', 'additional', 'increases', 'additionally', 'discussed', 'assumption', 'come', 'series', 'kept', 'choice', 'operates', 'equality', 'ni', 'costsearch', 'metrics', 'ruperts', 'chudnovsky', 'dinics', 'cantorzassenhaus', 'salz', 'wildcat', 'rounding', 'kirkpatrickseidel', 'fortunes', 'offline', 'schreiersims', 'pattern', 'edmondsedmondskara', 'componets', 'exponentiation', 'kangaroo', 'toddcoxeter', 'schonhagestrassen', 'bogosort', 'dedicated', 'warnsdorffs', 'detection', 'newtonraphson', 'chans', 'lexicographic', 'predictive', 'schensted', 'better', 'rabinkarp', 'borweins', 'forcebased', 'introsoft', 'patience', 'sorter', 'partitioning', 'formatting', 'hors', 'dameraulaenshtein', 'heapnsort', 'hungarian', 'super', 'radix', 'hirschberhs', 'laplacian', 'smoothing', 'ternary', 'krauss', 'smithwaterman', 'timsort', 'johnsons', 'p1', 'traveling', 'hopcroft', 'karp', 'gilbertjohnsonkeerthi', 'describe', 'objective', 'chakravala', 'batched', 'toomcook', 'faugere', 'f4', 'shifting', 'nthroot', 'primality', 'floyd', 'warshall', 'kruscals', 'dualmode', 'jarowinkler', 'comb', 'deepening', 'fischeryates', 'baileyborwein', 'plouffe', 'oddeven', 'graham', 'kargerstein', 'marshalling', 'galegaleshapely', 'truncation', 'registration', 'gang', 'bkm', 'polling', 'hellman', 'kasanes', 'floyds', 'cyclefinding', 'gausslegendre', 'dram', 'configuration', 'birkhoff', 'gospers', 'knuth', 'morris', 'pratt', 'closest', 'turtle', 'ipc', 'hamming', 'spaghetti', 'heaps', 'ancestor', 'cone', 'exponentiating', 'squaring', 'zhu', 'takaoka', 'shoe', 'lace', 'knuthbendix', 'steinhausjohnsontrotter', 'chews', 'sibling', 'relabel', 'alpha', 'max', 'plus', 'beta', 'aspects', 'risch', 'solver', 'cocktail', 'shaker', 'sample', 'flash', 'primss', 'ukkonens', 'sss', 'ahocorasick', 'needle', 'manwunsch', 'launcher', 'buchbergers', 'ditchmokotoff', 'sounded', 'deterministic', 'lavenshtein', 'edit', 'filtered', 'projection', 'properties', 'coloring', 'rho', 'bitap', 'security', 'attributes', 'nysiis', 'bowyerwatson', 'dices', 'coefficient', 'kosrajus', 'brents', 'postman', 'rdbms', 'dos', 'strategies', 'girvannewman', 'terminate', 'shut', 'lowestcost', 'costs', 'query', 'mra', 'western', 'airlines', '1977', 'indexation', 'homophonous', 'interpolator', 'piece', 'thirddegree', 'form1', 'derivatives', 'domain', 'dissimilarity', 'score', 'consider', 'percentage', 'doing', 'callsprocess', 'invokes', 'was', 'clients', 'dinicsalgorithm', 'originates', 'ends', 'problemsolving', 'engineering', 'endpoints', 'comes', 'decompose', 'locates', 'conceptual', 'quotient', 'wastage', 'inefficiently', 'curve', 'fitting', 'unordered', 'stringsearching', 'stringmatching', 'eulers', 'rungekutta', 'base', 'bsgs', 'designs', 'pseudorandomly', 'continue', 'providing', 'hardwaresystems', 'tolerantif', 'stop', 'systemthen', 'slowerthis', 'reports', 'restrictions', 'argument', 'round', 'cosets', 'selects', 'note', 'permanent', 'introspective', 'medians', 'worstcase', 'schnhagestrassen', 'asymptotically', 'highly', 'ineffective', 'successively', 'generates', 'educational', 'contrast', 'qnxrealtime', 'arbitrarily', 'subject', 'orientation', 'duration', 'warnsdorfs', 'knights', 'tour', 'partitionexchange', 'serving', 'systematic', 'placing', 'cant', 'systemit', 'activitiesit', 'klik', 'klk', 'induced', 'combines', 'aspect', 'microkernelexample', 'microsoft', 'included', 'attempt', 'indices', 'swap', 'solids', 'powers', 'facilitates', 'switches', 'pace', 'outputsensitive', '3dimensional', 'planar', 'higherdimension', 'simplices', 'binarylike', 'dictionary', 'interpolated', 'submission', 'threeway', 'young', 'tableaux', 'seem', '1p', 'diconnected', 'reachable', 'visited', 'combine', 'domains', 'incompletely', 'piecebypiece', 'fed', 'optical', 'scanners', 'tape', 'competing', 'technology', 'ide', 'integrated', 'electronics', 'undergone', 'inwhich', 'forcedirected', 'aestheticallypleasing', 'begin', 'exceeds', 'narrows', 'locations', 'sh', 'shsh1sh21', 'h0', 'sh1', 'mergesort', 'building', 'creating', 'infinite', 'simplification', 'boyermoore', 'dameraulevenshtein', 'scientific', 'pick', 'remaining', 'integrates', 'ai', 'configurations', 'intention', 'physicaladdress', 'routine', 'cases', 'routines', 'supersequence', 'subsequences', 'degrees', 'truth', 'usual', 'false', 'measured', 'polygonal', 'mesh', 'accuracy', 'allowed', 'processprocesses', 'decreasing', 'vice', 'versa', 'endit', 'obeys', 'listing', 'crossings', 'constituent', 'affecting', 'nonrecursive', 'relocation', 'sent', 'memorythe', 'deals', 'sees', 'adaptative', 'derived', 'python', 'java', 'se', 'enclosing', 'algebraicgroup', 'factorisation', '12', 'retrieving', 'connect', 'outputs', 'slow', 'distances', 'visits', 'origin', 'reliable', 'computationally', 'inefficient', 'bipartite', 'cardinality', 'controlling', 'mutexsemaphoresmonitorscondition', 'regions', 'delone', 'circumcircle', 'triangle', 'envelope', 'reals', 'cyclic', 'indeterminate', 'pells', 'compact', 'trie', 'protected', 'indicates', 'mentions', 'f5', 'room', 'extraction', 'utilizes', 'polish', 'nature', 'greatest', 'divisor', 'converts', 'compilation', 'lexical', 'optimized', 'minimumspanningtree', 'protect', 'malfunctioning', 'evolvedsystem', 'pop', 'lines', 'regardless', 'colloquial', 'disordered', 'spatula', 'flip', 'eliminate', 'near', 'elementary', 'suppose', 'findx', 'changed', 'bruteforce', 'obstacle', 'doesnt', 'initiated', 'originally', 'interconnections', 'grahams', 'per', 'unitturnaround', 'queueresponse', 'nternal', '736', '9', 'kargers', 'cut', 'packaging', 'sending', 'boundaries', 'marriage', 'probabilistic', 'subroutines', 'numeric', 'rigidtime', 'optimally', 'align', 'removing', 'lightweight', 'comprises', '1to1', 'closely', 'blocking', 'minimize', 'predated', 'processesaging', 'reciprocal', 'abelian', 'features', 'debuggingwhen', 'separately', 'appears', 'actively', 'moved', 'towards', 'maintain', 'regarding', 'saves', 'simplifies', 'extent', 'subarray', 'quickhull', 'capacitance', 'voltages', 'hit', 'quantities', 'approximationssuch', 'studied', 'interfaces', 'sums', 'themselves', 'bypasses', 'reexamination', 'matched', 'organization', 'beads', 'slide', 'poles', 'abacus', 'straightforward', 'gapped', 'gaps', 'accelerate', 'subsequent', 'informs', 'immediately', 'reflected', 's', 'held', 'requiring', 'lowlevel', 'interchange', 'built', 'abandoned', 'finestgrained', 'invoked', 'prioritized', 'highest', 'utilizednonpreemptive', 'enters', 'finishes', 'leastcost', 'bigger', 'variety', 'described', 'rewriting', 'pathfinding', 'shanks', 'ressol', 'r2', 'transferring', 'saving', 'old', 'saved', 'transposing', 'quickly', 'constrained', 'remembers', 'caller', 'knows', 'whom', 'siblingsbrothers', 'figurenodes', 'othernodes', 'balanced', 'smoothsort', 'upper', 'searched', 'family', 'produce', 'indefinite', 'antiderivatives', 'belongs', 'globbing', 'wildcard', 'expressed', 'wellformed', 'formulas', 'wffs', 'horn', 'clauses', 'constitute', 'sources', 'axioms', 'sinks', 'conclusions', 'incorrect', 'probability', 'alternately', 'power', 'already', 'samplesort', 'logb', 'k', 'bk', 'flashsort', 'showing', 'little', 'prims', 'jarnks', 'lineartime', 'constructing', 'suffix', 'lower', 'overlap', 'employs', 'allotted', 'pertaining', 'military', 'satellites', 'matches', 'advantageous', 'whole', 'fullfledged', 'respond', 'successfully', 'multiplies', 'signed', 'twos', 'complement', 'treebased', 'nodeanode', 'figure2511', 'sling', 'increment', 'effective', 'notion', 'ownership', 'daitchmokotoff', 'dm', 'questions', 'asked', 'redundant', 'disks', 'redundantly', 'comparisonbased', 'keeps', 'served', 'proper', 'swaps', 'de', 'metric', '2dimensional', 'radon', 'notably', 'constraint', 'satisfaction', 'builds', 'candidates', 'abandons', 'backtracks', 'soon', 'possibly', 'relates', 'suspended', 'swappingin', 'colouring', 'locally', 'stage1', 'intent', 'optimum', 'expected', 'composite', 'factorized', 'mst', 'theability', 'debugging', 'intermediary', 'bin', 'distributing', 'buckets', 'recursively', 'dimensions', 'substrings', 'jaccard', 'ax', 'giantstep', 'meetinthemiddle', 'kosarajus', 'kosarajusharir', 'inequality', 'producing', 'reconstruct', 'unstructured', 'cloud', 'iterators', 'grid', 'variablesvoid', 'sizenull', 'ptr', 'theoretically', 'writes', 'rational', 'causes', 'canonical', 'rabbits', 'itselfis', '6a', 'dispatchable', 'temporal', 'encoding', 'detect', 'communities', 'rendezvous', 'arise', 'disjoint', 'enumeration', 'paradigms', 'optimisation', 'parenthesis', 'actions', 'descendant', 'overflow', 'semaphores', 'multithreaded', 'entries', 'manager', 'articulation', 'draw', 'four', 'malloc', 'c2', 'btree', 'f', 'equivalent', 'statement', 'typical', 'ddks', 'functional', 'tablesize', 'generic', 'difficult', 'almost', 'reach', 'upon', 'character', 'roottraverse', 'passing', 'sender', 'receiver', 'delivered', 'protection', 'responsiveness', 'architecture', 'guessing', 'hold', 'depends', 'etc', 'handle', 'simultaneous', 'unlike', 'holds', 'involved', 'closer', 'occupied', 'nodemake', 'notationpostfix', 'except', 'closed', 'entities', 'removed', 'runtime', 'correctness', 'rules', 'anywhere', 'biconnected', 'automated', 'reasoning', 'creation', 'deletion', 'alternative', 'fg', 'managementmemory', 'merging', 'help', 'easy', 'nonleaf', 'wrong', 'w', 'vw', 'nodetraverse', 'parityraid', '8', 'timestorage', 'spaceprogramming', 'effort', 'currentnode', 'restricted', 'tr', 'rightskewed', 'issues', 'briefly', 'rabbit', 'datastructure', 'weakly', 'suspension', 'rings', 'benefits', 'multi', 'prerequisite', 'installing', 'could', 'detectionalgorithm', 'utilized', 'avoidance', 'readwrite', 'differ', 'postorder', 'interpreter', 'evaluation', 'forms', 'persistent', 'ephemeral', 'employee', 'nonterminal', 'variants', 'pipe', 'reduced', 'termination', 'mention', 'extensively', 'reached', 'underflow', 'indegree', 'prepaging', 'approximations', 'removes', 'implementations', 'subcomponents', 'multilinked', 'matrix', 'carried', 'frames', 'bellmanford', 'rightin', 'cursor', 'major', 'primitive', 'nonprimitive', 'kinds', 'processed', 'arrays', 'inorder', 'microkernels', 'reduction', 'examplefiletxt', 'console', '98', 'coupled', 'leak', 'leftin', 'daemons', 'ntfs', 'nondeterministic', 'residence', 'monitors', 'feature', 'folding', 'bits', 'attached', 'simulation', 'computerserver', 'provisions', 'update', 'firstcome', 'firstserved', 'dont', 'elementseg', 'activities', 'probe', 'constants', 'symbol', 'followsvisit', 'spent', 'intervals', 'later', 'followstraverse', 'subtreevisit', 'incoming', 'relevant', 'policy', 'frame', 'latter', 'partitions', 'swappinginteractive', 'lista', 'preparatory', 'installed', 'properly', 'designating', 'arenumber', 'listsapplications', 'contiguous', 'situations', 'likely', 'affected', 'loaded', 'infrequently', 'occurring', 'stays', 'understood', 'greater', 'evenly', 'maximized', 'occupies', 'getting', 'compactness', 'reverse', 'nonsharable', 'retain', 'performing', 'nullmake', 'display', 'returning', 'notationprefix', 'helps', 'rigid', 'isallocate', 'subtreeprocess', 'increase', 'save', 'money', 'finally', 'union', 'atlf2', '2345', 'createdrunning', 'executedwaiting', 'occurready', 'processorterminate', 'maybe', 'manufactured', 'companies', 'prevents', 'conflicts', 'incorporated', 'nearly', 'designoperating', 'systemdatabase', 'sends', 'notification', 'wants', 'handler', 'receives', 'tells', 'client', 'shown', 'figureeach', 'topmost', 'yes', 'descending', 'now', 'retrieve', 'exception', 'involve', 'worry', 'movement', 'messages', 'treearithmetic', 'evaluationsorting', 'appendnode', 'side', 'distinguished', 'redirector', 'servercache', 'managerfile', 'systemsnetwork', 'defining', 'clean', 'filerepresentation', 'vnode', 'designator', 'removal', 'abc', 'ab', 'enable', 'coordinates', 'functionalities', 'systemresource', 'utilizationresource', 'allocationprocess', 'managementfile', 'managementio', 'divided', 'provided', 'utilize', 'subtraction', 'naming', 'supported', 'zero', 'definitiondevelopment', 'modelspecification', 'algorithmdesigning', 'algorithmchecking', 'algorithmanalysis', 'algorithmimplementation', 'algorithmprogram', 'testingdocumentation', 'preparation', 'decide', 'identifying', 'assures', 'managementdevice', 'structuresnetwork', 'graphhierarchical', 'tried', 'big', 'areit', 'computeit', 'corresponds', 'shall', 'int', 'systemsmultiprogrammed', 'systemstimesharing', 'expensive', 'childrenall', 'hashes', 'cluster', 'dequeue', '1014', 'nodesn3', 'blockinterleaved', 'causing', 'kb', 'filename', 'exampl1txt', 'reason', 'filenames', 'processthey', 'peer', 'algorithminorderrootifrootnull', 'exitinorderleft', 'rootvisitrootinorderright', 'adts', 'via', 'functiontruncation', 'methodmodular', 'methodmid', 'methodfolding', 'conceptions', 'mark', 'remains', 'contained', 'goto', 'marked', 'accumulatorsindex', 'registersstack', 'prior', 'occurred', 'deal', 'transaction', 'iteratively', 'filled', 'tl', 'hr', 'trewe', 'hamper', 'diagrams', 'importance', 'algorithmhow', 'trashing', 'complier', 'treeat', 'circularlinked', 'arrayhint', 'kind', 'unionbyweight', 'disadvantage', 'triggered', 'pcs', 'objectives', 'studying', 'modularity', 'chess', 'challenging', 'waitsignal', 'compactions', 'demandpaging', 'ship', 'faster', 'trigram', 'demerits', 'dijkstra', 'layers', 'independence', 'calloc', 'blown', 'meets', 'indexed', 'concepts', 'logics', 'rdbmsnetwork', 'stipulations', 'merits', 'constituting', 'oss', 'throw', 'light', 'bootstrap', 'enumerate', 'loosely', 'tell', 'sections', 'structurea', 'none', 'consisting', 'unused', 'own', 'limitations', 'declaration', 'biconnectivity', 'involving', 'answer', 'handled', 'recover', 'crash', 'demerit', 'outdegree', 'deleting', 'understand', 'guide', 'behavior', 'hope', 'achieving', 'good', 'coding', 'programamount', 'programthe', 'problemevent', 'fiihash2x', 'says', 'apply', 'hash2x2hash2xand', 'hash2xrxmodr', 'underlies', 'dual', 'consuminga', 'predecessors', '61234', 'precede', 'pif', 'persevered', 'again', 'floatingpoint', 'constantsstring', 'restructuring', 'moves', 'rotations', 'processesoperating', 'processesuser', 'backwardif', 'directedgraph', 'underlying', 'algorithmprims', 'functionhash', 'tables', 'ampersand', 'ptemployee0', 'projects2', 'ss1s2sk', 'ieeach', 'si', 'sj', 'sisj', 'identified', 'representative', 'requesttimingparent', 'separation', 'processeconomy', 'superposition', 'entanglement', 'category', 'gameword', 'repetitions', 'protecting', 'slower', 'mutexes', 'post', 'methodmethod', 'carries', 'implied', 'translation', 'translates', 'tower', 'hanoi', 'pivotal', 'extract', 'sortif', 'frequent', 'filethus', 'anythingit', 'bit', 'essentially', 'arrayadditional', 'who', 'consuming', 'holding', 'preempt', 'listallocate', 'graphical', 'modifications', 'searchedset', 'i0repeat', 'arriemployee', 'idincrement', 'i', '1if', 'foundelse', 'checks', 'evaluating', 'arestrictly', 'wish', 'oneway', 'hashingopen', 'word', 'feasible', 'priorities', 'requesttiming', 'graphmaintain', 'duplicate', 'web', 'pagesconstructing', 'graphdefine', 'equivalence', 'minus', 'treethe', '1the', '14', 'append', 'asinorderpreorderpostorder', 'inter', 'socketspipesshared', 'memorysignals', 'reflect', 'world', 'exceededmemory', 'unavailablebounds', 'violationprotection', 'errorarithmetic', 'errortime', 'overrunio', 'failureinvalid', 'instructionprivileged', 'instructiondata', 'misuseoperator', 'interventionparent', 'eliminateddisadvantage', 'guarantee', 'unoccupied', 'systemstatistical', 'packagenumerical', 'analysisgraphicsartificial', 'intelligencesimulation', 'retrievedfunctions', 'freedbranch', 'microprocessors', 'fir', 'front1', 'practical', 'knapsack', 'matrices', 'ramsecondary', 'subbranches', 'subbrancheshere', 'classes', 'operationsto', 'concrete', 'debug', 'routinesit', 'people', 'simultaneouslya', 'wellwritten', 'changes', 'tightly', 'semaphorescounting', 'menu', 'accessories', 'yet', 'still', 'overflowwhen', 'proof', 'induction', 'lost', 'affects', 'perfectly', 'compaction', 'collected', 'chunk', 'referenced', 'fastest', 'userresource', 'processeconomyutilization', 'stopped', 'abruptly', 'returned', 'precedenceneed', 'associativityneed', 'override', 'rearrangement', 'spelling', 'precisely', 'followsindexingencoding', 'symmetrical', 'asymmetrical', 'collect', 'nodememory', 'spaces', 'subtreesit', 'residessecondary', 'cd', 'floppy', 'magnetic', 'discs', 'listadvantages', 'default', 'introduces', 'dash', 'programsin', 'desktop', 'drag', 'requiredreadability', 'simplicity', 'classifying', 'methodology', 'separates', 'disconnect', 'processescreation', 'userscpu', 'andprocess', 'road', 'networks', 'elimnates', 'includecreation', 'listinsertion', 'nodedeletion', 'nodemodification', 'nodetraversal', 'abstraction', 'layerkernelsubsystems', 'andsystem', 'direction', 'propertyheap', 'digraph', 'natural', 'polyphase', 'replace', 'mediator', 'api', 'invoke', 'behalf', 'enhance', 'usersresource', 'processeconomicalcompletely', 'bytescalloc', 'bytes', 'initialized', 'fetching', 'converted', 'loader', 'examining', 'substructures', 'expressionit', 'visually', 'reside', 'capabilities', 'modulodivision', 'digitextraction', 'midsquare', 'pseudorandom', 'generalised', 'counts', 'languages', 'fortran', 'wherein', 'doubly', 'waits', 'resourceno', 'preempted', 'pj', 'release', 'otherwise', 'sub', 't1', 't2tk', 'repetitive', 'loops', 'enqueue', 'broadly', 'algorithmsround', 'robin', 'schedulingshortest', 'bothpriority', 'bothnonpreemptive', 'encapsulation', 'deduction', 'merely', 'mapped', 'tablesize1', 'towers', 'hanoireversing', 'stringbalanced', 'parenthesisrecursion', 'stackevaluation', 'repetition', 'stableo1', 'extra', 'spaceon2', 'swapsadaptive', 'recomputing', 'computed', 'minimalspanning', 'o', 'resolving', 'h0x', 'h1x', 'h2x', 'succession', 'hixhashxfimod', 'f00', 'definitionoperation', 'definitionexamplethe', 'zerothe', 'divides', 'stage', 'float', 'char', 'enumerated', 'discretionary', 'controlidentification', 'authenticationauditingresource', 'reuse', 'managementinterrupt', 'handlingio', 'predicted', 'writtenthe', 'declared', 'remain', 'throughout', 'indexingencoding', 'arrayone', 'triple', 'structural', 'propertiesthe', 'm2', 'forming', 'attempts', 'resolve', 'defines', 'arguments', 'passedlocal', 'initializedtransferring', 'impractical', 'traversalinorder', 'traversalpostorder', 'traversallevelorder', 'arrayswhen', 'parentchild', 'easilyit', 'undiscovered', 'explored', 'deallocation', 'integrity', 'maintenanceswapping', 'highspeed', 'temporary', 'mentioned', 'necessory', 'leaveshere', 'leave', 'elegance', 'goodness', 'call', 'basedlarger', 'footprint', 'loss', 'interfacingdifficulty', 'fixing', 'messaging', 'bugs', 'complicated', 'visit', 'transforming', 'betterknown', 'nonredundant', 'stripingraid', 'mirrored', 'disksraid', 'memorystyle', 'errorcorrecting', 'codesraid', 'bitinterleaved', 'pq', 'redundancy', 'handlers', 'vector', 'pieces', 'depending', 'reused', 'corrupt', 'systemsit', 'consist', 'clockthe', 'buses', 'telephone', 'linesit', 'centralized', 'responds', 'requestsit', 'loses', 'abstractions', 'along', 'altered', 'managementinput', 'managementstorage', 'atleast', 'addressheap', 'callocreallocdata', 'variablescode', 'content', 'sharedload', 'sharedreliability', 'improvedprovide', 'interprocess', 'systemsdistributed', 'systemsrealtime', 'refer', 'typeit', 'tool', 'specifying', 'declaring', 'arrayfor', 'grades', 'int10', 'garbage', 'minimumspanning', 'processrunning', 'processready', 'processterminated', 'pulling', 'middle', 'cheap', 'links', 'httpd', 'lpd', 'areinfix', 'explorations', 'spreading', 'independently', 'stopping', 'meet', 'functionsome', 'alternate', 'usedalternate', 'constitutes', 'largein', 'fgpostfix', 'third', 'optional', 'qualifier', 'signedunsigned', 'listidentify', 'th', 'locate', 'graphare', 'say', 'probingquadratic', 'probingdouble', 'unknowns', 'definitions', 'linkedlistcpp', 'continuously', 'costly', 'sleep', 'guaranteed', 'timesoft', 'receive', 'fortunate', 'algorithmsome', 'conditional', 'unconditional', 'exploring', 'edgeif', 'deepest', 'bak', 'kruskal', 'prim', 'sollin', 'followsmake', 'listrepeat', 'nulldisplay', 'currentnodemake', 'thr', 'directoriessupport', 'primitives', 'directories', 'manipulationbacking', 'media', 'mapping', 'arepush', 'operationpop', 'operationpeek', 'operationempty', 'checkfully', 'oneaccording', 'pointergeneral', 'seek', 'searchdepth', 'partsan', 'nodeleft', 'sideright', 'pure', 'head', 'threading', 'ever', 'combinatorial', 'medical', 'learning', 'cryptography', 'phase', 'supposed', 'alevel', 'orderd', 'scenario', 'underallocation', 'extremely', 'leading', 'poor', 'incident', 'firstinfirstout', 'starts', 'key1', 'neighbor', 'present', 'variablesize', 'piles', 'pushdown', 'lastinfirstout', 'explanation', 'transactions', 'updates', 'alteration', 'redo', 'undo', 'commit', 'logs', 'scans', 'listnote', 'guesses', 'accurate', 'statistical', 'package', 'graphics', 'excessive', 'early', 'distribute', 'hashkeykey', 'database', 'implementationindexing', 'runnin', 'waitingready', 'kits', 'sdks', 'writing', 'completely', 'bottom', 'printerreal', 'life', 'linecalls', 'companiesaccess', 'universitiesaccessing', 'iftl', 'andhl', '1where', 'hl', 'heights', 'respectively', 'architectures', 'machines', 'tabu', 'simulated', 'annealing', 'genetic', 'algorithmsapproximation', 'currentmake', 'sequencerelease', 'he', 'breaking', 'keys47669345656975468563735478077569664'], 'limit': {'maxq': 20, 'maxa': 50, 'minq': 0, 'mina': 2}, 'freq_dist': FreqDist({'the': 3612, 'a': 3003, 'is': 2680, 'of': 2504, 'algorithm': 1252, 'to': 1252, 'in': 1239, 'what': 1167, 'you': 1058, 'do': 1048, ...})}\n",
      "train x 0 >>>>>>>>>>>>>> [18, 103, 854, 6, 414]\n",
      "2063\n",
      "the index 2 word validity >>>>>>> ['how', 'does', 'randomised', 'algorithm', 'work']\n"
     ]
    }
   ],
   "source": [
    "(trainX, trainY), (testX, testY), metadata = intial_setup(path)\n",
    "print(metadata)\n",
    "src_vocab_size = len(metadata['idx2w'])\n",
    "print(f'train x 0 >>>>>>>>>>>>>> {trainX[0]}')\n",
    "emb_dim = 1024\n",
    "word2index = metadata['w2idx']\n",
    "index2word = metadata['idx2w']\n",
    "batch_size = 32\n",
    "num_steps = len(trainX)//batch_size\n",
    "unk_id = word2index['unk']\n",
    "pad_id = word2index['_']\n",
    "\n",
    "start_id = src_vocab_size\n",
    "end_id = src_vocab_size + 1\n",
    "\n",
    "word2index.update({'start_id':start_id, 'end_id':end_id})\n",
    "index2word.append('start_id')\n",
    "index2word.append('end_id')\n",
    "print(len(trainX))\n",
    "\n",
    "src_vocab_size = tgt_vocab_size = src_vocab_size + 2\n",
    "\n",
    "num_epochs = 40\n",
    "\n",
    "vocab_size = src_vocab_size \n",
    "\n",
    "decoder_seq_length = 50\n",
    "sentence = [index2word[w] for w in trainX[0]]\n",
    "print(f'the index 2 word validity >>>>>>> {sentence}')"
   ]
  },
  {
   "cell_type": "code",
   "execution_count": 18,
   "metadata": {},
   "outputs": [
    {
     "name": "stdout",
     "output_type": "stream",
     "text": [
      "[TL] Embedding embedding_2: (3113, 1024)\n",
      "[TL] RNN rnn_7: cell: GRUCell, n_units: 256\n",
      "[TL] RNN rnn_8: cell: GRUCell, n_units: 256\n",
      "[TL] RNN rnn_9: cell: GRUCell, n_units: 256\n",
      "[TL] RNN rnn_10: cell: GRUCell, n_units: 256\n",
      "[TL] RNN rnn_11: cell: GRUCell, n_units: 256\n",
      "[TL] RNN rnn_12: cell: GRUCell, n_units: 256\n",
      "[TL] Reshape reshape_4\n",
      "[TL] Dense  dense_2: 3113 No Activation\n",
      "[TL] Reshape reshape_5\n",
      "[TL] Reshape reshape_6\n"
     ]
    }
   ],
   "source": [
    "model = Seq2seq(\n",
    "        decoder_seq_length = decoder_seq_length,\n",
    "        cell_enc=tf.keras.layers.GRUCell,\n",
    "        cell_dec=tf.keras.layers.GRUCell,\n",
    "        n_layer=3,\n",
    "        n_units=256,\n",
    "        embedding_layer=tl.layers.Embedding(vocabulary_size=vocab_size, embedding_size=emb_dim),\n",
    "        )"
   ]
  },
  {
   "cell_type": "code",
   "execution_count": 19,
   "metadata": {},
   "outputs": [],
   "source": [
    "optimizer = tf.optimizers.Adam(learning_rate=0.001)"
   ]
  },
  {
   "cell_type": "code",
   "execution_count": 20,
   "metadata": {},
   "outputs": [],
   "source": [
    "seeds = [\"how do you explain algorithm\",\n",
    "          \"what is a socket\"]"
   ]
  },
  {
   "cell_type": "code",
   "execution_count": 21,
   "metadata": {},
   "outputs": [],
   "source": [
    "trainX, trainY = shuffle(trainX, trainY, random_state=0)"
   ]
  },
  {
   "cell_type": "code",
   "execution_count": 22,
   "metadata": {},
   "outputs": [
    {
     "name": "stderr",
     "output_type": "stream",
     "text": [
      "                                                            \r"
     ]
    },
    {
     "name": "stdout",
     "output_type": "stream",
     "text": [
      "Epoch [1/40]: loss 6.3187\n",
      "Query > how do you explain algorithm\n",
      " > the is is is the a a is a of\n",
      " > the is the the is the is is the a\n",
      " > the the is is a the the is of of a\n",
      "Query > what is a socket\n",
      " > the the is a a the the the of the the\n",
      " > the the the is the the the the the a a the the a\n",
      " > the the the a is is a is of the\n"
     ]
    },
    {
     "name": "stderr",
     "output_type": "stream",
     "text": [
      "                                                            \r"
     ]
    },
    {
     "name": "stdout",
     "output_type": "stream",
     "text": [
      "Epoch [2/40]: loss 5.9477\n",
      "Query > how do you explain algorithm\n",
      " > a is is the is is a the of of the\n",
      " > a is the a a is of is of is of the of\n",
      " > a a a is of is is is of is the\n",
      "Query > what is a socket\n",
      " > a is is the a is a is of\n",
      " > a is a the is of of of is\n",
      " > a a a is a is a is the\n"
     ]
    },
    {
     "name": "stderr",
     "output_type": "stream",
     "text": [
      "                                                            \r"
     ]
    },
    {
     "name": "stdout",
     "output_type": "stream",
     "text": [
      "Epoch [3/40]: loss 5.8795\n",
      "Query > how do you explain algorithm\n",
      " > a a the is is a is a the of of the the of of the of of of the a a the a a the a a a\n",
      " > a the is is the a is of the of the a the of the the a the the a a a\n",
      " > a the a a of is a a the the of a the a the of the a a a a\n",
      "Query > what is a socket\n",
      " > a a the is a is is the the of of of of the a a of the a a a a a\n",
      " > a the the the a of of a a of the the of the a of the the a\n",
      " > a a the a a of the the a of of a of the of a the a\n"
     ]
    },
    {
     "name": "stderr",
     "output_type": "stream",
     "text": [
      "                                                            \r"
     ]
    },
    {
     "name": "stdout",
     "output_type": "stream",
     "text": [
      "Epoch [4/40]: loss 5.7731\n",
      "Query > how do you explain algorithm\n",
      " > a the is a the a algorithm a algorithm a a the of algorithm of of of a the a a a the the of of the of the the\n",
      " > a algorithm a algorithm algorithm the a a a the a a a a algorithm of of a a of of the of a of the the the the a the\n",
      " > a a a a the the algorithm a algorithm a algorithm of algorithm of algorithm of a the of a of the the the the of a a the a\n",
      "Query > what is a socket\n",
      " > a algorithm is the algorithm algorithm a a a algorithm algorithm algorithm of a a a the a a the the a of the a of of of the a the of a a the\n",
      " > a the is the the the a the a algorithm algorithm of a algorithm algorithm of a a a the the a of a of a a a the of a\n",
      " > a the a a algorithm the algorithm of the a algorithm algorithm of the the the the a the of of of of a the the a of of a a the a a a the a the the a\n"
     ]
    },
    {
     "name": "stderr",
     "output_type": "stream",
     "text": [
      "                                                            \r"
     ]
    },
    {
     "name": "stdout",
     "output_type": "stream",
     "text": [
      "Epoch [5/40]: loss 5.5164\n",
      "Query > how do you explain algorithm\n",
      " > a a the a a algorithm for algorithm for the algorithm\n",
      " > a a the the algorithm is an a a a the a algorithm is the a algorithm is a the a algorithm\n",
      " > a the a algorithm for the a algorithm for a algorithm of the the the algorithm\n",
      "Query > what is a socket\n",
      " > a algorithm is an a a sort is a the algorithm of a the the the a a the algorithm\n",
      " > a algorithm is the algorithm for algorithm is a algorithm is an the algorithm of the the a the the the algorithm\n",
      " > a a a algorithm of a algorithm of a algorithm\n"
     ]
    },
    {
     "name": "stderr",
     "output_type": "stream",
     "text": [
      "                                                            \r"
     ]
    },
    {
     "name": "stdout",
     "output_type": "stream",
     "text": [
      "Epoch [6/40]: loss 5.2355\n",
      "Query > how do you explain algorithm\n",
      " > a the case search is an algorithm of the algorithm is the algorithm of the algorithm is the algorithm\n",
      " > a the algorithm of a algorithm of an algorithm for an algorithm of an algorithm\n",
      " > a algorithm algorithm of the algorithm of an search of an algorithm\n",
      "Query > what is a socket\n",
      " > a a sort for an search is the sort algorithm of the algorithm of the set of an graph of an\n",
      " > a algorithm is a sort algorithm is an sort algorithm is a graph of the set of the a graph\n",
      " > a algorithm for a algorithm is a search of a algorithm for a graph of a set in an set in a graph\n"
     ]
    },
    {
     "name": "stderr",
     "output_type": "stream",
     "text": [
      "                                                            \r"
     ]
    },
    {
     "name": "stdout",
     "output_type": "stream",
     "text": [
      "Epoch [7/40]: loss 4.9912\n",
      "Query > how do you explain algorithm\n",
      " > a time for a sort algorithm for the sort of the graph of an algorithm\n",
      " > a time for an algorithm for a graph for the tree of the set of the set of a graph of the graph in the graph of the graph of the process in a graph is an\n",
      " > a algorithm is the sort algorithm is the graph for a graph is an search for an algorithm is the graph of an algorithm\n",
      "Query > what is a socket\n",
      " > a algorithm for a sort is an sort of an sort is the sort for the sort of a set in an process of the order\n",
      " > a time is an search is the algorithm of the graph of a graph is an search is an algorithm is a tree is a tree is a tree of the set\n",
      " > a sort for a tree is the graph for an search for the tree is a tree\n"
     ]
    },
    {
     "name": "stderr",
     "output_type": "stream",
     "text": [
      "                                                            \r"
     ]
    },
    {
     "name": "stdout",
     "output_type": "stream",
     "text": [
      "Epoch [8/40]: loss 4.7453\n",
      "Query > how do you explain algorithm\n",
      " > the time method for a search for finding a sort\n",
      " > the time algorithm for finding an search for a tree of the tree\n",
      " > the time algorithm to an search algorithm for finding a graph is a set to an graph or graph\n",
      "Query > what is a socket\n",
      " > the tree for the sort for finding an sort for finding the tree is the graph\n",
      " > the time is the sort is the sort is the sort for the tree\n",
      " > the tree of the sort for an sort is an sort is an algorithm\n"
     ]
    },
    {
     "name": "stderr",
     "output_type": "stream",
     "text": [
      "                                                            \r"
     ]
    },
    {
     "name": "stdout",
     "output_type": "stream",
     "text": [
      "Epoch [9/40]: loss 4.5072\n",
      "Query > how do you explain algorithm\n",
      " > a graph for an search is the graph\n",
      " > a worst case efficiency and finding an algorithm\n",
      " > a worst graph algorithm for finding a graph is a sort for finding an undirected tree is an undirected set\n",
      "Query > what is a socket\n",
      " > a worst case algorithm of a search algorithm is the search algorithm for finding a tree of the graph is a graph\n",
      " > a graph algorithm is the tree to the set of the graph is the list of a graph\n",
      " > a worst sort is a tree to a graph for the set to a directed set\n"
     ]
    },
    {
     "name": "stderr",
     "output_type": "stream",
     "text": [
      "                                                             \r"
     ]
    },
    {
     "name": "stdout",
     "output_type": "stream",
     "text": [
      "Epoch [10/40]: loss 4.2334\n",
      "Query > how do you explain algorithm\n",
      " > a worst tree is an sorting search algorithm that uses the set of points in an input algorithm that\n",
      " > a best tree is the tree of a tree that in a set of points\n",
      " > a worst graph method for a sort is a sorting algorithm\n",
      "Query > what is a socket\n",
      " > the best tree for an sorting algorithm for finding the graph\n",
      " > the sorting algorithm is a search for finding the graph\n",
      " > the worst case performance of binary sort for finding a tree is a directed graph in the directed set\n"
     ]
    },
    {
     "name": "stderr",
     "output_type": "stream",
     "text": [
      "                                                             \r"
     ]
    },
    {
     "name": "stdout",
     "output_type": "stream",
     "text": [
      "Epoch [11/40]: loss 3.9348\n",
      "Query > how do you explain algorithm\n",
      " > a best tree is the sorting algorithm for finding a tree that in a directed tree that is a graph\n",
      " > a sorting algorithm is an as a sorting search that finds the graph for a set of points in a graph\n",
      " > a tree is the time algorithm\n",
      "Query > what is a socket\n",
      " > a sorting is the sorting search algorithm\n",
      " > a sorting is a sorting sort that is a tree that are the directed graph is a graph\n",
      " > a tree is the tree which can not applications are a node is used\n"
     ]
    },
    {
     "name": "stderr",
     "output_type": "stream",
     "text": [
      "                                                             \r"
     ]
    },
    {
     "name": "stdout",
     "output_type": "stream",
     "text": [
      "Epoch [12/40]: loss 3.5877\n",
      "Query > how do you explain algorithm\n",
      " > the thread or called memory type and automated data\n",
      " > the best case performance of binary tree is a hull of points\n",
      " > the best tree is a tree is an search algorithm\n",
      "Query > what is a socket\n",
      " > the best case algorithm for finding an sorting sort in finding an sorting search\n",
      " > the tree are a sequence and conquer is used in the tree which can execute n or an array is an order of the input or more order or small than n or a list or more node or called\n",
      " > the best tree or an performance to sorting sort that is a tree is a graph that puts not more sequences is called the tree is called the graph or called much n or called memory is called the tree\n"
     ]
    },
    {
     "name": "stderr",
     "output_type": "stream",
     "text": [
      "                                                             \r"
     ]
    },
    {
     "name": "stdout",
     "output_type": "stream",
     "text": [
      "Epoch [13/40]: loss 3.2072\n",
      "Query > how do you explain algorithm\n",
      " > the best case efficiency of selection on2\n",
      " > the best tree method for a tree in the tree in an graph that uses the directed graph\n",
      " > the best graph performance in selection on2 that that uses the set of points in an array\n",
      "Query > what is a socket\n",
      " > the worst case performance of binary sort\n",
      " > the sorting is the tree and conquer algorithm is an algorithm that uses the limited number and distinct is an methods of its other until the tree\n",
      " > the sorting is an algorithm for indexing of words by a graph such algorithm that is found in the list in a tree such a tree is called a tree\n"
     ]
    },
    {
     "name": "stderr",
     "output_type": "stream",
     "text": [
      "                                                             \r"
     ]
    },
    {
     "name": "stdout",
     "output_type": "stream",
     "text": [
      "Epoch [14/40]: loss 2.8179\n",
      "Query > how do you explain algorithm\n",
      " > a tree is an algorithm which puts not elements of an order to each node to any order are called any order\n",
      " > a sorting algorithm for sorting algorithm for finding the kth path from the list and distinct element it is called the minimum order of the tree\n",
      " > a sorting algorithm is a sorting algorithm that is a sorting algorithm that puts two elements is called an order to any array\n",
      "Query > what is a socket\n",
      " > a best list or sorting tree is an type and performance\n",
      " > a tree is an algorithm for large elements of the given order\n",
      " > a best tree algorithm is a convex sorting spanning sorting common algorithm\n"
     ]
    },
    {
     "name": "stderr",
     "output_type": "stream",
     "text": [
      "                                                             \r"
     ]
    },
    {
     "name": "stdout",
     "output_type": "stream",
     "text": [
      "Epoch [15/40]: loss 2.4508\n",
      "Query > how do you explain algorithm\n",
      " > the worst case performance space algorithm that uses an undirected graph\n",
      " > the best case algorithm or finding the kth set\n",
      " > the repeated execution to execution which takes not have a file which will not have we are dealing for it is called the same units or more parts of the os which does not processes\n",
      "Query > what is a socket\n",
      " > the best case performance of bubble sort on2 that uses olog the number of input space or less values to its goal out between two access\n",
      " > the worst binary list or nodes a more node can be found using a node which are found and conquer is an as graph with the connected\n",
      " > the best tree is a sorting algorithm that has the vertices of a list in the graph\n"
     ]
    },
    {
     "name": "stderr",
     "output_type": "stream",
     "text": [
      "                                                             \r"
     ]
    },
    {
     "name": "stdout",
     "output_type": "stream",
     "text": [
      "Epoch [16/40]: loss 2.1120\n",
      "Query > how do you explain algorithm\n",
      " > a sorting sort has all by an undirected graph such with an order or adjacent problem in graph\n",
      " > a way which provides not processes on an array to the background without resources so knows fixed program are maintained by other processes successfully are in an condition\n",
      " > a worst case performance and binary binary tree is a set and points and solve n mod the pair and input or small generally that in the result\n",
      "Query > what is a socket\n",
      " > the worst tree method is an sorting algorithm for large integers that connects all one between all elements\n",
      " > the worst tree has a smallest problem by every every order for an order and have adjacent vertex in the order which has n are nodes and be a distance\n",
      " > the repeated execution and execution and process that permits one processor from an processor that processes and a processor while a process has completed by in the operating factor and this queue does being not free\n"
     ]
    },
    {
     "name": "stderr",
     "output_type": "stream",
     "text": [
      "                                                             \r"
     ]
    },
    {
     "name": "stdout",
     "output_type": "stream",
     "text": [
      "Epoch [17/40]: loss 1.7915\n",
      "Query > how do you explain algorithm\n",
      " > in graph traversal a selection on2\n",
      " > in computing the maximum diagram\n",
      " > in graph traversal the known search paradigm that explores a bestfirst tree the process according of a goal element are used the most order or small useful in sorting such traversals can be inserted are be inserted at one or\n",
      "Query > what is a socket\n",
      " > the worst case efficiency of bubble sort algorithm that refers that a vertices to its array and euclidean all vertices or all two or more sources level from any high of the result\n",
      " > the average binary path or nodes can execute the left subtreevisit an node this technique is that useful as an order to any element\n",
      " > the best binary list between two points to every order\n"
     ]
    },
    {
     "name": "stderr",
     "output_type": "stream",
     "text": [
      "                                                             \r"
     ]
    },
    {
     "name": "stdout",
     "output_type": "stream",
     "text": [
      "Epoch [18/40]: loss 1.5362\n",
      "Query > how do you explain algorithm\n",
      " > in threaded memory if a processor that programs are not processes at a process at only one or more programs that may share process finally state time is a disk time that can be allocated to a printer to control\n",
      " > in graph theory an item in the tree is called a graph that try to two sequences with the input promising nodes\n",
      " > in graph theory the shortest connected complexity and on2\n",
      "Query > what is a socket\n",
      " > the worst tree is which programming to a set points in p is used and conquer repeatedly\n",
      " > the main difference or dynamic associated algorithms is used and median and medians to be used in a search is a directed graph which are small or less than\n",
      " > the main case is a convex sorting sorting algorithm that explores a a graph\n"
     ]
    },
    {
     "name": "stderr",
     "output_type": "stream",
     "text": [
      "                                                             \r"
     ]
    },
    {
     "name": "stdout",
     "output_type": "stream",
     "text": [
      "Epoch [19/40]: loss 1.3141\n",
      "Query > how do you explain algorithm\n",
      " > in a list a inverse point from the given data or nodes\n",
      " > in graph dm timesharing system a operating system allows an processor and a process usually run behind the cpu is usually control from the cpu between one process from each other in a program should control processes\n",
      " > in a list the function are nodes as a pair of nodes\n",
      "Query > what is a socket\n",
      " > the worst binary tree mst associated undirected tree such algorithm for a limited data\n",
      " > the best tree is an sorting algorithm that explores a a list\n",
      " > the bubble time sorting for computing the maximum flow by which all nodes can be a distance in all out of nodes it is reachable at the element in which the first than one edge has two vertex v v\n"
     ]
    },
    {
     "name": "stderr",
     "output_type": "stream",
     "text": [
      "                                                             \r"
     ]
    },
    {
     "name": "stdout",
     "output_type": "stream",
     "text": [
      "Epoch [20/40]: loss 1.1291\n",
      "Query > how do you explain algorithm\n",
      " > in a simple tree a binary graph has that is a path points to every nodes which may stacks in each key one than one or minimum component to the vertices and scheduling the required to obtain an error around\n",
      " > in graph theory a selection algorithm is a minimum algorithm is a minimum line clique whose or graph from large integer powers of an list such array it that exactly the connected vertex that uses the vertex a array in\n",
      " > in a simple tree a selection spanning tree is that every linear path from the connected problem of the edges or input size such as graph with directed weights\n",
      "Query > what is a socket\n",
      " > a graph in which every point\n",
      " > a graph in which every two convex collection or directed graph is either as graph with adjacent vertex that may contain wildcard syntax\n",
      " > a graph is which the time required on the convex set of nodes where the plane with minimum algorithm are distinct of a minimum order or a specified such also called serial complexity with find an integer\n"
     ]
    },
    {
     "name": "stderr",
     "output_type": "stream",
     "text": [
      "                                                             \r"
     ]
    },
    {
     "name": "stdout",
     "output_type": "stream",
     "text": [
      "Epoch [21/40]: loss 0.9759\n",
      "Query > how do you explain algorithm\n",
      " > in graph science usually strongly maximum efficiency from that operating system a queue for single software process from each other in a change to communicate with communicate\n",
      " > in computer if the distance between two point by sorted every vertex that connects all an vertex between first out until the order of its same without less order to solve easily where all the vertices into a error condition\n",
      " > in graph theory an approach of a region and search algorithm that uses similar and median of similar search as fast undirected complexity in\n",
      "Query > what is a socket\n",
      " > the best case algorithm to compute a kth smallest number and small order and v the left of one node at any element in which all any vertices\n",
      " > the best tree is graph as an undirected graph with a strongly connected and conquer algorithm that uses an upper vertex in a directed graph\n",
      " > the best case performance of bubble search search algorithm\n"
     ]
    },
    {
     "name": "stderr",
     "output_type": "stream",
     "text": [
      "                                                             \r"
     ]
    },
    {
     "name": "stdout",
     "output_type": "stream",
     "text": [
      "Epoch [22/40]: loss 0.8529\n",
      "Query > how do you explain algorithm\n",
      " > in graph letter by an unsorted path\n",
      " > in computer science b pronounced in sort traversal also is the selection algorithm for that finds a path between nodes\n",
      " > in computer science graph traversal also is the shortest search search algorithm that finds a minimum spanning tree in graph traversal the number of input items\n",
      "Query > what is a socket\n",
      " > the best binary graph for ordering the vertices from graph to every other is called the root or p with the goal adjacent vertex\n",
      " > the best binary tree is which every vertices\n",
      " > the best tree algorithm developed originally for an integer possible set on a number and v the nodes where n edge has no solutions at the range and order to any triangle or dtp the queue for\n"
     ]
    },
    {
     "name": "stderr",
     "output_type": "stream",
     "text": [
      "                                                             \r"
     ]
    },
    {
     "name": "stdout",
     "output_type": "stream",
     "text": [
      "Epoch [23/40]: loss 0.7494\n",
      "Query > how do you explain algorithm\n",
      " > in graph science graph traversal to known as graph for computing all words solutions or a path are found by an integer order or 4 are minimum possible number and operations or candidates to n are approximately the goal\n",
      " > in computer theory pairs search performance affecting services for operating when systems but this kernel ensures that a time this process is operations by other copies one queue into a prime\n",
      " > in a graph in a directed sort search on a sweep line problem to solve a minimum undirected directed graph\n",
      "Query > what is a socket\n",
      " > a graph is a sorting search algorithm for large quadratic order from the input in numerical complexity on\n",
      " > a socket takes a situation into that processes which are not yet mechanisms from it mode are known as context and one or more available as a set of threads this is called less name and completion\n",
      " > a socket takes the connection or traversed attached is that cannibalizing are type of finding it type on which the value of the tree has one used to determine one element in an value\n"
     ]
    },
    {
     "name": "stderr",
     "output_type": "stream",
     "text": [
      "                                                             \r"
     ]
    },
    {
     "name": "stdout",
     "output_type": "stream",
     "text": [
      "Epoch [24/40]: loss 0.6600\n",
      "Query > how do you explain algorithm\n",
      " > in this approach multiple point cloud are on one or less value on the function will not contain its given key level from an integer\n",
      " > in graph theory the minimum path between one type or algorithm is that this method is that every possible algorithm with the smallest vertices and data where its called x with its integer point\n",
      " > in graph drawing as a phonetic algorithm developed originally for directed graph for large integers\n",
      "Query > what is a socket\n",
      " > a sorting algorithm is a sorting search which is similar for solving an integer sorting sorting algorithm\n",
      " > a sorting algorithm is that it takes a problem of parallel\n",
      " > a sorting algorithm is an asymptotically fast algorithm that finds one problem in parallel processing and most as a graph such with an array or directed graph\n"
     ]
    },
    {
     "name": "stderr",
     "output_type": "stream",
     "text": [
      "                                                             \r"
     ]
    },
    {
     "name": "stdout",
     "output_type": "stream",
     "text": [
      "Epoch [25/40]: loss 0.5854\n",
      "Query > how do you explain algorithm\n",
      " > in computer passing it is the function based on a permutation and may be compared on a certain condition in an acyclic graph\n",
      " > in computer science b graph traversal to an algorithmic paradigm for that all the strongly maximum type from to a vertices in a search is that it is connected as the path or input with\n",
      " > in graph theory a strongly selection algorithm is an algorithm that puts elements of a list in which a array in order with other other exactly two vertex each node should its given possible vertex that may be inserted at\n",
      "Query > what is a socket\n",
      " > a sorting algorithm is the sorting algorithm which uses divide using a divide in graph\n",
      " > a thread technique that provides an extension of memory this is actually types and program actually register algorithm is equal at the disk and fixed program while the physical data between not allocated and the corresponding process does an environment\n",
      " > a sorting algorithm that uses suitable for sweep sweep paradigm of that every nodes is reachable from every vertex in an order often a small than n or equal to the goal whose vertex v in an integer possible solution\n"
     ]
    },
    {
     "name": "stderr",
     "output_type": "stream",
     "text": [
      "                                                             \r"
     ]
    },
    {
     "name": "stdout",
     "output_type": "stream",
     "text": [
      "Epoch [26/40]: loss 0.5262\n",
      "Query > how do you explain algorithm\n",
      " > is an optimal outputsensitive efficiency and reliability a process to be incorrect\n",
      " > is an optimal outputsensitive efficiency of linear graphs in an aestheticallypleasing algorithm is one or more surface or small vertex in a certain string or interpolated search\n",
      " > is an item and a program used of sorted lists and may occur with one property that have any item in first out until a abacus and conquer\n",
      "Query > what is a socket\n",
      " > a graph which originates and reliable time method\n",
      " > a sorting sort is an on graph as logarithms in a directed sorting where the edge successively nodes are called directed edge small vertex the directed edge have an integer order are called\n",
      " > a graph which originates by divide using that design in which every sequences with low subproblems are subproblems with each vertex\n"
     ]
    },
    {
     "name": "stderr",
     "output_type": "stream",
     "text": [
      "                                                             \r"
     ]
    },
    {
     "name": "stdout",
     "output_type": "stream",
     "text": [
      "Epoch [27/40]: loss 0.4683\n",
      "Query > how do you explain algorithm\n",
      " > this device is based on a loop between most extension of threads the value in which it can not delete the status of a unique decision has its input with other parts first completion processor when a second resource need\n",
      " > this device that determines when an incoming physical address at to complete are allocated to each data structures but only the cpu can not be replaced the latter has completed\n",
      " > this is the time management technique that takes a problem used which connects to itself is called an level\n",
      "Query > what is a socket\n",
      " > a socket provides that all the elements of an assignment eg that has its drives scanners on the drive started from on a time that\n",
      " > a sorting problemevent provides an object processes which may occur but in a certain condition the resources at one property that may execute one between more available when some processes but this process should be these are active\n",
      " > a sorting algorithm is an algorithm for sorting a collection of line segments but a array of a array typically adjacent integers that are typically equal to determine each node there on the same possible key v\n"
     ]
    },
    {
     "name": "stderr",
     "output_type": "stream",
     "text": [
      "                                                             \r"
     ]
    },
    {
     "name": "stdout",
     "output_type": "stream",
     "text": [
      "Epoch [28/40]: loss 0.4201\n",
      "Query > how do you explain algorithm\n",
      " > in a timesharing a cpu is an item by the multiprocessor systems it a queue is a critical application without available routine that is available for clients of run and all of all applications can be run as a basis\n",
      " > in computer science b graph traversal also on2\n",
      " > in graph traversal the selection search algorithm is the type of finding an algorithmchecking a vertices in a plane\n",
      "Query > what is a socket\n",
      " > a phonetic online algorithm is one search that explores a graph\n",
      " > a thread is a basic process which can execute when no processorsvirtual storagesource level are called sharing any two operations are waiting to be synchronization or users mutual circular behind systems which contains available without use of a thread data\n",
      " > a simple graph can related which the process from exactly one process at a process to be replaced the than a other process should some nodes this way to the value and a second time\n"
     ]
    },
    {
     "name": "stderr",
     "output_type": "stream",
     "text": [
      "                                                             \r"
     ]
    },
    {
     "name": "stdout",
     "output_type": "stream",
     "text": [
      "Epoch [29/40]: loss 0.3800\n",
      "Query > how do you explain algorithm\n",
      " > is an item in which every two strings is measured by their nonsharable levenshtein linked semaphore then any array or c are adjacent in text it is called collision will contain the explicit size of bruteforce list and insert this\n",
      " > is an item and graph for those those are sometimes called fragmentation type and is that they will find a solution and always be an item the root are nearly sequence and 4\n",
      " > is an algorithm for traversing a graph that is similar to that from an edge between the root that in p is called with edge weights are vertex the minimum edge between x with the other property with each edge\n",
      "Query > what is a socket\n",
      " > a socket can be page messages and quantum communication is empty\n",
      " > a thread for a network pages are in an array to the user mode and user addresses it is called kernel mode over the user of user operating during user processes are not free the state into that needed\n",
      " > a thread is a process that can reach completed and operating system systems can two processes are processes by some addresses it happens\n"
     ]
    },
    {
     "name": "stderr",
     "output_type": "stream",
     "text": [
      "                                                             \r"
     ]
    },
    {
     "name": "stdout",
     "output_type": "stream",
     "text": [
      "Epoch [30/40]: loss 0.3422\n",
      "Query > how do you explain algorithm\n",
      " > is memory refers a process that is process until a thread has completed and it the process has its useful by taking complete another is that io under this process and stays as an event to execute systems\n",
      " > is a specialpurpose approach and divide and insertion search algorithm\n",
      " > is an item in a sorted sequence\n",
      "Query > what is a socket\n",
      " > a graph in finding the mathematical bounding bounding hull or graph theory that have maximum vertex in graph with all other vertices one is inside an edge in a serial sorting\n",
      " > a graph in which every every edge that is process have a same method for minimum array or a graph that uses it can be inserted at one or called a goal position are minimized are edge in a directed\n",
      " > a simple diagram which does not execute multiple access is called a simple simple thread called dynamic all other edge should dynamic edge there has also other containing only any cells nodes\n"
     ]
    },
    {
     "name": "stderr",
     "output_type": "stream",
     "text": [
      "                                                             \r"
     ]
    },
    {
     "name": "stdout",
     "output_type": "stream",
     "text": [
      "Epoch [31/40]: loss 0.3092\n",
      "Query > how do you explain algorithm\n",
      " > is an item to a sequence or conquer is that graphs with an array or found with each property with each other between two vertices it called any edge x on a other or more possible programming and graphs\n",
      " > is memory letter in an scheme that a queue for execution with sorted useful for other or less useful on data\n",
      " > is a specialpurpose approach to calculating a convex sort for windows distributed a unordered typically small probability\n",
      "Query > what is a socket\n",
      " > a thread is to be page management as asked systems an processor that facilitates program system but also well when this process has communicate with other applications are synchronization devices and written when code are needed at the thread which\n",
      " > a thread is that processes that runs in the different free by memory they are allocated to any operating an critical processes from an processor a queue that interface task\n",
      " > a graph which originates using divide as objects as either computerserver systems on sorted order\n"
     ]
    },
    {
     "name": "stderr",
     "output_type": "stream",
     "text": [
      "                                                             \r"
     ]
    },
    {
     "name": "stdout",
     "output_type": "stream",
     "text": [
      "Epoch [32/40]: loss 0.2753\n",
      "Query > how do you explain algorithm\n",
      " > is a cycle that strategy in a graph is waiting as to stacks the cpu in an alternative cells are not process at the end of this process this technique for numerical analysis and\n",
      " > is an optimal outputsensitive algorithm which explores graph every two operations are small than the other vertex\n",
      " > is a cycle that is merely as collision\n",
      "Query > what is a socket\n",
      " > a thread is a program runs by that applications called an internal process pointers is synchronization until the most state is that useful it technique which has not contain its resources so the overall reliability it has to one or\n",
      " > a relatively simple sorting sorting that finds the leastcost path of a graph which has only each node for an weighted sorting list and always always once with a other node than a edge\n",
      " > a graph in a sorting algorithm for ordering all a edge is a process that is not available for as a goal than a order between two copies than a instances from once\n"
     ]
    },
    {
     "name": "stderr",
     "output_type": "stream",
     "text": [
      "                                                             \r"
     ]
    },
    {
     "name": "stdout",
     "output_type": "stream",
     "text": [
      "Epoch [33/40]: loss 0.2484\n",
      "Query > how do you explain algorithm\n",
      " > is memory wasted it are increased threads are dealing as we at we is dealing as the collision resolution strategy\n",
      " > is memory wasted if no jobs that are available for certain taking complete it is known effective a exclusion and synchronize concurrent jobs\n",
      " > is a specified time takes an as a useful as graph as linear as as given edge have a directed directed as a graph called directed graphs such a tree uses graph with its adjacent node x to x the\n",
      "Query > what is a socket\n",
      " > a sorting sort for sorting a minimum path from which every vertex or directed graph\n",
      " > a graph in which all every number of nodes each structure in the list and v if one or more than root degree than the right possible number is that out of one node\n",
      " > a sorting sort for finding the maximum flow of an undirected graph but may represent\n"
     ]
    },
    {
     "name": "stderr",
     "output_type": "stream",
     "text": [
      "                                                             \r"
     ]
    },
    {
     "name": "stdout",
     "output_type": "stream",
     "text": [
      "Epoch [34/40]: loss 0.2283\n",
      "Query > how do you explain algorithm\n",
      " > is an item in a graph which contains speed and collection is points as called strongly binary list but\n",
      " > is an algorithm that employs an integer into linear order that is either in array to the mathematical vertex that can have strictly values between one data are node\n",
      " > is the specialpurpose diagram of growth\n",
      "Query > what is a socket\n",
      " > a relatively thread is that every linear operating systems there runs in the thread software that so a thread is allocated as a set of operations\n",
      " > a thread is a process line under two least systems pointers also executed in an internal cell it is also known as a branch a tree the purpose operator as a interrupt used in the new resource may requires dynamic\n",
      " > a thread that takes an problem where a process has one called traverse this operating systems it also resource is more by it is done and update it is also collision\n"
     ]
    },
    {
     "name": "stderr",
     "output_type": "stream",
     "text": [
      "                                                             \r"
     ]
    },
    {
     "name": "stdout",
     "output_type": "stream",
     "text": [
      "Epoch [35/40]: loss 0.2036\n",
      "Query > how do you explain algorithm\n",
      " > is an optimal outputsensitive as connected\n",
      " > is an optimal outputsensitive diagram where by linear by a values to nodes uv at v as their numbers in found it may contain dynamic edge v determines it first its implementation end are as the candidate is used for\n",
      " > is memory wasted it can execute when no operations are dealing on the same units resolution strategy the implementation has completed\n",
      "Query > what is a socket\n",
      " > a thread is that processes are threads at the thread called nodes if they are more available for having the resources are available for use by new processes for which this interrupt signal and tells a processor and based on\n",
      " > a graph is which finds kernel that is more than one item in an order is called as linear vertex for the leaves are as exactly any vertices and average data has not adjacent in finding the same distance ie\n",
      " > a thread technique that provides an instance of memory they are actually at an edge in computer data the number data has not be more before level by the subprocess has like an abstract address is considered on the drive\n"
     ]
    },
    {
     "name": "stderr",
     "output_type": "stream",
     "text": [
      "                                                             \r"
     ]
    },
    {
     "name": "stdout",
     "output_type": "stream",
     "text": [
      "Epoch [36/40]: loss 0.1860\n",
      "Query > how do you explain algorithm\n",
      " > is a cycle in function value by a array node that have empty the value of the heap usually adding they also they can share the value holds the address of all storage node that contains the root from one\n",
      " > is an optimal multiplication complexity of finding binary list in which out or small values to 2 or 3dimensional binary list\n",
      " > is a base of both every of gcd with their parent until right elements\n",
      "Query > what is a socket\n",
      " > a graph in finding the minimum bounding box calculated subject to no constraints on that the orientation to any final state is graph the average search performance the time it is an integer combination\n",
      " > a graph is that it is a type of scheduling that can be used in an edge is called a simple sorting such with each other has a vertex in finding all weights v u u and so the second\n",
      " > a graph is that it takes a edge between the leaves x on an key than the root and the smallest node the prime from a parent of a node has any number of processes\n"
     ]
    },
    {
     "name": "stderr",
     "output_type": "stream",
     "text": [
      "                                                             \r"
     ]
    },
    {
     "name": "stdout",
     "output_type": "stream",
     "text": [
      "Epoch [37/40]: loss 0.1666\n",
      "Query > how do you explain algorithm\n",
      " > is memory refers the data structure is likely that are the process to be determined to some addresses the machine address are user will be known as required the number of operations at one time in which\n",
      " > is an optimal outputsensitive technique of computing the convex common collection of points to n which is initial points in the directed sorting it is v\n",
      " > is a specialpurpose sorting algorithm which uses similar and insertion search that solves the graph that is connected as an optimization in a computer number and uses its values in the case and array to the shortest path x in\n",
      "Query > what is a socket\n",
      " > a socket provides a connection between one of two applications each abstract basic terminal nodes node in the certain array\n",
      " > a simple diagram where n can have any obstacle\n",
      " > a graph which has only two vertex can be called order can not have one or more than we pointers can be root with each other v nodes exactly the same position are connected as a edge structure also parallel\n"
     ]
    },
    {
     "name": "stderr",
     "output_type": "stream",
     "text": [
      "                                                             \r"
     ]
    },
    {
     "name": "stdout",
     "output_type": "stream",
     "text": [
      "Epoch [38/40]: loss 0.1500\n",
      "Query > how do you explain algorithm\n",
      " > is a cycle in value with the input node called adjacent empty this algorithm are distinct to an order to the goal subtree in preceding complex the root\n",
      " > is an approach of an infinite function or that strings with their pair or more numbers in found with each vertex in first they is v\n",
      " > is an item to an unsorted sequence but with all edge applications want on to any input array or numerical level or an abacus\n",
      "Query > what is a socket\n",
      " > a socket is used to make connection between one of two subproblems are more than we applications can be several find a amount of time they has any parent then the linked list pages are another node in the list\n",
      " > a thread is that processes which are not yet mechanisms wait that has only requires they does requires this time they are not resources it is not available as known whenever the thread structure it provides the user that they\n",
      " > a thread that takes a source have one type between data type and on the less than or less element one contains then equal or last subtree with equal and use contain data defined and wait that can not execute\n"
     ]
    },
    {
     "name": "stderr",
     "output_type": "stream",
     "text": [
      "                                                             \r"
     ]
    },
    {
     "name": "stdout",
     "output_type": "stream",
     "text": [
      "Epoch [39/40]: loss 0.1389\n",
      "Query > how do you explain algorithm\n",
      " > is a specialpurpose diagram in by least the elements in which each node are called as least out or less than\n",
      " > is an approach and computing the function that is not sequences and conquer as directed as every vertex is a distance point in the linked list but it is connected as an edge called a numerical specified\n",
      " > is a specialpurpose diagram\n",
      "Query > what is a socket\n",
      " > a recursive diagram with be classified as their levenshtein node that have a linked list has only adjacent adjacent occurs it is applicable which method which is either integer\n",
      " > a recursive algorithm for determining roots polynomials in many sound when pronounced in english\n",
      " > a lineartime algorithm used for indexing of words by their pronunciation may be found\n"
     ]
    },
    {
     "name": "stderr",
     "output_type": "stream",
     "text": [
      "                                                             \r"
     ]
    },
    {
     "name": "stdout",
     "output_type": "stream",
     "text": [
      "Epoch [40/40]: loss 0.1235\n",
      "Query > how do you explain algorithm\n",
      " > is a specialpurpose algorithm meaning on the shortest paths between data\n",
      " > is memory letter when one data is more useful in list such algorithm such as implementation or find the cycle in linked lists occurs\n",
      " > is a generic means in an undirected graph with every two more more adjacent point will not have the same combination ie as it occupies ie than the goal child node is composed and a table organized so the second\n",
      "Query > what is a socket\n",
      " > a lineartime online algorithm to compute a multiplication algorithm or building graph for some integer vertex it uses depthfirst as a integer integer integer order called the travelling level using a integer whose\n",
      " > a thread is a basic unit and part points of an array node on an event of any at the first the element has this is called underflow\n",
      " > a socket is usually as an extension of processes it is execution and particular programs the most time units\n"
     ]
    }
   ],
   "source": [
    "for epoch in range(num_epochs):\n",
    "    model.train()\n",
    "    trainX, trainY = shuffle(trainX, trainY, random_state=0)\n",
    "    total_loss, n_iter = 0, 0\n",
    "    for x,y in tqdm(tl.iterate.minibatches(inputs=trainX,targets=trainY,batch_size=batch_size,shuffle=False),\n",
    "                    total=num_steps,desc='Epoch[{}/{}]'.format(epoch + 1, num_epochs), leave=False):\n",
    "        x =tl.prepro.pad_sequences(x)\n",
    "        target_sequences = tl.prepro.sequences_add_end_id(y,end_id=end_id)\n",
    "        target_sequences = tl.prepro.pad_sequences(target_sequences, maxlen= decoder_seq_length)\n",
    "        decode_sequences = tl.prepro.sequences_add_start_id(y,start_id=start_id,remove_last=False)\n",
    "        decode_sequences = tl.prepro.pad_sequences(decode_sequences, maxlen=decoder_seq_length)\n",
    "        target_mask = tl.prepro.sequences_get_mask(target_sequences)\n",
    "        with tf.GradientTape() as tape:\n",
    "            ## compute outputs\n",
    "            output = model(inputs = [x, decode_sequences])\n",
    "                \n",
    "            output = tf.reshape(output, [-1, vocab_size])\n",
    "            ## compute loss and update model\n",
    "            loss = tl.cost.cross_entropy_seq_with_mask(logits=output, target_seqs=target_sequences, input_mask=target_mask)\n",
    "\n",
    "            grad = tape.gradient(loss, model.all_weights)\n",
    "            optimizer.apply_gradients(zip(grad, model.all_weights))\n",
    "            \n",
    "            total_loss += loss\n",
    "            n_iter += 1\n",
    "\n",
    "        # printing average loss after every epoch\n",
    "    print('Epoch [{}/{}]: loss {:.4f}'.format(epoch + 1, num_epochs, total_loss / n_iter))\n",
    "    for seed in seeds:\n",
    "        print(\"Query >\", seed)\n",
    "        top_n = 3\n",
    "        for i in range(top_n):\n",
    "            sentence = inference(seed, top_n)\n",
    "            print(\" >\", ' '.join(sentence))\n",
    "\n"
   ]
  },
  {
   "cell_type": "code",
   "execution_count": 14,
   "metadata": {},
   "outputs": [],
   "source": [
    "def inference(seed, top_n):\n",
    "        model.eval()\n",
    "        seed_id = [word2index.get(w, unk_id) for w in word_tokenize(seed)]\n",
    "        sentence_id = model(inputs=[[seed_id]], seq_length=40, start_token=start_id, top_n = top_n)\n",
    "        sentence = []\n",
    "        for w_id in sentence_id[0]:\n",
    "            w = index2word[w_id]\n",
    "            if w == 'end_id':\n",
    "                break\n",
    "            sentence = sentence + [w]\n",
    "        return sentence"
   ]
  },
  {
   "cell_type": "code",
   "execution_count": 57,
   "metadata": {},
   "outputs": [],
   "source": [
    "test = \"what is an algorithm\""
   ]
  },
  {
   "cell_type": "code",
   "execution_count": 65,
   "metadata": {},
   "outputs": [
    {
     "name": "stdout",
     "output_type": "stream",
     "text": [
      "what is an algorithm ?\n",
      " > an algorithm is an unambiguous specification of how to solve a class of problems "
     ]
    }
   ],
   "source": [
    "print(test, end=' ?\\n > ')\n",
    "for word in inference(test,1):\n",
    "    print(word, end=' ')"
   ]
  },
  {
   "cell_type": "code",
   "execution_count": 52,
   "metadata": {},
   "outputs": [
    {
     "name": "stdout",
     "output_type": "stream",
     "text": [
      "[TL] [*] Saving TL weights into my_model\n",
      "[TL] [*] Saved\n"
     ]
    }
   ],
   "source": [
    "model.save_weights('my_model')"
   ]
  },
  {
   "cell_type": "code",
   "execution_count": null,
   "metadata": {},
   "outputs": [],
   "source": []
  }
 ],
 "metadata": {
  "kernelspec": {
   "display_name": "base",
   "language": "python",
   "name": "python3"
  },
  "language_info": {
   "codemirror_mode": {
    "name": "ipython",
    "version": 3
   },
   "file_extension": ".py",
   "mimetype": "text/x-python",
   "name": "python",
   "nbconvert_exporter": "python",
   "pygments_lexer": "ipython3",
   "version": "3.11.4"
  }
 },
 "nbformat": 4,
 "nbformat_minor": 2
}
